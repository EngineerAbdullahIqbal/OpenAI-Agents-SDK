{
 "cells": [
  {
   "cell_type": "code",
   "execution_count": 1,
   "id": "50dada5c",
   "metadata": {},
   "outputs": [
    {
     "name": "stdout",
     "output_type": "stream",
     "text": [
      "Requirement already satisfied: pip in c:\\users\\abdullah\\appdata\\local\\programs\\python\\python313\\lib\\site-packages (25.0.1)\n",
      "Collecting pip\n",
      "  Using cached pip-25.1-py3-none-any.whl.metadata (3.6 kB)\n",
      "Using cached pip-25.1-py3-none-any.whl (1.8 MB)\n"
     ]
    },
    {
     "name": "stderr",
     "output_type": "stream",
     "text": [
      "\n",
      "[notice] A new release of pip is available: 25.0.1 -> 25.1\n",
      "[notice] To update, run: python.exe -m pip install --upgrade pip\n",
      "ERROR: To modify pip, please run the following command:\n",
      "C:\\Users\\ABDULLAH\\AppData\\Local\\Programs\\Python\\Python313\\python.exe -m pip install --upgrade pip\n"
     ]
    }
   ],
   "source": [
    "!pip install --upgrade pip"
   ]
  },
  {
   "cell_type": "code",
   "execution_count": 2,
   "id": "82a8a9e4",
   "metadata": {},
   "outputs": [
    {
     "name": "stderr",
     "output_type": "stream",
     "text": [
      "\n",
      "[notice] A new release of pip is available: 25.0.1 -> 25.1\n",
      "[notice] To update, run: python.exe -m pip install --upgrade pip\n"
     ]
    }
   ],
   "source": [
    "!pip install -Uq openai-agents"
   ]
  },
  {
   "cell_type": "code",
   "execution_count": 3,
   "id": "df40be04",
   "metadata": {},
   "outputs": [],
   "source": [
    "import nest_asyncio\n",
    "nest_asyncio.apply()"
   ]
  },
  {
   "cell_type": "code",
   "execution_count": 21,
   "id": "9b25ede9",
   "metadata": {},
   "outputs": [],
   "source": [
    "import os \n",
    "from dotenv import load_dotenv, find_dotenv\n",
    "\n",
    "load_dotenv(find_dotenv())\n",
    "\n",
    "api_key = os.getenv(\"GEMINI_API_KEY\")\n",
    "MODEL = \"gemini-2.0-flash\""
   ]
  },
  {
   "cell_type": "code",
   "execution_count": 22,
   "id": "ed7de912",
   "metadata": {},
   "outputs": [],
   "source": [
    "from pyexpat import model\n",
    "from agents import Agent , Runner , AsyncOpenAI , OpenAIChatCompletionsModel , function_tool\n",
    "from agents.run import RunConfig\n",
    "\n",
    "# Check if the API key is present; if not, raise an error\n",
    "if not api_key:\n",
    "    raise ValueError(\"GEMINI_API_KEY is not set. Please ensure it is defined in your .env file.\")\n",
    "\n",
    "#Reference: https://ai.google.dev/gemini-api/docs/openai\n",
    "external_client = AsyncOpenAI(\n",
    "    api_key=api_key,\n",
    "    base_url=\"https://generativelanguage.googleapis.com/v1beta/openai/\",\n",
    ")\n",
    "\n",
    "model = OpenAIChatCompletionsModel(\n",
    "    model=\"gemini-2.0-flash\",\n",
    "    openai_client=external_client\n",
    ")\n",
    "\n",
    "config = RunConfig(\n",
    "    model=model,\n",
    "    model_provider=external_client,\n",
    "    tracing_disabled=True\n",
    ")"
   ]
  },
  {
   "cell_type": "code",
   "execution_count": 25,
   "id": "466b0cc6",
   "metadata": {},
   "outputs": [
    {
     "name": "stdout",
     "output_type": "stream",
     "text": [
      "--- weather tool Called ---\n",
      "The Weather is Sunny in Karachi\n"
     ]
    }
   ],
   "source": [
    "from importlib.abc import InspectLoader\n",
    "\n",
    "\n",
    "@function_tool\n",
    "def get_current_weather(city:str):\n",
    "    \"\"\"Get Current Weather Informations\"\"\"\n",
    "    print(\"--- weather tool Called ---\")\n",
    "    return f\"The Weather is Sunny in {city}\"\n",
    "\n",
    "weather_agent = Agent(\n",
    "    name=\"weather_agent\",\n",
    "    instructions=\"You are an Expert weather agent answer the user query for weather.\",\n",
    "    model=model,\n",
    "    tools=[get_current_weather]\n",
    ")\n",
    "\n",
    "result = Runner.run_sync(weather_agent , \"What is The Current weather in Karachi\" , run_config=config)\n",
    "print(result.final_output)"
   ]
  },
  {
   "cell_type": "markdown",
   "id": "72c6458d",
   "metadata": {},
   "source": [
    "# Real Time Weather Update With Tool Calling"
   ]
  },
  {
   "cell_type": "code",
   "execution_count": 30,
   "id": "684f50c1",
   "metadata": {},
   "outputs": [],
   "source": [
    "import requests\n",
    "@function_tool\n",
    "def get_weather(city:str)->str:\n",
    "    print(f\"--- Current Weather Tool Called for {city} --- \")\n",
    "    \"\"\"\n",
    "    Get the current weather for a given city.\n",
    "    \"\"\"\n",
    "    result=requests.get(f\"http://api.weatherapi.com/v1/current.json?key=8e3aca2b91dc4342a1162608252604&q={city}\")\n",
    "    data=result.json()\n",
    "    return f\"The current weather in {city} is {data['current']['temp_c']}°C with {data['current']['condition']['text']}.\"\n"
   ]
  },
  {
   "cell_type": "code",
   "execution_count": 32,
   "id": "94641d4e",
   "metadata": {},
   "outputs": [
    {
     "name": "stdout",
     "output_type": "stream",
     "text": [
      "--- Current Weather Tool Called for Bombay --- \n",
      "The current weather in Bombay is 32.4°C with Mist.\n",
      "\n"
     ]
    }
   ],
   "source": [
    "agent = Agent(\n",
    "    name=\"weather_agent\",\n",
    "    instructions=\"You are an Expert weather agent answer the user query for weather.\",\n",
    "    model=model,\n",
    "    tools=[get_weather]\n",
    ")\n",
    "\n",
    "result = Runner.run_sync(agent , \"What is The Current weather in Bombay\" , run_config=config)\n",
    "print(result.final_output)"
   ]
  },
  {
   "cell_type": "code",
   "execution_count": 41,
   "id": "07c4f19c",
   "metadata": {},
   "outputs": [],
   "source": [
    "@function_tool\n",
    "def getWeather(city: str) -> str:\n",
    "    \"\"\"\n",
    "    Get the weather for a given city.\n",
    "    \"\"\"\n",
    "    # Replace with your actual weather API URL and key\n",
    "    result = requests.get(f\"http://api.weatherapi.com/v1/current.json?key=8e3aca2b91dc4342a1162608252604&q={city}\")\n",
    "    \n",
    "    if result.status_code == 200:\n",
    "        data = result.json()\n",
    "        return f\"The weather in {city} is {data['current']['temp_c']}°C with {data['current']['condition']['text']}.\"\n",
    "    else:\n",
    "        return \"Sorry, I couldn't fetch the weather data.\""
   ]
  },
  {
   "cell_type": "code",
   "execution_count": 42,
   "id": "0cefd7bf",
   "metadata": {},
   "outputs": [],
   "source": [
    "weather_agent1 = Agent(\n",
    "    name=\"weather_agent\",\n",
    "    instructions=\"You are an Expert weather agent answer the user query for weather.\",\n",
    "    model=model,\n",
    "    tools=[getWeather]\n",
    ")"
   ]
  },
  {
   "cell_type": "code",
   "execution_count": 43,
   "id": "c243ceba",
   "metadata": {},
   "outputs": [
    {
     "name": "stdout",
     "output_type": "stream",
     "text": [
      "The weather in Bombay is 32.4°C with Mist.\n",
      "\n"
     ]
    }
   ],
   "source": [
    "result = Runner.run_sync(weather_agent1 , \"What is The Current weather in Bombay\" , run_config=config)\n",
    "print(result.final_output)"
   ]
  }
 ],
 "metadata": {
  "kernelspec": {
   "display_name": "Python 3",
   "language": "python",
   "name": "python3"
  },
  "language_info": {
   "codemirror_mode": {
    "name": "ipython",
    "version": 3
   },
   "file_extension": ".py",
   "mimetype": "text/x-python",
   "name": "python",
   "nbconvert_exporter": "python",
   "pygments_lexer": "ipython3",
   "version": "3.13.3"
  }
 },
 "nbformat": 4,
 "nbformat_minor": 5
}
