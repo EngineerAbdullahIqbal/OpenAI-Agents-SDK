{
  "nbformat": 4,
  "nbformat_minor": 0,
  "metadata": {
    "colab": {
      "provenance": []
    },
    "kernelspec": {
      "name": "python3",
      "display_name": "Python 3"
    },
    "language_info": {
      "name": "python"
    }
  },
  "cells": [
    {
      "cell_type": "code",
      "execution_count": 2,
      "metadata": {
        "colab": {
          "base_uri": "https://localhost:8080/"
        },
        "id": "PetKUbaqCM5S",
        "outputId": "2ff1c3c0-8897-413c-9dba-0a9aac94b00e"
      },
      "outputs": [
        {
          "output_type": "stream",
          "name": "stdout",
          "text": [
            "\u001b[?25l   \u001b[90m━━━━━━━━━━━━━━━━━━━━━━━━━━━━━━━━━━━━━━━━\u001b[0m \u001b[32m0.0/116.8 kB\u001b[0m \u001b[31m?\u001b[0m eta \u001b[36m-:--:--\u001b[0m\r\u001b[2K   \u001b[90m━━━━━━━━━━━━━━━━━━━━━━━━━━━━━━━━━━━━━━━━\u001b[0m \u001b[32m116.8/116.8 kB\u001b[0m \u001b[31m3.4 MB/s\u001b[0m eta \u001b[36m0:00:00\u001b[0m\n",
            "\u001b[?25h\u001b[?25l   \u001b[90m━━━━━━━━━━━━━━━━━━━━━━━━━━━━━━━━━━━━━━━━\u001b[0m \u001b[32m0.0/129.3 kB\u001b[0m \u001b[31m?\u001b[0m eta \u001b[36m-:--:--\u001b[0m\r\u001b[2K   \u001b[90m━━━━━━━━━━━━━━━━━━━━━━━━━━━━━━━━━━━━━━━━\u001b[0m \u001b[32m129.3/129.3 kB\u001b[0m \u001b[31m7.3 MB/s\u001b[0m eta \u001b[36m0:00:00\u001b[0m\n",
            "\u001b[2K   \u001b[90m━━━━━━━━━━━━━━━━━━━━━━━━━━━━━━━━━━━━━━━━\u001b[0m \u001b[32m76.1/76.1 kB\u001b[0m \u001b[31m4.2 MB/s\u001b[0m eta \u001b[36m0:00:00\u001b[0m\n",
            "\u001b[2K   \u001b[90m━━━━━━━━━━━━━━━━━━━━━━━━━━━━━━━━━━━━━━━━\u001b[0m \u001b[32m661.2/661.2 kB\u001b[0m \u001b[31m21.0 MB/s\u001b[0m eta \u001b[36m0:00:00\u001b[0m\n",
            "\u001b[2K   \u001b[90m━━━━━━━━━━━━━━━━━━━━━━━━━━━━━━━━━━━━━━━━\u001b[0m \u001b[32m44.4/44.4 kB\u001b[0m \u001b[31m2.6 MB/s\u001b[0m eta \u001b[36m0:00:00\u001b[0m\n",
            "\u001b[2K   \u001b[90m━━━━━━━━━━━━━━━━━━━━━━━━━━━━━━━━━━━━━━━━\u001b[0m \u001b[32m72.0/72.0 kB\u001b[0m \u001b[31m4.4 MB/s\u001b[0m eta \u001b[36m0:00:00\u001b[0m\n",
            "\u001b[2K   \u001b[90m━━━━━━━━━━━━━━━━━━━━━━━━━━━━━━━━━━━━━━━━\u001b[0m \u001b[32m62.5/62.5 kB\u001b[0m \u001b[31m3.9 MB/s\u001b[0m eta \u001b[36m0:00:00\u001b[0m\n",
            "\u001b[?25h"
          ]
        }
      ],
      "source": [
        "!pip install -q -U openai-agents"
      ]
    },
    {
      "cell_type": "code",
      "source": [
        "import nest_asyncio\n",
        "nest_asyncio.apply()"
      ],
      "metadata": {
        "id": "n3hEMwFtCpK_"
      },
      "execution_count": 3,
      "outputs": []
    },
    {
      "cell_type": "code",
      "source": [
        "from google.colab import userdata\n",
        "GEMINI_API_KEY = userdata.get(\"GEMINI_API_KEY\")\n",
        "model = \"gemini-2.0-flash\""
      ],
      "metadata": {
        "id": "ngtjBYu9Croy"
      },
      "execution_count": 4,
      "outputs": []
    },
    {
      "cell_type": "code",
      "source": [
        "from agents import Agent , AsyncOpenAI , OpenAIChatCompletionsModel , RunConfig , Runner , set_tracing_disabled\n",
        "from agents.extensions.visualization import draw_graph"
      ],
      "metadata": {
        "id": "DuVFWY2QC_uG"
      },
      "execution_count": 5,
      "outputs": []
    },
    {
      "cell_type": "code",
      "source": [
        "set_tracing_disabled(True)"
      ],
      "metadata": {
        "id": "VBHtWIVxJybx"
      },
      "execution_count": 6,
      "outputs": []
    },
    {
      "cell_type": "code",
      "source": [
        "external_client = AsyncOpenAI(\n",
        "        api_key=GEMINI_API_KEY,\n",
        "        base_url=\"https://generativelanguage.googleapis.com/v1beta/openai/\"\n",
        "    )\n",
        "\n",
        "model = OpenAIChatCompletionsModel(\n",
        "        model=model,\n",
        "        openai_client=external_client,\n",
        "    )\n",
        "\n",
        "config = RunConfig(\n",
        "        model=model,\n",
        "        model_provider=external_client,\n",
        "        tracing_disabled=True\n",
        "    )\n"
      ],
      "metadata": {
        "id": "BEgyVMolCca2"
      },
      "execution_count": 7,
      "outputs": []
    },
    {
      "cell_type": "code",
      "source": [
        "web_developer = Agent(\n",
        "    name=\"web_developer\",\n",
        "    instructions=\"You are expert in Full-stack web development\",\n",
        "    model=model\n",
        ")\n",
        "\n",
        "app_developer = Agent(\n",
        "    name=\"app_developer\",\n",
        "    instructions=\"You are expert in responsive app development core concepts\",\n",
        "    model=model\n",
        ")\n",
        "\n",
        "Backend_develoepr = Agent(\n",
        "    name=\"Backend_develoepr\",\n",
        "    instructions=\"You are expert in backend development\",\n",
        "    model=model\n",
        ")\n",
        "\n",
        "Dev_ops_expert = Agent(\n",
        "    name=\"Dev_ops_expert\",\n",
        "    instructions=\"You are expert in DevOps\",\n",
        "    model=model\n",
        ")\n",
        "\n",
        "Agentic_AI_Expert = Agent(\n",
        "    name=\"Agentic_AI_Expert\",\n",
        "    instructions=\"You are an Agentic AI Expert Solve All Problems About AI & Agentic AI. You are capable to use your Agents as a tool.\",\n",
        "    model=model,\n",
        "    tools = [\n",
        "        Backend_develoepr.as_tool(\n",
        "            tool_name=\"Backend_develoepr\",\n",
        "            tool_description=\"You are expert in Backend Langueges and services.\"\n",
        "        ),\n",
        "        Dev_ops_expert.as_tool(\n",
        "            tool_name=\"Dev_ops\",\n",
        "            tool_description=\"You are an Expert in devops services and cloud.\"\n",
        "        )\n",
        "    ],\n",
        ")\n",
        "\n",
        "\n",
        "panacloud_assistant = Agent(\n",
        "    name=\"panacloud_assistat\",\n",
        "    instructions=\"you are expert in panacloud services and use your expert agent according to your Given Experts Agents.\",\n",
        "    model=OpenAIChatCompletionsModel(model=\"gemini/2.5-flash-exp\" , openai_client=external_client),\n",
        "    handoffs = [web_developer , app_developer , Agentic_AI_Expert],\n",
        "    handoff_description=\"You have multiple agents expert to use accourding to user query e:g. web_developer , app_developer , Agentic_AI_expert\"\n",
        ")\n"
      ],
      "metadata": {
        "id": "IGk8U80YDRDu"
      },
      "execution_count": 8,
      "outputs": []
    },
    {
      "cell_type": "code",
      "source": [
        "result = Runner.run_sync(panacloud_assistant , \"I want to learn about routes in react.\" , run_config=config)\n",
        "print(result.last_agent.name)\n",
        "print(result.final_output)"
      ],
      "metadata": {
        "colab": {
          "base_uri": "https://localhost:8080/"
        },
        "id": "-Dze5xhGILeJ",
        "outputId": "fbb341df-4946-4320-cc73-bc669263df7d"
      },
      "execution_count": 9,
      "outputs": [
        {
          "output_type": "stream",
          "name": "stdout",
          "text": [
            "web_developer\n",
            "Okay, let's dive into routes in React! Routing is a fundamental part of building single-page applications (SPAs) with React.  It allows you to navigate between different \"pages\" or views within your application without requiring a full page reload from the server.  This provides a smoother and more responsive user experience.\n",
            "\n",
            "Here's a breakdown of the key concepts and how to implement routing in React:\n",
            "\n",
            "**1. Why Routing is Needed in React SPAs**\n",
            "\n",
            "*   **Traditional Websites:** In traditional websites, each link click sends a request to the server, which then sends back an entirely new HTML page.  This results in a full page reload, which can be slow and disruptive.\n",
            "\n",
            "*   **React SPAs:** React SPAs work differently.  They load a single HTML page initially, and then JavaScript manipulates the DOM (Document Object Model) to update the content dynamically. Routing manages which components are rendered based on the current URL.\n",
            "\n",
            "**2. Key Concepts**\n",
            "\n",
            "*   **Route:** A route is a mapping between a URL path (e.g., `/about`, `/products/123`) and a specific React component.\n",
            "\n",
            "*   **Router:** A router is a component that listens for changes in the browser's URL and renders the appropriate component based on the defined routes.\n",
            "\n",
            "*   **Link (or Navigation):**  Links (often using a specific component provided by the routing library) allow users to navigate between different routes within your application.  They typically modify the URL without causing a full page reload.\n",
            "\n",
            "**3. Popular React Routing Libraries**\n",
            "\n",
            "The most popular and widely used routing library in React is **React Router**.  It provides a comprehensive set of components and hooks for handling routing in your application.  Other options exist, but React Router is the industry standard.\n",
            "\n",
            "*   **React Router DOM:** The most common sub-package of React Router, specifically designed for web browsers.\n",
            "\n",
            "**4. Setting Up React Router**\n",
            "\n",
            "   * **Installation:**\n",
            "\n",
            "     ```bash\n",
            "     npm install react-router-dom\n",
            "     # or\n",
            "     yarn add react-router-dom\n",
            "     ```\n",
            "\n",
            "**5. Core Components and Hooks in React Router DOM**\n",
            "\n",
            "   *   **`BrowserRouter`:** A router that uses the HTML5 history API (`pushState`, `replaceState`, and the `popstate` event) to keep your UI in sync with the URL.  It's the most common choice for web applications.  You wrap your entire application with `BrowserRouter`.\n",
            "\n",
            "   *   **`Routes`:**  A component that acts as a container for your `Route` components. It renders the *first* `Route` that matches the current URL.\n",
            "\n",
            "   *   **`Route`:**  Defines a mapping between a specific path and a component.  It takes two main props:\n",
            "\n",
            "        *   `path`: The URL path to match (e.g., `/about`, `/products/:id`). You can use parameters in the path (e.g., `:id`).\n",
            "        *   `element`:  The React component to render when the path matches.\n",
            "\n",
            "   *   **`Link`:** A component used to create links between different routes in your application. It's similar to the HTML `<a>` tag but prevents a full page reload.  Use the `to` prop to specify the target URL.\n",
            "\n",
            "   *   **`NavLink`:** A special version of `Link` that provides styling attributes (like `activeClassName` or `activeStyle`) to indicate the currently active route.\n",
            "\n",
            "   *   **`useNavigate` (Hook):**  A hook that returns a function that lets you programmatically navigate to different routes.  This is useful for redirects, form submissions, and other situations where you need to control navigation from your JavaScript code.\n",
            "\n",
            "   *   **`useParams` (Hook):** A hook that lets you access parameters defined in your route path (e.g., the `id` in `/products/:id`).\n",
            "\n",
            "   *   **`useLocation` (Hook):** A hook that returns the current location object, which contains information about the current URL (e.g., pathname, search, hash).\n",
            "\n",
            "**6. Basic Example**\n",
            "\n",
            "```jsx\n",
            "import React from 'react';\n",
            "import { BrowserRouter, Routes, Route, Link } from 'react-router-dom';\n",
            "\n",
            "// Define your components for each route\n",
            "function Home() {\n",
            "  return (\n",
            "    <div>\n",
            "      <h1>Home Page</h1>\n",
            "      <p>Welcome to the home page!</p>\n",
            "    </div>\n",
            "  );\n",
            "}\n",
            "\n",
            "function About() {\n",
            "  return (\n",
            "    <div>\n",
            "      <h1>About Page</h1>\n",
            "      <p>Learn more about us.</p>\n",
            "    </div>\n",
            "  );\n",
            "}\n",
            "\n",
            "function Products() {\n",
            "    return (\n",
            "        <div>\n",
            "            <h1>Products Page</h1>\n",
            "            <p>Check out our amazing products!</p>\n",
            "        </div>\n",
            "    );\n",
            "}\n",
            "\n",
            "function ProductDetail() {\n",
            "  const { id } = useParams(); // Access the 'id' parameter from the URL\n",
            "  return (\n",
            "    <div>\n",
            "      <h1>Product Detail</h1>\n",
            "      <p>Details for product with ID: {id}</p>\n",
            "    </div>\n",
            "  );\n",
            "}\n",
            "\n",
            "function App() {\n",
            "  return (\n",
            "    <BrowserRouter>\n",
            "      <div>\n",
            "        <nav>\n",
            "          <ul>\n",
            "            <li>\n",
            "              <Link to=\"/\">Home</Link>\n",
            "            </li>\n",
            "            <li>\n",
            "              <Link to=\"/about\">About</Link>\n",
            "            </li>\n",
            "            <li>\n",
            "              <Link to=\"/products\">Products</Link>\n",
            "            </li>\n",
            "            <li>\n",
            "              <Link to=\"/products/123\">Product 123</Link>\n",
            "            </li>\n",
            "          </ul>\n",
            "        </nav>\n",
            "\n",
            "        <Routes>\n",
            "          <Route path=\"/\" element={<Home />} />\n",
            "          <Route path=\"/about\" element={<About />} />\n",
            "          <Route path=\"/products\" element={<Products />} />\n",
            "          <Route path=\"/products/:id\" element={<ProductDetail />} /> {/* Dynamic route with parameter */}\n",
            "        </Routes>\n",
            "      </div>\n",
            "    </BrowserRouter>\n",
            "  );\n",
            "}\n",
            "\n",
            "export default App;\n",
            "```\n",
            "\n",
            "**Explanation of the Example:**\n",
            "\n",
            "1.  **Import necessary components:**  We import `BrowserRouter`, `Routes`, `Route`, and `Link` from `react-router-dom`.\n",
            "2.  **Define components:** We create simple components for `Home`, `About`, `Products`, and `ProductDetail`.\n",
            "3.  **Wrap with `BrowserRouter`:**  We wrap the entire application with `<BrowserRouter>`.\n",
            "4.  **Navigation with `Link`:**  We use `<Link>` components to create links to different routes.  The `to` prop specifies the target URL.\n",
            "5.  **Define routes with `Routes` and `Route`:**\n",
            "    *   We use `<Routes>` to group our `<Route>` components.\n",
            "    *   Each `<Route>` maps a `path` to a specific `element` (component).\n",
            "    *   `/products/:id` is a dynamic route.  The `:id` is a parameter that can be accessed using the `useParams` hook.\n",
            "6. **`useParams` Hook:** In `ProductDetail`, the `useParams` hook is used to extract the value of `id` from the URL (e.g., `/products/123` would make `id` equal to `\"123\"`).\n",
            "\n",
            "**7. Key Considerations and Best Practices**\n",
            "\n",
            "*   **Route Ordering:** The order of your `<Route>` components within `<Routes>` matters.  The router matches the *first* route that matches the current URL.  So, more specific routes should come before more general routes.  For example:\n",
            "\n",
            "    ```jsx\n",
            "    <Routes>\n",
            "      <Route path=\"/products/:id\" element={<ProductDetail />} /> {/* Specific route */}\n",
            "      <Route path=\"/products\" element={<Products />} />           {/* General route */}\n",
            "      <Route path=\"/\" element={<Home />} />\n",
            "    </Routes>\n",
            "    ```\n",
            "    If the order was reversed and `/products` came before `/products/:id`,  the `/products/:id` route would never match because `/products` would always match first.\n",
            "\n",
            "*   **`exact` Prop (Less Common Now):**  In older versions of React Router (v5 and earlier), the `exact` prop was used to ensure that a route only matched if the URL exactly matched the path.  With React Router v6, the matching behavior is more precise by default, so you rarely need `exact`.\n",
            "\n",
            "*   **`NoMatch` / 404 Page:** It's good practice to include a \"No Match\" or 404 page to handle cases where the user navigates to an invalid URL.  You can do this with a catch-all route using the `*` character as the path:\n",
            "\n",
            "    ```jsx\n",
            "    <Routes>\n",
            "      <Route path=\"/\" element={<Home />} />\n",
            "      {/* ... other routes ... */}\n",
            "      <Route path=\"*\" element={<NotFound />} /> {/* Catch-all route */}\n",
            "    </Routes>\n",
            "    ```\n",
            "\n",
            "*   **Nested Routes:** React Router supports nested routes, which allow you to create hierarchical layouts and navigation structures. This involves rendering one router inside of another. This is a more advanced topic.\n",
            "\n",
            "*   **Programmatic Navigation:**  Use the `useNavigate` hook when you need to change routes programmatically (e.g., after a form submission, redirecting after login).\n",
            "\n",
            "*   **Scroll Restoration:**  In SPAs, it's important to manage scroll position when navigating between routes.  You might want to scroll to the top of the page when a new route is loaded.  React Router provides ways to handle this, often involving creating a custom component that uses `useEffect` to scroll to the top on route changes.\n",
            "\n",
            "**8. Common Use Cases**\n",
            "\n",
            "*   **Navigation Menus:**  Creating navigation menus with `<Link>` or `<NavLink>` components.\n",
            "*   **Dynamic Content Loading:** Fetching data based on route parameters (e.g., displaying product details based on the `id` in the URL).\n",
            "*   **Authentication and Authorization:**  Protecting certain routes by redirecting unauthenticated users to a login page.\n",
            "*   **Tabbed Interfaces:**  Implementing tabbed interfaces where each tab corresponds to a different route.\n",
            "*   **Multi-Step Forms:**  Breaking down a long form into multiple steps, with each step on a separate route.\n",
            "\n",
            "**9. Learning Resources**\n",
            "\n",
            "*   **React Router Documentation:**  The official documentation is the best resource for learning about React Router: [https://reactrouter.com/](https://reactrouter.com/)\n",
            "*   **Tutorials and Examples:**  There are many excellent tutorials and examples available online.  Search for \"React Router tutorial\" or \"React Router examples\" to find them.  Start with the official tutorial.\n",
            "\n",
            "**In summary, routing is a crucial aspect of building complex React applications. React Router simplifies the process by providing a declarative and component-based approach to managing navigation and displaying different views based on the URL.**\n",
            "\n",
            "Good luck with your routing adventures in React! Let me know if you have any more specific questions.  For example, if you are working on a particular type of routing scenario, I can provide tailored advice.\n",
            "\n"
          ]
        }
      ]
    },
    {
      "cell_type": "code",
      "source": [
        "result = Runner.run_sync(panacloud_assistant , \"what is AI Agents?.\" , run_config=config)\n",
        "print(result.last_agent.name)\n",
        "print(result.final_output)"
      ],
      "metadata": {
        "colab": {
          "base_uri": "https://localhost:8080/"
        },
        "id": "8Xq_k4Kh9lhE",
        "outputId": "70d00ab2-b7d4-496a-e631-562ee4175d00"
      },
      "execution_count": 10,
      "outputs": [
        {
          "output_type": "stream",
          "name": "stdout",
          "text": [
            "Agentic_AI_Expert\n",
            "AI Agents are autonomous entities that can perceive their environment, make decisions, and take actions to achieve specific goals. They are designed to operate intelligently and adaptively, often without direct human intervention.\n",
            "\n",
            "Here's a breakdown of key aspects:\n",
            "\n",
            "*   **Autonomy:** They can operate independently, making decisions based on their programming and learned experiences.\n",
            "*   **Perception:** They gather information from their environment through sensors or data inputs.\n",
            "*   **Decision-making:** They use algorithms and logic to process information and choose the best course of action.\n",
            "*   **Action:** They can execute actions in their environment, such as moving, manipulating objects, or communicating.\n",
            "*   **Goal-oriented:** They are designed to achieve specific objectives, which can be simple or complex.\n",
            "*   **Adaptivity:** They can learn from their experiences and adjust their behavior to improve performance over time.\n",
            "\n",
            "In essence, AI agents are a key component in building more sophisticated and intelligent systems that can automate tasks, solve problems, and interact with the world in a more human-like way.\n",
            "\n"
          ]
        }
      ]
    },
    {
      "cell_type": "code",
      "source": [
        "result = Runner.run_sync(panacloud_assistant , \"what is UI/UX Design?.\" , run_config=config)\n",
        "print(result.last_agent.name)\n",
        "print(result.final_output)"
      ],
      "metadata": {
        "colab": {
          "base_uri": "https://localhost:8080/"
        },
        "id": "CMtlecpY9ujW",
        "outputId": "146e62b0-d229-4087-85e7-20acec026a90"
      },
      "execution_count": 18,
      "outputs": [
        {
          "output_type": "stream",
          "name": "stdout",
          "text": [
            "web_developer\n",
            "Okay, let's break down UI/UX design. Think of it as crafting a user's entire experience with a product, typically a website or app. It's about making the product *useful*, *usable*, *desirable*, *findable*, *accessible*, and *credible*. UI and UX are related but distinct disciplines.\n",
            "\n",
            "**UX Design (User Experience Design): The \"What\" and \"Why\"**\n",
            "\n",
            "*   **Focus:** The overall *experience* a user has while interacting with a product. This goes beyond just the screen. It encompasses their motivations, needs, and frustrations.\n",
            "*   **Goal:** To ensure the product is **useful, usable, and desirable** while meeting business objectives.  It focuses on making the experience as efficient, enjoyable, and seamless as possible.\n",
            "*   **Key Activities:**\n",
            "    *   **User Research:** Understanding target users through surveys, interviews, usability testing, and analytics. This helps identify their needs, behaviors, and pain points.\n",
            "    *   **User Personas:** Creating fictional, representative users based on research to guide design decisions.\n",
            "    *   **Information Architecture (IA):** Organizing and structuring content in a logical and intuitive way so users can easily find what they need.  Think site maps, navigation menus, and categorization.\n",
            "    *   **Wireframing & Prototyping:** Creating low-fidelity (wireframes) and high-fidelity (prototypes) mockups of the user interface to test functionality and flow before visual design.\n",
            "    *   **Usability Testing:** Observing real users interacting with the product to identify usability issues and areas for improvement.\n",
            "    *   **User Flows:** Mapping out the steps a user takes to complete a task within the product.\n",
            "    *   **Analytics:** Analyzing data on user behavior to identify patterns and areas for improvement. (e.g., Google Analytics, Mixpanel).  This provides valuable insights into how people *actually* use the product.\n",
            "    *   **Accessibility:** Ensuring the product is usable by people with disabilities, adhering to WCAG (Web Content Accessibility Guidelines) standards.\n",
            "*   **Example:** Imagine designing an e-commerce website. A UX designer would research the target audience, figure out how they typically shop online, and then design the website's structure (IA) to make it easy to find products and complete purchases. They'd also map out the checkout process to make it as smooth as possible, minimizing frustration.\n",
            "\n",
            "**UI Design (User Interface Design): The \"How\"**\n",
            "\n",
            "*   **Focus:** The *visual elements* of a product and how users interact with them. It's the specific buttons, icons, typography, colors, and overall layout that users see and interact with.\n",
            "*   **Goal:** To create a user interface that is **visually appealing, intuitive, and efficient** to use.  It focuses on making the *interaction* with the product easy, efficient, and enjoyable.\n",
            "*   **Key Activities:**\n",
            "    *   **Visual Design:** Choosing colors, typography, imagery, and other visual elements to create a consistent and appealing aesthetic.\n",
            "    *   **Interaction Design:** Defining how users interact with the interface (e.g., button states, animations, micro-interactions).\n",
            "    *   **Branding:** Ensuring the UI aligns with the brand's identity and values.\n",
            "    *   **Layout & Information Hierarchy:** Arranging elements on the screen in a way that is clear, logical, and easy to scan.\n",
            "    *   **UI Elements & Components:** Designing and creating reusable UI elements such as buttons, forms, navigation menus, and icons.  These are often created as part of a Design System.\n",
            "    *   **Responsiveness:**  Designing the interface to adapt seamlessly to different screen sizes and devices (desktops, tablets, smartphones).\n",
            "    *   **Accessibility:** Ensuring the visual elements are accessible to users with visual impairments (e.g., sufficient color contrast).\n",
            "*   **Example:**  Continuing with the e-commerce website example, a UI designer would choose the color scheme, font styles, button designs, and overall layout of the product pages. They'd make sure the buttons are clear and easy to click, the product images are high-quality, and the overall design is visually appealing and consistent with the brand. They also define the hover states for buttons and how elements animate.\n",
            "\n",
            "**Key Differences Summarized:**\n",
            "\n",
            "| Feature          | UX Design                                      | UI Design                                     |\n",
            "| ---------------- | --------------------------------------------- | -------------------------------------------- |\n",
            "| **Focus**        | User Experience, Usability, Efficiency         | Visual Interface, Aesthetics, Interactivity   |\n",
            "| **Question**      | \"Does this experience solve the user's problem?\" | \"Is this interface visually appealing and easy to use?\" |\n",
            "| **Activities**     | Research, IA, Wireframing, Prototyping, Testing | Visual Design, Interaction Design, Branding |\n",
            "| **Deliverables**  | User Flows, Wireframes, Prototypes, Research Reports | Style Guides, Mockups, UI Kits, Design Systems |\n",
            "\n",
            "**Why are both important?**\n",
            "\n",
            "*   **Good UX without good UI:** A product might be very useful and easy to use, but it could look outdated or unappealing, which might deter users. Think of a highly functional but visually bland spreadsheet program.\n",
            "*   **Good UI without good UX:** A product might look beautiful, but if it's confusing to use or doesn't solve a user's problem, it will be frustrating and ultimately fail. Think of a visually stunning website that's impossible to navigate.\n",
            "\n",
            "**In short:**\n",
            "\n",
            "*   **UX Design:**  Makes the product *useful* and *easy to use*.\n",
            "*   **UI Design:** Makes the product *beautiful* and *enjoyable to use*.\n",
            "\n",
            "The best products have both great UX and UI, working in harmony to create a positive and effective user experience. Often, UI and UX designers work closely together, with some designers being \"UX/UI designers\" who have skills in both areas. However, in larger companies, these are often separate roles.\n",
            "\n"
          ]
        }
      ]
    },
    {
      "cell_type": "code",
      "source": [
        "graph  = draw_graph(panacloud_assistant).view()\n",
        "print(graph)"
      ],
      "metadata": {
        "colab": {
          "base_uri": "https://localhost:8080/"
        },
        "id": "qOAIvmf5Rfwx",
        "outputId": "b997c6cb-47fa-47f0-b089-547240fc7789"
      },
      "execution_count": null,
      "outputs": [
        {
          "output_type": "stream",
          "name": "stdout",
          "text": [
            "Source.gv.pdf\n"
          ]
        }
      ]
    }
  ]
}