{
  "nbformat": 4,
  "nbformat_minor": 0,
  "metadata": {
    "colab": {
      "provenance": []
    },
    "kernelspec": {
      "name": "python3",
      "display_name": "Python 3"
    },
    "language_info": {
      "name": "python"
    }
  },
  "cells": [
    {
      "cell_type": "code",
      "execution_count": 1,
      "metadata": {
        "colab": {
          "base_uri": "https://localhost:8080/"
        },
        "id": "7kDUNzjZppJf",
        "outputId": "a88bc03f-5d4e-45b4-ed42-24492f6f8fb1"
      },
      "outputs": [
        {
          "output_type": "stream",
          "name": "stdout",
          "text": [
            "\u001b[?25l   \u001b[90m━━━━━━━━━━━━━━━━━━━━━━━━━━━━━━━━━━━━━━━━\u001b[0m \u001b[32m0.0/116.8 kB\u001b[0m \u001b[31m?\u001b[0m eta \u001b[36m-:--:--\u001b[0m\r\u001b[2K   \u001b[90m━━━━━━━━━━━━━━━━━━━━━━━━━━━━━━━━━━━━━━━━\u001b[0m \u001b[32m116.8/116.8 kB\u001b[0m \u001b[31m3.3 MB/s\u001b[0m eta \u001b[36m0:00:00\u001b[0m\n",
            "\u001b[?25h\u001b[?25l   \u001b[90m━━━━━━━━━━━━━━━━━━━━━━━━━━━━━━━━━━━━━━━━\u001b[0m \u001b[32m0.0/129.3 kB\u001b[0m \u001b[31m?\u001b[0m eta \u001b[36m-:--:--\u001b[0m\r\u001b[2K   \u001b[90m━━━━━━━━━━━━━━━━━━━━━━━━━━━━━━━━━━━━━━━━\u001b[0m \u001b[32m129.3/129.3 kB\u001b[0m \u001b[31m7.4 MB/s\u001b[0m eta \u001b[36m0:00:00\u001b[0m\n",
            "\u001b[2K   \u001b[90m━━━━━━━━━━━━━━━━━━━━━━━━━━━━━━━━━━━━━━━━\u001b[0m \u001b[32m76.1/76.1 kB\u001b[0m \u001b[31m4.7 MB/s\u001b[0m eta \u001b[36m0:00:00\u001b[0m\n",
            "\u001b[2K   \u001b[90m━━━━━━━━━━━━━━━━━━━━━━━━━━━━━━━━━━━━━━━━\u001b[0m \u001b[32m661.2/661.2 kB\u001b[0m \u001b[31m10.0 MB/s\u001b[0m eta \u001b[36m0:00:00\u001b[0m\n",
            "\u001b[2K   \u001b[90m━━━━━━━━━━━━━━━━━━━━━━━━━━━━━━━━━━━━━━━━\u001b[0m \u001b[32m44.4/44.4 kB\u001b[0m \u001b[31m1.6 MB/s\u001b[0m eta \u001b[36m0:00:00\u001b[0m\n",
            "\u001b[2K   \u001b[90m━━━━━━━━━━━━━━━━━━━━━━━━━━━━━━━━━━━━━━━━\u001b[0m \u001b[32m72.0/72.0 kB\u001b[0m \u001b[31m2.3 MB/s\u001b[0m eta \u001b[36m0:00:00\u001b[0m\n",
            "\u001b[2K   \u001b[90m━━━━━━━━━━━━━━━━━━━━━━━━━━━━━━━━━━━━━━━━\u001b[0m \u001b[32m62.5/62.5 kB\u001b[0m \u001b[31m1.8 MB/s\u001b[0m eta \u001b[36m0:00:00\u001b[0m\n",
            "\u001b[?25h"
          ]
        }
      ],
      "source": [
        "!pip install -q -U openai-agents"
      ]
    },
    {
      "cell_type": "code",
      "source": [
        "import nest_asyncio\n",
        "nest_asyncio.apply()"
      ],
      "metadata": {
        "id": "68yQQctFqCii"
      },
      "execution_count": 2,
      "outputs": []
    },
    {
      "cell_type": "code",
      "source": [
        "from google.colab import userdata\n",
        "api_key = userdata.get(\"OPENROUTER_API_KEY\")\n",
        "model = \"mistralai/mistral-small-3.1-24b-instruct:free\"\n",
        "BASE_URL=\"https://openrouter.ai/api/v1\""
      ],
      "metadata": {
        "id": "8X-QY1Y-qG3l"
      },
      "execution_count": 4,
      "outputs": []
    },
    {
      "cell_type": "code",
      "source": [
        "from agents import Agent , Runner , AsyncOpenAI , OpenAIChatCompletionsModel , set_tracing_disabled\n",
        "from agents.run import RunConfig\n",
        "\n",
        "provider = AsyncOpenAI(\n",
        "    api_key=api_key,\n",
        "    base_url=BASE_URL,\n",
        ")\n",
        "\n",
        "model = OpenAIChatCompletionsModel(\n",
        "    openai_client=provider,\n",
        "    model=model,\n",
        ")\n",
        "\n",
        "config = RunConfig(\n",
        "    model=model,\n",
        "    tracing_disabled=True,\n",
        ")"
      ],
      "metadata": {
        "id": "46dBS2orqo-6"
      },
      "execution_count": 5,
      "outputs": []
    },
    {
      "cell_type": "code",
      "source": [
        "set_tracing_disabled(True)"
      ],
      "metadata": {
        "id": "NimCMMJmqqvY"
      },
      "execution_count": 6,
      "outputs": []
    },
    {
      "cell_type": "code",
      "source": [
        "import asyncio\n",
        "from openai.types.responses import ResponseTextDeltaEvent\n",
        "async def main():\n",
        "\n",
        "  agent = Agent(\n",
        "      name=\"fact_generator\",\n",
        "      instructions=\"Generate A Facts Accoring to the user query.\",\n",
        "      model=model,\n",
        "  )\n",
        "\n",
        "  result = Runner.run_streamed(agent , \"We Love Cricket Tell me 5 Fun facts about Cricket\" , run_config=config)\n",
        "  async for event in result.stream_events():\n",
        "      if event.type == \"raw_response_event\" and isinstance(event.data , ResponseTextDeltaEvent):\n",
        "        print(event.data.delta , end=\"\" , flush=True)\n",
        "\n",
        "asyncio.run(main())\n",
        "\n"
      ],
      "metadata": {
        "colab": {
          "base_uri": "https://localhost:8080/"
        },
        "id": "39g5AOX_qtyF",
        "outputId": "b332fbe4-301e-412d-b2bc-5c6c87c65ce8"
      },
      "execution_count": 11,
      "outputs": [
        {
          "output_type": "stream",
          "name": "stdout",
          "text": [
            "Here are five fun facts about cricket:\n",
            "\n",
            "1. **Oldest Organized Sport**: Cricket is believed to be the oldest organized sport in the world, with its origins dating back to the 16th century. The first written evidence of cricket can be found in a 1598 court case in England, where a plot of land was noted as being used for cricket by locals for \"time out of mind.\"\n",
            "\n",
            "2. **Longest Game Ever**: The longest cricket match ever played lasted for 14 days, with the actual playing time being about 12 days. It was a two-innings-per-side game between New Zealand and South Africa at Wellington in 1991-92.\n",
            "\n",
            "3. **Smallest Ground**: Lord's Cricket Ground in London, often referred to as the \"Home of Cricket,\" is the smallest international cricket ground by boundary size, with the shortest boundary being just 65 yards (59 meters).\n",
            "\n",
            "4. **Most Wickets in Tests**: As of my knowledge cutoff in 2023, Muttiah Muralitharan of Sri Lanka holds the record for the most wickets in Test cricket, with 800 wickets in 133 matches. His unique bowling action has made him one of the most successful bowlers in the history of the game.\n",
            "\n",
            "5. **Highest Individual Score in First-Class Cricket**: The highest individual score in first-class cricket is 1,001 not out, scored by AEJ Collins for Clarendon College against Northamptonshire in 1902. This remarkable feat is unlikely to be surpassed anytime soon.\n",
            "\n",
            "These facts highlight the rich history and unique aspects of the sport of cricket. Enjoy your love for the game!"
          ]
        }
      ]
    },
    {
      "cell_type": "markdown",
      "source": [
        "# streaming with tool usage"
      ],
      "metadata": {
        "id": "ks-skLA5wDHu"
      }
    },
    {
      "cell_type": "code",
      "source": [
        "from agents import Agent , Runner , function_tool , ItemHelpers\n",
        "from openai.types.responses import ResponseTextDeltaEvent\n",
        "import asyncio\n",
        "import random\n",
        "\n",
        "@function_tool\n",
        "def how_many_jokes():\n",
        "       return random.randint(1 , 10)\n",
        "\n",
        "async def main():\n",
        "\n",
        "  agent = Agent(\n",
        "      name=\"fact_generator\",\n",
        "      instructions=\"Generate A Facts According to the user Query.\",\n",
        "      tools=[how_many_jokes],\n",
        "      model=model,\n",
        "  )\n",
        "\n",
        "  result = Runner.run_streamed(agent , \"We Love Cricket Tell me facts about Cricket\" , run_config=config)\n",
        "  async for event in result.stream_events():\n",
        "    if event.type == \"raw_response_event\":\n",
        "      continue\n",
        "    elif event.type == \"agent_updated_stream_event\":\n",
        "      print(f\"Agent Updated :  {event.new_agent.name}\")\n",
        "      continue\n",
        "    elif event.type == \"run_item_stream_event\":\n",
        "      if event.item.type == \"tool_call_item\":\n",
        "        print(\" - - - tool was Called\")\n",
        "      elif event.item.type == \"tool_call_output_item\":\n",
        "        print(f\"-- tool Output : {event.item.output}\")\n",
        "      elif event.item.type == \"message_output_item\":\n",
        "        print(f\"- - Message output :\\n {ItemHelpers.text_message_output(event.item)}\")\n",
        "      else:\n",
        "        pass\n",
        "\n",
        "\n",
        "\n",
        "asyncio.run(main())\n",
        "\n",
        "\n"
      ],
      "metadata": {
        "colab": {
          "base_uri": "https://localhost:8080/"
        },
        "id": "ipBmYSjHwHaa",
        "outputId": "de95749d-54d4-489b-c96c-810da74cb74d"
      },
      "execution_count": 15,
      "outputs": [
        {
          "output_type": "stream",
          "name": "stdout",
          "text": [
            "Agent Updated :  fact_generator\n",
            "- - Message output :\n",
            " Here are some interesting facts about cricket:\n",
            "\n",
            "1. Origin and History:\n",
            "   Cricket originated in England, with the earliest known references dating back to the 16th century. It was typically\n",
            "   played as a children's game, but it evolved into a more structured sport over time.\n",
            "\n",
            "2. Rules and Format:\n",
            "   Cricket is played between two teams, each consisting of 11 players. The game is played on a field with a pitch in the\n",
            "   center. The objective is to score runs while batting and to dismiss the opposing team's batsmen while bowling.\n",
            "\n",
            "3. Test Cricket:\n",
            "   Test cricket is the longest format of the game, lasting up to five days. The first Test match was played between Australia and England in 1877.\n",
            "   The rivalry between these two teams is known as The Ashes, a prestigious competition played every two years.\n",
            "\n",
            "4. One Day Internationals (ODIs):\n",
            "   ODIs are 50-over matches per side, typically completed in a day. The first ODI was played in 1971 between Australia and England.\n",
            "\n",
            "5. Twenty20 (T20):\n",
            "   T20 is the shortest format, with each team batting for 20 overs. It was introduced in 2003 and has become immensely popular due to its fast-paced nature. The\n",
            "   Indian Premier League (IPL) is one of the most famous T20 leagues.\n",
            "\n",
            "6. World Cups:\n",
            "  The Cricket World Cup for ODIs has been held every four years since 1975. Australia has been the most successful team, winning the tournament five times.\n",
            "\n",
            "7. Iconic Players:\n",
            "   Legendary players like Sir Don Bradman, Sachin Tendulkar, Brian Lara, and Muttiah Muralitharan have made significant contributions\n",
            "   to the sport. Tendulkar, often referred to as the \"Master Blaster,\" holds numerous records, including the most runs and centuries in international cricket.\n",
            "\n",
            "8. The;padding: 0pcuctuating Ball:\n",
            "  The cricket ball, made of cork and leather, is an essential element of the game. Skilled bowlers can make it swing, seam, and spin in various conditions, posing a challenge to batsmen.\n",
            "\n",
            "9. Unique Terminology:\n",
            "   Cricket has a rich and unique vocabulary, including terms like \"LBW\" (leg before wicket), \"silly mid-off,\" and \"racket.\" Learning these terms is part of the enjoyment of the sport.\n",
            "\n",
            "10. Global Popularity:\n",
            "   While cricket is hugely popular in countries like India, Australia, England, Pakistan, and South Africa, it is enjoyed and played around the world, with many international and domestic leagues attracting large audiences.\n",
            "These facts highlight the rich history, diverse formats, and global appeal of cricket, making it one of the most beloved sports in the world.\n"
          ]
        }
      ]
    }
  ]
}