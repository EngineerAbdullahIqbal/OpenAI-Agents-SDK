{
  "nbformat": 4,
  "nbformat_minor": 0,
  "metadata": {
    "colab": {
      "provenance": []
    },
    "kernelspec": {
      "name": "python3",
      "display_name": "Python 3"
    },
    "language_info": {
      "name": "python"
    }
  },
  "cells": [
    {
      "cell_type": "code",
      "execution_count": 11,
      "metadata": {
        "id": "apEA9hcVQjIQ"
      },
      "outputs": [],
      "source": [
        "!pip install -U -q  openai-agents"
      ]
    },
    {
      "cell_type": "code",
      "source": [
        "import nest_asyncio\n",
        "nest_asyncio.apply()"
      ],
      "metadata": {
        "id": "L81RpqOTV7uS"
      },
      "execution_count": 16,
      "outputs": []
    },
    {
      "cell_type": "code",
      "source": [
        "from google.colab import userdata\n",
        "\n",
        "GEMINI_API_KEY=userdata.get(\"GEMINI_API_KEY\")\n",
        "model=\"gemini-2.0-flash\"\n",
        "base_url=\"https://generativelanguage.googleapis.com/v1beta/openai/\""
      ],
      "metadata": {
        "id": "ouOrlwq7RGFz"
      },
      "execution_count": 12,
      "outputs": []
    },
    {
      "cell_type": "code",
      "source": [
        "from agents import AsyncOpenAI , OpenAIChatCompletionsModel , set_tracing_disabled\n",
        "from agents.run import RunConfig\n",
        "\n",
        "set_tracing_disabled(True)\n",
        "\n",
        "provider = AsyncOpenAI(\n",
        "    api_key=GEMINI_API_KEY,\n",
        "    base_url=base_url,\n",
        ")\n",
        "\n",
        "model = OpenAIChatCompletionsModel(\n",
        "    openai_client=provider,\n",
        "    model=model\n",
        ")\n",
        "\n",
        "config = RunConfig(\n",
        "    model=model,\n",
        "    tracing_disabled=True\n",
        ")"
      ],
      "metadata": {
        "id": "gqsUTkruRqdn"
      },
      "execution_count": 13,
      "outputs": []
    },
    {
      "cell_type": "code",
      "source": [
        "from agents import Agent , Runner\n",
        "\n",
        "python_developer = Agent(\n",
        "    name=\"Python_Developer\",\n",
        "    instructions=\"YOu are a 20 years of experiance in python and You know About All The Modern Python Concept Ansewr The User Query About Python.\",\n",
        "    model=model\n",
        ")\n",
        "\n",
        "cloud_native_devloper = Agent(\n",
        "    name=\"cloud_native_devloper\",\n",
        "    instructions=\"YOu are a 20 years of experiance in Cloud Services and You know About All The Modern Cloud Concept Ansewr The User Query About Cloud.\",\n",
        "    model=model\n",
        ")\n",
        "\n",
        "\n",
        "triage_agent = Agent(\n",
        "    name=\"Triage_agent\",\n",
        "    instructions=\"YOu are a Triage Agent Answer The User Simple question if User Question any other questions specilized agent.\",\n",
        "    model=model,\n",
        "    handoffs=[python_developer, cloud_native_devloper]\n",
        ")"
      ],
      "metadata": {
        "id": "E5dhPegKSoRu"
      },
      "execution_count": 14,
      "outputs": []
    },
    {
      "cell_type": "code",
      "source": [
        "result = Runner.run_sync(triage_agent , \"What is Static typing in Python?\")\n",
        "print(result.last_agent.name)\n",
        "print(result.final_output)"
      ],
      "metadata": {
        "colab": {
          "base_uri": "https://localhost:8080/"
        },
        "id": "-yR68ex_Uilq",
        "outputId": "43e81760-991a-4112-b51f-a9f12678a832"
      },
      "execution_count": 19,
      "outputs": [
        {
          "output_type": "stream",
          "name": "stdout",
          "text": [
            "Python_Developer\n",
            "Okay, let's talk about static typing in Python. It's a bit of a nuanced topic because Python is fundamentally known as a *dynamically typed* language.  Here's the breakdown:\n",
            "\n",
            "**Understanding Dynamic Typing (The Norm in Python)**\n",
            "\n",
            "First, to understand static typing, let's quickly recap dynamic typing, which is how Python normally works:\n",
            "\n",
            "*   **Type Checking at Runtime:** In dynamically typed languages, the type of a variable is checked *during the execution* of the program.  You don't explicitly declare the type of a variable when you create it. The interpreter figures it out as it runs.\n",
            "\n",
            "*   **Flexibility:** This offers great flexibility. You can assign a value of one type to a variable, and later reassign a value of a different type to the same variable.\n",
            "\n",
            "*   **Example:**\n",
            "\n",
            "    ```python\n",
            "    x = 5       # x is implicitly an integer\n",
            "    x = \"hello\" # x is now a string\n",
            "    ```\n",
            "\n",
            "*   **Potential Downsides:** Type errors can only be detected when the program is running. This can lead to unexpected crashes or incorrect behavior in production.\n",
            "\n",
            "**Static Typing (Introducing Types Before Runtime)**\n",
            "\n",
            "Static typing means that the type of a variable is known *before* the program is executed. Type checking happens at compile time (or, more generally, before runtime).\n",
            "\n",
            "*   **Explicit Type Declarations (Usually):** In statically typed languages, you typically need to declare the type of a variable when you define it.  Think of languages like Java, C++, or Go.\n",
            "\n",
            "*   **Early Error Detection:** Because types are checked before runtime, static typing helps catch type-related errors very early in the development process.  This leads to more robust and reliable code.\n",
            "\n",
            "*   **Performance Benefits (Potentially):** Static typing can sometimes lead to performance optimizations because the compiler has more information about the data types involved.\n",
            "\n",
            "**Python and Static Typing: A Gradual Adoption**\n",
            "\n",
            "So, where does Python fit in? Python is *not* a statically typed language in the traditional sense. However, Python has been gradually adopting features that allow for a form of static typing, primarily through **type hints** and tools like **MyPy**.\n",
            "\n",
            "*   **Type Hints (PEP 484):** Introduced in Python 3.5, type hints are annotations that you can add to your code to specify the expected types of variables, function arguments, and function return values.\n",
            "\n",
            "    ```python\n",
            "    def greet(name: str) -> str:\n",
            "        return \"Hello, \" + name\n",
            "    ```\n",
            "\n",
            "    In this example:\n",
            "\n",
            "    *   `name: str` indicates that the `name` argument is expected to be a string.\n",
            "    *   `-> str` indicates that the function `greet` is expected to return a string.\n",
            "\n",
            "*   **MyPy (and other type checkers):** MyPy is a static type checker for Python. It analyzes your code based on the type hints you've provided and reports any type errors it finds.\n",
            "\n",
            "    *   **How it works:** You run MyPy on your Python code, and it performs static analysis to identify potential type inconsistencies.\n",
            "    *   **Benefits:**\n",
            "        *   Early detection of type errors.\n",
            "        *   Improved code readability and maintainability.\n",
            "        *   Enables better IDE support (e.g., code completion, error highlighting).\n",
            "\n",
            "*   **Example with MyPy:**\n",
            "\n",
            "    ```python\n",
            "    def add(x: int, y: int) -> int:\n",
            "        return x + y\n",
            "\n",
            "    result = add(5, \"hello\")  # MyPy will flag this as an error\n",
            "    ```\n",
            "\n",
            "**Key Points about Python's Static Typing Approach:**\n",
            "\n",
            "1.  **Optional:** Type hints are *optional*.  Python will still run code without them.  This allows you to gradually introduce type hints into your codebase.  You don't have to rewrite everything at once.\n",
            "\n",
            "2.  **Gradual Typing:** Python's approach is often referred to as \"gradual typing\" because you can choose how much or how little static typing you want to use.\n",
            "\n",
            "3.  **Runtime Behavior Unchanged:** Python's runtime behavior is *not* changed by type hints. If you pass a value of the wrong type to a function, Python will still raise a `TypeError` at runtime (if the operation is actually incompatible), even if MyPy didn't catch it beforehand.  Type hints are primarily for static analysis and do not affect how Python executes code.\n",
            "\n",
            "4.  **Not True Static Typing:** It's important to reiterate that Python is *not* a statically typed language in the same way as Java or C++.  Type hints are primarily a tool for static analysis, not a fundamental part of the language's runtime semantics.  The interpreter itself does not enforce the types at runtime (beyond the usual runtime type checks that Python always performs).\n",
            "\n",
            "**Why Use Type Hints and MyPy?**\n",
            "\n",
            "*   **Improved Code Quality:** Type hints make your code easier to understand and maintain. They act as documentation and help prevent type-related errors.\n",
            "*   **Reduced Bugs:** Catching type errors early can save you a lot of time and effort in debugging.\n",
            "*   **Enhanced IDE Support:** IDEs can use type hints to provide better code completion, error highlighting, and refactoring suggestions.\n",
            "*   **Collaboration:** Type hints make it easier for teams to work together on large projects because they provide a clear specification of the expected types of data.\n",
            "\n",
            "**In Summary:**\n",
            "\n",
            "While Python is dynamically typed by nature, the introduction of type hints and tools like MyPy allows developers to leverage some of the benefits of static typing, such as early error detection and improved code maintainability.  It's a flexible and powerful approach that complements Python's dynamic nature.  Think of it as adding optional static analysis to your dynamically typed Python code.\n",
            "\n"
          ]
        }
      ]
    },
    {
      "cell_type": "code",
      "source": [
        "result = Runner.run_sync(triage_agent , \"What is linux?\")\n",
        "print(result.last_agent.name)\n",
        "print(result.final_output)"
      ],
      "metadata": {
        "colab": {
          "base_uri": "https://localhost:8080/"
        },
        "id": "r4RzC6SLWXKT",
        "outputId": "3cb4b8ef-bf72-4c57-ce23-016b5a785ee4"
      },
      "execution_count": 21,
      "outputs": [
        {
          "output_type": "stream",
          "name": "stdout",
          "text": [
            "cloud_native_devloper\n",
            "Alright, let's talk Linux.  After 20 years in the cloud, I've seen Linux become the absolute backbone of modern infrastructure. Forget the GUI you might associate with Windows or macOS, Linux is fundamentally *different*. Here's the breakdown:\n",
            "\n",
            "**In a Nutshell: Linux is a Kernel**\n",
            "\n",
            "*   **The Core of the OS:** At its heart, Linux isn't a complete operating system like you might think. It's actually the **kernel**. Think of the kernel as the brain and central nervous system of your computer. It's the core software that manages the hardware – the CPU, memory, storage, network interfaces – and provides essential services to other software running on the system.\n",
            "\n",
            "*   **Open Source:** Linux is open-source. This is *huge*. It means the source code is freely available for anyone to view, modify, and distribute. This has led to incredible innovation and a vibrant community.\n",
            "\n",
            "*   **Portability:** Linux is incredibly portable. It runs on everything from tiny embedded systems (like your smart thermostat or router) to massive supercomputers and, critically, almost all cloud servers.\n",
            "\n",
            "**Key Concepts and Why It Matters in the Cloud**\n",
            "\n",
            "*   **Distributions (Distros):**  Because Linux is just the kernel, you need a complete operating system built around it. This is where *distributions* come in.  Examples include:\n",
            "    *   **Ubuntu:** Very popular, beginner-friendly, excellent community support. A common choice for development and general-purpose servers.\n",
            "    *   **CentOS/Rocky Linux/AlmaLinux:**  Enterprise-grade, stable, often used for production servers.  CentOS was originally based on Red Hat Enterprise Linux (RHEL) and provided a free alternative. Rocky Linux and AlmaLinux stepped in as replacements after CentOS's focus shifted.\n",
            "    *   **Debian:** Known for its stability and strict adherence to open-source principles.\n",
            "    *   **Red Hat Enterprise Linux (RHEL):**  A commercial distribution with excellent support and long-term stability, common in large enterprises.\n",
            "    *   **SUSE Linux Enterprise Server (SLES):** Another commercial enterprise distribution, often used in mission-critical environments.\n",
            "    *   **Alpine Linux:**  Extremely lightweight, often used in Docker containers.\n",
            "\n",
            "*   **Command Line Interface (CLI):** While some distributions have graphical interfaces, Linux is most often managed through the command line.  This might seem intimidating at first, but it's incredibly powerful and efficient, especially for automation and remote administration.  Think of tools like `bash`, `zsh`, etc.  This is your bread and butter for cloud work.\n",
            "\n",
            "*   **Package Management:** Linux distributions use package managers to install, update, and remove software.  Examples include `apt` (Debian/Ubuntu), `yum` (CentOS/RHEL), and `pacman` (Arch Linux). This makes managing software dependencies much easier.\n",
            "\n",
            "*   **Security:** Linux has a strong reputation for security.  Its open-source nature allows for constant scrutiny and rapid patching of vulnerabilities.  It also has built-in security features like user permissions, firewalls (like `iptables` or `firewalld`), and SELinux/AppArmor for mandatory access control.\n",
            "\n",
            "**Why Linux Dominates the Cloud**\n",
            "\n",
            "1.  **Cost-Effectiveness:** Open-source nature eliminates licensing fees, making it cheaper than proprietary operating systems.  This is a *huge* factor for cloud providers and users alike.\n",
            "2.  **Flexibility and Customization:** You can tailor Linux to your specific needs.  Choose the right distribution, customize the kernel, and install only the software you need. This is ideal for optimizing cloud resources.\n",
            "3.  **Scalability:** Linux is designed to handle massive workloads. It's the OS of choice for high-performance computing, big data, and large-scale web applications.\n",
            "4.  **Containerization:** Linux is the foundation for container technologies like Docker and Kubernetes.  Containers are essential for modern cloud deployments, allowing you to package and deploy applications consistently across different environments.  The Linux kernel provides the necessary features (cgroups, namespaces) for containerization.\n",
            "5.  **Automation:** The command-line interface and scripting capabilities (Bash, Python, etc.) make Linux ideal for automation.  You can automate everything from server provisioning to application deployment using tools like Ansible, Terraform, and Chef.\n",
            "6.  **Vast Ecosystem:**  A massive ecosystem of open-source software is built around Linux.  This includes web servers (Apache, Nginx), databases (MySQL, PostgreSQL), programming languages (Python, Java, Go), and countless other tools.\n",
            "\n",
            "**Examples in the Cloud:**\n",
            "\n",
            "*   **Amazon EC2:**  You can launch Linux-based virtual machines on Amazon EC2.  Amazon Linux is a popular choice.\n",
            "*   **Google Compute Engine:** Similar to EC2, Google Compute Engine lets you run Linux instances.\n",
            "*   **Azure Virtual Machines:**  Azure supports a wide range of Linux distributions.\n",
            "*   **Docker and Kubernetes:** Almost all Docker images and Kubernetes clusters run on Linux.\n",
            "*   **Cloud-Native Applications:** Most cloud-native applications are built and deployed on Linux-based platforms.\n",
            "\n",
            "**In Summary:**\n",
            "\n",
            "Linux is a powerful, flexible, and cost-effective operating system that's essential for modern cloud computing. Its open-source nature, scalability, and automation capabilities make it the perfect choice for building and deploying applications in the cloud.  Understanding Linux fundamentals is critical for anyone working in cloud services.\n",
            "\n",
            "If you're just starting out, I recommend getting familiar with a distribution like Ubuntu.  Practice using the command line, learn about package management, and experiment with different tools and technologies. Good luck!  Let me know if you have any more questions. I'm happy to dive deeper.\n",
            "\n"
          ]
        }
      ]
    },
    {
      "cell_type": "code",
      "source": [
        "from agents.extensions.visualization import draw_graph\n",
        "\n",
        "graph = draw_graph(triage_agent).view()\n",
        "print(graph)"
      ],
      "metadata": {
        "colab": {
          "base_uri": "https://localhost:8080/"
        },
        "id": "BwsFm_6CW9sA",
        "outputId": "90976a03-32a5-4e64-8fa0-618fb6ad7f38"
      },
      "execution_count": 22,
      "outputs": [
        {
          "output_type": "stream",
          "name": "stdout",
          "text": [
            "Source.gv.pdf\n"
          ]
        }
      ]
    }
  ]
}