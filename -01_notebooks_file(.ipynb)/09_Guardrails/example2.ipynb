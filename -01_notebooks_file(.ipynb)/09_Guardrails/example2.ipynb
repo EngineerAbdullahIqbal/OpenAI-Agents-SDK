{
 "cells": [
  {
   "cell_type": "code",
   "execution_count": null,
   "id": "85ba8e87",
   "metadata": {},
   "outputs": [],
   "source": [
    "!pip install -Uq openai-agents"
   ]
  },
  {
   "cell_type": "code",
   "execution_count": null,
   "id": "e773e507",
   "metadata": {},
   "outputs": [],
   "source": [
    "import os \n",
    "from dotenv import load_dotenv , find_dotenv # For Loading environment variables\n",
    "from agents.run import RunConfig\n",
    "\n",
    "# Load environment variables from .env file\n",
    "load_dotenv(find_dotenv())\n",
    "\n",
    "# set SECRET_KEY environment variable\n",
    "GEMINI_API_KEY = os.getenv(\"GEMINI_API_KEY\")\n",
    "model=\"gemini-2.0-flash\"\n",
    "base_url=\"https://generativelanguage.googleapis.com/v1beta/openai/\""
   ]
  },
  {
   "cell_type": "code",
   "execution_count": null,
   "id": "5752b192",
   "metadata": {},
   "outputs": [],
   "source": [
    "from agents import AsyncOpenAI , OpenAIChatCompletionsModel , set_tracing_disabled\n",
    "\n",
    "set_tracing_disabled(True)\n",
    "\n",
    "provider = AsyncOpenAI(\n",
    "    api_key=GEMINI_API_KEY,\n",
    "    base_url=base_url,\n",
    ")\n",
    "\n",
    "model = OpenAIChatCompletionsModel(\n",
    "    openai_client=provider,\n",
    "    model=model\n",
    ")\n",
    "\n",
    "config = RunConfig(\n",
    "    model=model,\n",
    "    tracing_disabled=True\n",
    ")\n"
   ]
  },
  {
   "cell_type": "code",
   "execution_count": null,
   "id": "c2f06d3c",
   "metadata": {},
   "outputs": [],
   "source": [
    "from agents import Agent, GuardrailFunctionOutput, RunContextWrapper, Runner, TResponseInputItem, input_guardrail\n",
    "from pydantic import BaseModel\n",
    "\n",
    "\n",
    "class SalesManDetectionOutput(BaseModel):\n",
    "    is_competitor: bool\n",
    "    is_price: bool\n",
    "\n",
    "salesman_detection_agent = Agent(\n",
    "    name=\"Salesman Detector\",\n",
    "    instructions=(\"Your Job is to answer user queries about products and offer them to buy But Don't answer questions about competitors and Price or give personal opinions.\"\n",
    "                  \"If User Ask Question about Competitors or Price or give personal opinions then stop the conversation.\"\n",
    "                  \"Don't Tell about price of new product.\"\n",
    "                  \"If user Ask Who is your Competitor then stop the conversation.\"\n",
    "                  \"If user Ask about Price then stop the conversation.\"),\n",
    "    model=model,\n",
    "    output_type=SalesManDetectionOutput\n",
    ")\n",
    "\n",
    "@input_guardrail\n",
    "async def check_saleman_detection_guardrail(\n",
    "        ctx : RunContextWrapper[None] , agent : Agent , input : str | list[TResponseInputItem]\n",
    "    ) -> GuardrailFunctionOutput: # type: ignore\n",
    "\n",
    "    check_detection = await Runner.run(salesman_detection_agent , input)\n",
    "\n",
    "    return GuardrailFunctionOutput(\n",
    "        tripwire_triggered=check_detection.final_output.is_competitor,\n",
    "        output_info=check_detection.final_output\n",
    "    )\n",
    "\n",
    "\n",
    "Salesman_agent = Agent(\n",
    "    name=\"Salesman Agent\",\n",
    "    instructions=\"You are a Salesman Agent. Your job is to answer user queries about products and offer them to buy But Don't answer questions about competitors and Price or give personal opinions.\",\n",
    "    model=model,\n",
    "    input_guardrails=[check_saleman_detection_guardrail]\n",
    ")"
   ]
  },
  {
   "cell_type": "code",
   "execution_count": null,
   "id": "cdd10fb9",
   "metadata": {},
   "outputs": [],
   "source": [
    "from agents import InputGuardrailTripwireTriggered\n",
    "\n",
    "try:\n",
    "    result = await Runner.run(Salesman_agent , \"What is your Competitor?.\" , run_config=config)\n",
    "    print(\"Guardrail didn't tripwire\")\n",
    "    print(\"response\" , result.final_output)\n",
    "except InputGuardrailTripwireTriggered as e:\n",
    "    print(\"HOmework Guardrail tripped\")\n",
    "    print(\"Exceptions details\" , str(e))"
   ]
  }
 ],
 "metadata": {
  "language_info": {
   "name": "python"
  }
 },
 "nbformat": 4,
 "nbformat_minor": 5
}
