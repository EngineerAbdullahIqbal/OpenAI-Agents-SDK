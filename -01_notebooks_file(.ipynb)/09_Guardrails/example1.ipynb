{
 "cells": [
  {
   "cell_type": "code",
   "execution_count": 1,
   "id": "e4834e98",
   "metadata": {},
   "outputs": [
    {
     "name": "stderr",
     "output_type": "stream",
     "text": [
      "\n",
      "[notice] A new release of pip is available: 25.0.1 -> 25.1.1\n",
      "[notice] To update, run: python.exe -m pip install --upgrade pip\n"
     ]
    }
   ],
   "source": [
    "!pip install -Uq openai-agents"
   ]
  },
  {
   "cell_type": "code",
   "execution_count": 2,
   "id": "9c8f1a55",
   "metadata": {},
   "outputs": [],
   "source": [
    "import os \n",
    "from dotenv import load_dotenv , find_dotenv # For Loading environment variables\n",
    "from agents.run import RunConfig\n",
    "\n",
    "# Load environment variables from .env file\n",
    "load_dotenv(find_dotenv())\n",
    "\n",
    "# set SECRET_KEY environment variable\n",
    "GEMINI_API_KEY = os.getenv(\"GEMINI_API_KEY\")\n",
    "model=\"gemini-2.0-flash\"\n",
    "base_url=\"https://generativelanguage.googleapis.com/v1beta/openai/\""
   ]
  },
  {
   "cell_type": "code",
   "execution_count": 3,
   "id": "33a25e69",
   "metadata": {},
   "outputs": [],
   "source": [
    "from agents import AsyncOpenAI , OpenAIChatCompletionsModel , set_tracing_disabled\n",
    "\n",
    "set_tracing_disabled(True)\n",
    "\n",
    "provider = AsyncOpenAI(\n",
    "    api_key=GEMINI_API_KEY,\n",
    "    base_url=base_url,\n",
    ")\n",
    "\n",
    "model = OpenAIChatCompletionsModel(\n",
    "    openai_client=provider,\n",
    "    model=model\n",
    ")\n",
    "\n",
    "config = RunConfig(\n",
    "    model=model,\n",
    "    tracing_disabled=True\n",
    ")\n"
   ]
  },
  {
   "cell_type": "code",
   "execution_count": 43,
   "id": "d40649e5",
   "metadata": {},
   "outputs": [],
   "source": [
    "from agents import Agent, GuardrailFunctionOutput, RunContextWrapper, Runner, TResponseInputItem, input_guardrail\n",
    "from pydantic import BaseModel\n",
    "\n",
    "class HomeworkCheatDetectionOutput(BaseModel):\n",
    "    attempting_cheat: bool\n",
    "    explanation: str\n",
    "\n",
    "homework_cheat_guardrail_agent = Agent(\n",
    "    name=\"Homework Cheat Detector\",\n",
    "    instructions=(\n",
    "        \"Determine if the user's query resembles a typical homework assignment or exam question, indicating an attempt to cheat. General questions about concepts are acceptable. \"\n",
    "        \" Cheating: 'Fill in the blank: The capital of France is ____.',\"\n",
    "        \" 'Which of the following best describes photosynthesis? A) Cellular respiration B) Conversion of light energy C) Evaporation D) Fermentation.'\"\n",
    "        \" Not-Cheating: 'What is the capital of France?', 'Explain photosynthesis.'\"\n",
    "    ),\n",
    "    output_type=HomeworkCheatDetectionOutput,\n",
    "    model=model\n",
    ")\n",
    "\n",
    "@input_guardrail\n",
    "async def cheat_detection_guardrail(\n",
    "        ctx: RunContextWrapper[None], agent: Agent, input: str | list[TResponseInputItem]\n",
    ") -> GuardrailFunctionOutput :\n",
    "    \n",
    "    detection_result = await Runner.run(homework_cheat_guardrail_agent, input)\n",
    "\n",
    "    return GuardrailFunctionOutput(\n",
    "        tripwire_triggered=detection_result.final_output.attempting_cheat,\n",
    "        output_info=detection_result.final_output\n",
    "    )\n",
    "\n",
    "study_helper_agent = Agent(\n",
    "    name=\"Study Helper Agent\",\n",
    "    instructions=\"You assist users in studying by explaining concepts or providing guidance, without directly solving homework or test questions.\",\n",
    "    model=model,\n",
    "    input_guardrails=[cheat_detection_guardrail]\n",
    ")\n"
   ]
  },
  {
   "cell_type": "code",
   "execution_count": null,
   "id": "de2669c5",
   "metadata": {},
   "outputs": [
    {
     "name": "stdout",
     "output_type": "stream",
     "text": [
      "HOmework Guardrail tripped\n",
      "Exceptions details Guardrail InputGuardrail triggered tripwire\n"
     ]
    }
   ],
   "source": [
    "from agents import InputGuardrailTripwireTriggered\n",
    "\n",
    "try:\n",
    "    result = await Runner.run(study_helper_agent , \"What is the capital of France?.\" , run_config=config)\n",
    "    print(\"Guardrail didn't tripwire\")\n",
    "    print(\"response\" , result.final_output)\n",
    "except InputGuardrailTripwireTriggered as e:\n",
    "    print(\"HOmework Guardrail tripped\")\n",
    "    print(\"Exceptions details\" , str(e))"
   ]
  },
  {
   "cell_type": "markdown",
   "id": "43636b9d",
   "metadata": {},
   "source": [
    "## SalesMan Agent Guardrail"
   ]
  },
  {
   "cell_type": "code",
   "execution_count": 69,
   "id": "1ca801c7",
   "metadata": {},
   "outputs": [],
   "source": [
    "class SalesManDetectionOutput(BaseModel):\n",
    "    is_competitor: bool\n",
    "    is_price: bool\n",
    "\n",
    "salesman_detection_agent = Agent(\n",
    "    name=\"Salesman Detector\",\n",
    "    instructions=(\"Your Job is to answer user queries about products and offer them to buy But Don't answer questions about competitors and Price or give personal opinions.\"\n",
    "                  \"If User Ask Question about Competitors or Price or give personal opinions then stop the conversation.\"\n",
    "                  \"Don't Tell about price of new product.\"\n",
    "                  \"If user Ask Who is your Competitor then stop the conversation.\"\n",
    "                  \"If user Ask about Price then stop the conversation.\"),\n",
    "    model=model,\n",
    "    output_type=SalesManDetectionOutput\n",
    ")\n",
    "\n",
    "@input_guardrail\n",
    "async def check_saleman_detection_guardrail(\n",
    "        ctx : RunContextWrapper[None] , agent : Agent , input : str | list[TResponseInputItem]\n",
    "    ) -> GuardrailFunctionOutput: # type: ignore\n",
    "\n",
    "    check_detection = await Runner.run(salesman_detection_agent , input)\n",
    "\n",
    "    return GuardrailFunctionOutput(\n",
    "        tripwire_triggered=check_detection.final_output.is_competitor,\n",
    "        output_info=check_detection.final_output\n",
    "    )\n",
    "\n",
    "\n",
    "Salesman_agent = Agent(\n",
    "    name=\"Salesman Agent\",\n",
    "    instructions=\"You are a Salesman Agent. Your job is to answer user queries about products and offer them to buy But Don't answer questions about competitors and Price or give personal opinions.\",\n",
    "    model=model,\n",
    "    input_guardrails=[check_saleman_detection_guardrail]\n",
    ")"
   ]
  },
  {
   "cell_type": "code",
   "execution_count": 73,
   "id": "e84f0353",
   "metadata": {},
   "outputs": [
    {
     "name": "stdout",
     "output_type": "stream",
     "text": [
      "HOmework Guardrail tripped\n",
      "Exceptions details Guardrail InputGuardrail triggered tripwire\n"
     ]
    }
   ],
   "source": [
    "from agents import InputGuardrailTripwireTriggered\n",
    "\n",
    "try:\n",
    "    result = await Runner.run(Salesman_agent , \"What is your Competitor?.\" , run_config=config)\n",
    "    print(\"Guardrail didn't tripwire\")\n",
    "    print(\"response\" , result.final_output)\n",
    "except InputGuardrailTripwireTriggered as e:\n",
    "    print(\"HOmework Guardrail tripped\")\n",
    "    print(\"Exceptions details\" , str(e))"
   ]
  }
 ],
 "metadata": {
  "kernelspec": {
   "display_name": "Python 3",
   "language": "python",
   "name": "python3"
  },
  "language_info": {
   "codemirror_mode": {
    "name": "ipython",
    "version": 3
   },
   "file_extension": ".py",
   "mimetype": "text/x-python",
   "name": "python",
   "nbconvert_exporter": "python",
   "pygments_lexer": "ipython3",
   "version": "3.13.3"
  }
 },
 "nbformat": 4,
 "nbformat_minor": 5
}
