{
 "cells": [
  {
   "cell_type": "code",
   "execution_count": 1,
   "id": "ede12e84",
   "metadata": {},
   "outputs": [
    {
     "name": "stderr",
     "output_type": "stream",
     "text": [
      "\n",
      "[notice] A new release of pip is available: 25.0.1 -> 25.1.1\n",
      "[notice] To update, run: python.exe -m pip install --upgrade pip\n"
     ]
    }
   ],
   "source": [
    "!pip install -Uq openai-agents"
   ]
  },
  {
   "cell_type": "code",
   "execution_count": 2,
   "id": "ca1cb753",
   "metadata": {},
   "outputs": [],
   "source": [
    "import nest_asyncio\n",
    "nest_asyncio.apply()"
   ]
  },
  {
   "cell_type": "code",
   "execution_count": 3,
   "id": "691d3d6a",
   "metadata": {},
   "outputs": [],
   "source": [
    "import os \n",
    "from dotenv import load_dotenv , find_dotenv # For Loading environment variables\n",
    "from agents.run import RunConfig\n",
    "\n",
    "# Load environment variables from .env file\n",
    "load_dotenv(find_dotenv())\n",
    "\n",
    "# set SECRET_KEY environment variable\n",
    "GEMINI_API_KEY = os.getenv(\"GEMINI_API_KEY\")\n",
    "model=\"gemini-2.0-flash\"\n",
    "base_url=\"https://generativelanguage.googleapis.com/v1beta/openai/\""
   ]
  },
  {
   "cell_type": "code",
   "execution_count": 4,
   "id": "a77d55cc",
   "metadata": {},
   "outputs": [],
   "source": [
    "from agents import AsyncOpenAI , OpenAIChatCompletionsModel , set_tracing_disabled\n",
    "\n",
    "set_tracing_disabled(True)\n",
    "\n",
    "provider = AsyncOpenAI(\n",
    "    api_key=GEMINI_API_KEY,\n",
    "    base_url=base_url,\n",
    ")\n",
    "\n",
    "model = OpenAIChatCompletionsModel(\n",
    "    openai_client=provider,\n",
    "    model=model\n",
    ")\n",
    "\n",
    "config = RunConfig(\n",
    "    model=model,\n",
    "    tracing_disabled=True\n",
    ")\n"
   ]
  },
  {
   "cell_type": "code",
   "execution_count": 5,
   "id": "0067a9f0",
   "metadata": {},
   "outputs": [
    {
     "name": "stdout",
     "output_type": "stream",
     "text": [
      "\n",
      "{'content': 'Hello!', 'role': 'user'}\n",
      "{'content': 'Hello! How can I help you today?', 'role': 'assistant'}\n"
     ]
    }
   ],
   "source": [
    "from importlib import simple\n",
    "from agents import TResponseInputItem , Agent , Runner\n",
    "\n",
    "simple_agent = Agent(\n",
    "    name=\"simple_agent\",\n",
    "    instructions=\"You are a helpful assistant.\",\n",
    "    model=model\n",
    ")\n",
    "\n",
    "\n",
    "conva : list[TResponseInputItem] = [\n",
    "    {\"content\" : \"Hello!\" , \"role\" : \"user\"},\n",
    "    {\"content\" : \"Hello! How can I help you today?\" , \"role\" : \"assistant\"},\n",
    "]\n",
    "\n",
    "result = Runner.run_sync(simple_agent , conva , run_config=config)\n",
    "print(result.final_output)\n",
    "\n",
    "for message in result.to_input_list():\n",
    "    print(message)"
   ]
  },
  {
   "cell_type": "code",
   "execution_count": 6,
   "id": "e8e6b7e1",
   "metadata": {},
   "outputs": [
    {
     "name": "stdout",
     "output_type": "stream",
     "text": [
      "You are Talking To A Ai Chatbot Let Me Know How Can I Help You Today?\n",
      "You : \n",
      "Agent Okay, I'm ready to be helpful!  To give you the best assistance, tell me:\n",
      "\n",
      "*   **What do you need help with?**  Are you looking for information, creative writing assistance, code generation, or something else?\n",
      "*   **What is the context?**  The more information you provide, the better I can understand your needs.\n",
      "\n",
      "For example, you could say:\n",
      "\n",
      "*   \"I need help writing a poem about the ocean.\"\n",
      "*   \"Can you explain the concept of recursion in programming?\"\n",
      "*   \"I want to brainstorm some ideas for a marketing campaign.\"\n",
      "\n",
      "I'm here to help in any way I can!\n",
      "\n",
      "You : My name is Abdullah\n",
      "Agent Okay, Abdullah! It's nice to meet you. How can I help you today?\n",
      "\n",
      "You : HI\n",
      "Agent Hi Abdullah! How can I help you today? Let me know what you need.\n",
      "\n",
      "You : What is my name?\n",
      "Agent Your name is Abdullah.\n",
      "\n",
      "You : yes\n",
      "Agent Great! So, Abdullah, what can I do for you today?\n",
      "\n",
      "You : thank u\n",
      "Agent You're welcome, Abdullah! Don't hesitate to ask if you need anything else in the future.\n",
      "\n",
      "You : exit\n",
      "GoodBye!\n"
     ]
    }
   ],
   "source": [
    "conva : list[TResponseInputItem] = []\n",
    "print(\"You are Talking To A Ai Chatbot Let Me Know How Can I Help You Today?\")\n",
    "\n",
    "while True:\n",
    "    user_input = input(f\"You :\")\n",
    "    print(\"You\" + \" : \" + user_input)\n",
    "\n",
    "    if user_input == \"exit\":\n",
    "        print(\"GoodBye!\")\n",
    "        break\n",
    "\n",
    "    conva.append({\"content\" : user_input , \"role\" : \"user\"})\n",
    "\n",
    "    result = Runner.run_sync(simple_agent , conva , run_config=config)\n",
    "\n",
    "\n",
    "    print(f\"Agent {result.final_output}\")\n",
    "\n",
    "    conva = result.to_input_list()\n",
    "\n",
    "    "
   ]
  },
  {
   "cell_type": "code",
   "execution_count": 8,
   "id": "4c3de91c",
   "metadata": {},
   "outputs": [],
   "source": [
    "web_developer = Agent(\n",
    "    name=\"web_developer\",\n",
    "    instructions=\"You are expert in Full-stack web development\",\n",
    "    model=model\n",
    ")\n",
    "\n",
    "app_developer = Agent(\n",
    "    name=\"app_developer\",\n",
    "    instructions=\"You are expert in responsive app development core concepts\",\n",
    "    model=model\n",
    ")\n",
    "\n",
    "Backend_develoepr = Agent(\n",
    "    name=\"Backend_develoepr\",\n",
    "    instructions=\"You are expert in backend development\",\n",
    "    model=model\n",
    ")\n",
    "\n",
    "Dev_ops_expert = Agent(\n",
    "    name=\"Dev_ops_expert\",\n",
    "    instructions=\"You are expert in DevOps\",\n",
    "    model=model\n",
    ")\n",
    "\n",
    "Agentic_AI_Expert = Agent(\n",
    "    name=\"Agentic_AI_Expert\",\n",
    "    instructions=\"You are an Agentic AI Expert Solve All Problems About AI & Agentic AI. You are capable to use your Agents as a tool.\",\n",
    "    model=model,\n",
    "    tools = [\n",
    "        Backend_develoepr.as_tool(\n",
    "            tool_name=\"Backend_develoepr\",\n",
    "            tool_description=\"You are expert in Backend Langueges and services.\"\n",
    "        ),\n",
    "        Dev_ops_expert.as_tool(\n",
    "            tool_name=\"Dev_ops\",\n",
    "            tool_description=\"You are an Expert in devops services and cloud.\"\n",
    "        )\n",
    "    ],\n",
    ")\n",
    "\n",
    "\n",
    "panacloud_assistant = Agent(\n",
    "    name=\"panacloud_assistat\",\n",
    "    instructions=\"you are expert in panacloud services and use your expert agent according to your Given Experts Agents.\",\n",
    "    model=OpenAIChatCompletionsModel(model=\"gemini/2.5-flash-exp\" , openai_client=provider),\n",
    "    handoffs = [web_developer , app_developer , Agentic_AI_Expert],\n",
    "    handoff_description=\"You have multiple agents expert to use accourding to user query e:g. web_developer , app_developer , Agentic_AI_expert\"\n",
    ")"
   ]
  },
  {
   "cell_type": "code",
   "execution_count": 9,
   "id": "10f524f9",
   "metadata": {},
   "outputs": [
    {
     "name": "stdout",
     "output_type": "stream",
     "text": [
      "You are Talking To A Ai Chatbot Let Me Know How Can I Help You Today?\n",
      "You : HI\n",
      "Agent How can I help you today?\n",
      "\n",
      "Last Agent: panacloud_assistat\n",
      "You : What is The Agenti AI?\n",
      "Agent Agentic AI refers to artificial intelligence systems that can act autonomously to achieve specific goals. Unlike traditional AI, which typically performs predefined tasks, agentic AI can perceive its environment, make decisions, and take actions to reach a desired outcome without explicit instructions at every step. These agents can be designed to learn, adapt, and interact with other agents or humans to solve complex problems.\n",
      "\n",
      "Last Agent: panacloud_assistat\n",
      "You : What is reponsive website?\n",
      "Agent A responsive website is a website that's designed to adapt its layout and content to fit different screen sizes and devices. In simpler terms, it means the website will look good and function properly whether you're viewing it on a desktop computer, a laptop, a tablet, or a smartphone.\n",
      "\n",
      "Here's a breakdown of what makes a website responsive:\n",
      "\n",
      "*   **Flexible Layout:** The layout of the website is fluid, meaning it adjusts proportionally based on the screen size. Instead of fixed widths, it uses relative units like percentages.\n",
      "\n",
      "*   **Flexible Images:** Images also scale proportionally to fit the screen. This prevents them from overflowing their containers and messing up the layout.\n",
      "\n",
      "*   **Media Queries:** These are CSS rules that apply different styles based on the characteristics of the device, such as screen size, resolution, and orientation (portrait or landscape). They allow developers to customize the website's appearance for different devices.\n",
      "\n",
      "**Why are responsive websites important?**\n",
      "\n",
      "*   **Improved User Experience:**  Provides a consistent and optimal viewing experience across all devices, leading to happier users.\n",
      "*   **Mobile-Friendly:**  Essential for reaching the growing number of mobile users.\n",
      "*   **SEO Benefits:** Google favors mobile-friendly websites in its search rankings.\n",
      "*   **Cost-Effective:**  Easier and cheaper to maintain one responsive website than to develop and maintain separate versions for different devices.\n",
      "*   **Future-Proof:**  Adapts to new devices and screen sizes as they emerge.\n",
      "\n",
      "**In summary:** A responsive website provides the best possible user experience by automatically adjusting to the screen size and device being used to view it. It's a crucial aspect of modern web design and development.\n",
      "\n",
      "Last Agent: Agentic_AI_Expert\n",
      "You : exit\n",
      "GoodBye!\n"
     ]
    }
   ],
   "source": [
    "conva : list[TResponseInputItem] = []\n",
    "print(\"You are Talking To A Ai Chatbot Let Me Know How Can I Help You Today?\")\n",
    "last_agent = panacloud_assistant\n",
    "\n",
    "while True:\n",
    "    user_input = input(f\"You :\")\n",
    "    print(\"You\" + \" : \" + user_input)\n",
    "\n",
    "    if user_input == \"exit\":\n",
    "        print(\"GoodBye!\")\n",
    "        break\n",
    "\n",
    "    conva.append({\"content\" : user_input , \"role\" : \"user\"})\n",
    "\n",
    "    result = Runner.run_sync(panacloud_assistant , conva , run_config=config)\n",
    "\n",
    "    print(f\"Agent {result.final_output}\")\n",
    "\n",
    "    conva = result.to_input_list()\n",
    "\n",
    "    print(f\"Last Agent: {last_agent.name}\")\n",
    "    last_agent = result.last_agent"
   ]
  }
 ],
 "metadata": {
  "kernelspec": {
   "display_name": "Python 3",
   "language": "python",
   "name": "python3"
  },
  "language_info": {
   "codemirror_mode": {
    "name": "ipython",
    "version": 3
   },
   "file_extension": ".py",
   "mimetype": "text/x-python",
   "name": "python",
   "nbconvert_exporter": "python",
   "pygments_lexer": "ipython3",
   "version": "3.13.3"
  }
 },
 "nbformat": 4,
 "nbformat_minor": 5
}
