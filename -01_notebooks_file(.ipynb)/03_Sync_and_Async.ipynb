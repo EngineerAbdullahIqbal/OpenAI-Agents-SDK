{
  "nbformat": 4,
  "nbformat_minor": 0,
  "metadata": {
    "colab": {
      "provenance": []
    },
    "kernelspec": {
      "name": "python3",
      "display_name": "Python 3"
    },
    "language_info": {
      "name": "python"
    }
  },
  "cells": [
    {
      "cell_type": "code",
      "execution_count": 1,
      "metadata": {
        "colab": {
          "base_uri": "https://localhost:8080/"
        },
        "id": "lI_Rpd_kmIvl",
        "outputId": "00482d95-3a61-4e4c-d0e0-d5572b96ca4c"
      },
      "outputs": [
        {
          "output_type": "stream",
          "name": "stdout",
          "text": [
            "\u001b[?25l   \u001b[90m━━━━━━━━━━━━━━━━━━━━━━━━━━━━━━━━━━━━━━━━\u001b[0m \u001b[32m0.0/116.8 kB\u001b[0m \u001b[31m?\u001b[0m eta \u001b[36m-:--:--\u001b[0m\r\u001b[2K   \u001b[90m━━━━━━━━━━━━━━━━━━━━━━━━━━━━━━━━━━━━━━━━\u001b[0m \u001b[32m116.8/116.8 kB\u001b[0m \u001b[31m6.8 MB/s\u001b[0m eta \u001b[36m0:00:00\u001b[0m\n",
            "\u001b[?25h\u001b[?25l   \u001b[90m━━━━━━━━━━━━━━━━━━━━━━━━━━━━━━━━━━━━━━━━\u001b[0m \u001b[32m0.0/129.3 kB\u001b[0m \u001b[31m?\u001b[0m eta \u001b[36m-:--:--\u001b[0m\r\u001b[2K   \u001b[90m━━━━━━━━━━━━━━━━━━━━━━━━━━━━━━━━━━━━━━━━\u001b[0m \u001b[32m129.3/129.3 kB\u001b[0m \u001b[31m9.8 MB/s\u001b[0m eta \u001b[36m0:00:00\u001b[0m\n",
            "\u001b[?25h\u001b[?25l   \u001b[90m━━━━━━━━━━━━━━━━━━━━━━━━━━━━━━━━━━━━━━━━\u001b[0m \u001b[32m0.0/76.1 kB\u001b[0m \u001b[31m?\u001b[0m eta \u001b[36m-:--:--\u001b[0m\r\u001b[2K   \u001b[90m━━━━━━━━━━━━━━━━━━━━━━━━━━━━━━━━━━━━━━━━\u001b[0m \u001b[32m76.1/76.1 kB\u001b[0m \u001b[31m5.2 MB/s\u001b[0m eta \u001b[36m0:00:00\u001b[0m\n",
            "\u001b[2K   \u001b[90m━━━━━━━━━━━━━━━━━━━━━━━━━━━━━━━━━━━━━━━━\u001b[0m \u001b[32m661.2/661.2 kB\u001b[0m \u001b[31m23.4 MB/s\u001b[0m eta \u001b[36m0:00:00\u001b[0m\n",
            "\u001b[2K   \u001b[90m━━━━━━━━━━━━━━━━━━━━━━━━━━━━━━━━━━━━━━━━\u001b[0m \u001b[32m44.4/44.4 kB\u001b[0m \u001b[31m2.6 MB/s\u001b[0m eta \u001b[36m0:00:00\u001b[0m\n",
            "\u001b[2K   \u001b[90m━━━━━━━━━━━━━━━━━━━━━━━━━━━━━━━━━━━━━━━━\u001b[0m \u001b[32m72.0/72.0 kB\u001b[0m \u001b[31m4.9 MB/s\u001b[0m eta \u001b[36m0:00:00\u001b[0m\n",
            "\u001b[2K   \u001b[90m━━━━━━━━━━━━━━━━━━━━━━━━━━━━━━━━━━━━━━━━\u001b[0m \u001b[32m62.5/62.5 kB\u001b[0m \u001b[31m3.2 MB/s\u001b[0m eta \u001b[36m0:00:00\u001b[0m\n",
            "\u001b[?25h"
          ]
        }
      ],
      "source": [
        "!pip install -q -U openai-agents"
      ]
    },
    {
      "cell_type": "code",
      "source": [
        "import nest_asyncio\n",
        "nest_asyncio.apply()"
      ],
      "metadata": {
        "id": "uPK6Eyf4mUhj"
      },
      "execution_count": 2,
      "outputs": []
    },
    {
      "cell_type": "code",
      "source": [
        "from google.colab import userdata\n",
        "\n",
        "api_key = userdata.get('OPENROUTER_API_KEY')\n",
        "model = \"mistralai/mistral-small-3.1-24b-instruct:free\"\n",
        "BASE_URL= \"https://openrouter.ai/api/v1\""
      ],
      "metadata": {
        "id": "XrtIm7KomfZR"
      },
      "execution_count": 3,
      "outputs": []
    },
    {
      "cell_type": "code",
      "source": [
        "from agents import Agent , Runner , AsyncOpenAI , OpenAIChatCompletionsModel , set_tracing_disabled\n",
        "from agents.run import RunConfig\n",
        "\n",
        "provider = AsyncOpenAI(\n",
        "    api_key=api_key,\n",
        "    base_url=BASE_URL,\n",
        ")\n",
        "\n",
        "model = OpenAIChatCompletionsModel(\n",
        "    openai_client=provider,\n",
        "    model=model,\n",
        ")\n",
        "\n",
        "config = RunConfig(\n",
        "    model=model,\n",
        "    tracing_disabled=True,\n",
        ")"
      ],
      "metadata": {
        "id": "LACE2jVAnCO6"
      },
      "execution_count": 4,
      "outputs": []
    },
    {
      "cell_type": "markdown",
      "source": [
        "# Sync Method To Run the Agent"
      ],
      "metadata": {
        "id": "zS2HGo6xohms"
      }
    },
    {
      "cell_type": "code",
      "source": [
        "set_tracing_disabled(disabled=True)\n",
        "\n",
        "agent = Agent(\n",
        "      name=\"Assistant\",\n",
        "      instructions=\"Greet The User in All languages\",\n",
        "      model=model\n",
        ")\n",
        "\n",
        "result = Runner.run_sync(agent , \"Hello , Greet me In Urdu!\" , run_config=config)\n",
        "print(result.final_output)\n",
        "\n"
      ],
      "metadata": {
        "colab": {
          "base_uri": "https://localhost:8080/"
        },
        "id": "kSmGeOomnuoo",
        "outputId": "e8842edd-ab5a-474d-8a21-a9ed6d93196f"
      },
      "execution_count": 6,
      "outputs": [
        {
          "output_type": "stream",
          "name": "stdout",
          "text": [
            "Hello! In Urdu, you can say:\n",
            "\n",
            "**Assalam-o-Alaikum!** (اسلام اعلیکم)\n",
            "\n",
            "This is a traditional greeting in Urdu, which means \"Peace be upon you.\" The response to this greeting is:\n",
            "\n",
            "**Wa-Alaikum-Assalam** (واعنکم سلام) which means \"And upon you be peace.\"\n",
            "\n",
            "Alternatively, a more casual greeting is:\n",
            "\n",
            "**Salam!** (سلام)\n",
            "\n",
            "Enjoy your day!\n"
          ]
        }
      ]
    },
    {
      "cell_type": "markdown",
      "source": [
        "# Async Method"
      ],
      "metadata": {
        "id": "3aJwxG_8o3pT"
      }
    },
    {
      "cell_type": "code",
      "source": [
        "import asyncio\n",
        "async def main():\n",
        "\n",
        "  agent = Agent(\n",
        "      name=\"Assistant\",\n",
        "      instructions=\"Greet The User in All languages\",\n",
        "      model=model\n",
        "  )\n",
        "\n",
        "  result = await Runner.run(agent , \"Hello , Greet me In Urdu!\" , run_config=config)\n",
        "  print(result.final_output)\n",
        "\n",
        "\n",
        "if __name__ == \"__main__\":\n",
        "  asyncio.run(main())"
      ],
      "metadata": {
        "colab": {
          "base_uri": "https://localhost:8080/"
        },
        "id": "9PD7fw_Ho3MT",
        "outputId": "af6e8ff3-0beb-4da6-8a45-02a7881af385"
      },
      "execution_count": 7,
      "outputs": [
        {
          "output_type": "stream",
          "name": "stdout",
          "text": [
            "Hello! In Urdu, you can say:\n",
            "\n",
            "\"Alar developing kaya_ass aapka\"\n",
            "\n",
            "Or more formally:\n",
            "\n",
            "\"Aapka Swagat hai\"\n",
            "\n",
            "Both phrases mean \"Hello, welcome.\"\n",
            "\n",
            "Would you like me to greet you in any other languages?\n"
          ]
        }
      ]
    }
  ]
}