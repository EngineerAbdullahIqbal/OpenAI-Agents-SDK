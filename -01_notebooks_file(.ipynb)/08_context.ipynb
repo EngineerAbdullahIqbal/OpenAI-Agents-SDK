{
 "cells": [
  {
   "cell_type": "code",
   "execution_count": 1,
   "id": "ce53fb10",
   "metadata": {},
   "outputs": [
    {
     "name": "stderr",
     "output_type": "stream",
     "text": [
      "\n",
      "[notice] A new release of pip is available: 25.0.1 -> 25.1\n",
      "[notice] To update, run: python.exe -m pip install --upgrade pip\n"
     ]
    }
   ],
   "source": [
    "!pip install -Uq openai-agents "
   ]
  },
  {
   "cell_type": "code",
   "execution_count": 7,
   "id": "a601a4ca",
   "metadata": {},
   "outputs": [],
   "source": [
    "import nest_asyncio\n",
    "nest_asyncio.apply()"
   ]
  },
  {
   "cell_type": "code",
   "execution_count": 2,
   "id": "00dd95ac",
   "metadata": {},
   "outputs": [],
   "source": [
    "import os \n",
    "from dotenv import load_dotenv , find_dotenv # For Loading environment variables\n",
    "from agents.run import RunConfig\n",
    "\n",
    "# Load environment variables from .env file\n",
    "load_dotenv(find_dotenv())\n",
    "\n",
    "# set SECRET_KEY environment variable\n",
    "GEMINI_API_KEY = os.getenv(\"GEMINI_API_KEY\")\n",
    "model=\"gemini-2.0-flash\"\n",
    "base_url=\"https://generativelanguage.googleapis.com/v1beta/openai/\""
   ]
  },
  {
   "cell_type": "code",
   "execution_count": 3,
   "id": "083e6b23",
   "metadata": {},
   "outputs": [],
   "source": [
    "from agents import AsyncOpenAI , OpenAIChatCompletionsModel , set_tracing_disabled\n",
    "\n",
    "set_tracing_disabled(True)\n",
    "\n",
    "provider = AsyncOpenAI(\n",
    "    api_key=GEMINI_API_KEY,\n",
    "    base_url=base_url,\n",
    ")\n",
    "\n",
    "model = OpenAIChatCompletionsModel(\n",
    "    openai_client=provider,\n",
    "    model=model\n",
    ")\n",
    "\n",
    "config = RunConfig(\n",
    "    model=model,\n",
    "    tracing_disabled=True\n",
    ")\n"
   ]
  },
  {
   "cell_type": "markdown",
   "id": "e154a9b5",
   "metadata": {},
   "source": [
    "# Local Context Example"
   ]
  },
  {
   "cell_type": "code",
   "execution_count": 28,
   "id": "bee0a585",
   "metadata": {},
   "outputs": [
    {
     "name": "stdout",
     "output_type": "stream",
     "text": [
      "Welcome to Panaversity! Hello Abdullah, I am here to help you.\n",
      "\n"
     ]
    }
   ],
   "source": [
    "from os import name\n",
    "from agents import Agent , Runner , RunContextWrapper , function_tool\n",
    "from dataclasses import dataclass\n",
    "import asyncio\n",
    "\n",
    "@dataclass\n",
    "class UserInfo:\n",
    "    name: str\n",
    "    uuid: int\n",
    "    hobies: list[str]\n",
    "\n",
    "\n",
    "@function_tool\n",
    "async def get_user_info(wrapper : RunContextWrapper[UserInfo] , greeting: str) -> str:\n",
    "    \"\"\"\n",
    "    Greet the user with their name\n",
    "\n",
    "    Args:\n",
    "        greeting: special greeting for the user\n",
    "    \"\"\"\n",
    "    name = wrapper.context.name\n",
    "    return f\"Name: {name} \\nID: {wrapper.context.uuid} \\nHobbies: {wrapper.context.hobies} \\n{greeting}\"\n",
    "\n",
    "async def main():\n",
    "\n",
    "    user_info = UserInfo(\n",
    "        name=\"Abdullah\" ,uuid=1 , hobies=[\"reading\" , \"Programming\"]\n",
    "    )\n",
    "\n",
    "    agent = Agent[UserInfo](\n",
    "        name='Assistant',\n",
    "        instructions=\"Always greet the user using greet_user and welcome them to Panaversity\",\n",
    "        tools=[get_user_info]\n",
    "    )\n",
    "\n",
    "    result = await Runner.run(agent , \"Hi?.\" , context=user_info , run_config=config)\n",
    "    print(result.final_output)\n",
    "\n",
    "\n",
    "if __name__ == \"__main__\":\n",
    "    asyncio.run(main())\n"
   ]
  },
  {
   "cell_type": "code",
   "execution_count": null,
   "id": "4b769793",
   "metadata": {},
   "outputs": [],
   "source": []
  }
 ],
 "metadata": {
  "kernelspec": {
   "display_name": "Python 3",
   "language": "python",
   "name": "python3"
  },
  "language_info": {
   "codemirror_mode": {
    "name": "ipython",
    "version": 3
   },
   "file_extension": ".py",
   "mimetype": "text/x-python",
   "name": "python",
   "nbconvert_exporter": "python",
   "pygments_lexer": "ipython3",
   "version": "3.13.3"
  }
 },
 "nbformat": 4,
 "nbformat_minor": 5
}
