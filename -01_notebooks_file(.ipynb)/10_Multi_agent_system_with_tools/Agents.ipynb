{
 "cells": [
  {
   "cell_type": "code",
   "execution_count": 1,
   "id": "096de895",
   "metadata": {},
   "outputs": [
    {
     "name": "stderr",
     "output_type": "stream",
     "text": [
      "\n",
      "[notice] A new release of pip is available: 25.0.1 -> 25.1.1\n",
      "[notice] To update, run: python.exe -m pip install --upgrade pip\n"
     ]
    }
   ],
   "source": [
    "!pip install -Uq openai-agents"
   ]
  },
  {
   "cell_type": "code",
   "execution_count": 2,
   "id": "635c54a5",
   "metadata": {},
   "outputs": [
    {
     "name": "stderr",
     "output_type": "stream",
     "text": [
      "\n",
      "[notice] A new release of pip is available: 25.0.1 -> 25.1.1\n",
      "[notice] To update, run: python.exe -m pip install --upgrade pip\n"
     ]
    }
   ],
   "source": [
    "!pip install -Uq tavily-python"
   ]
  },
  {
   "cell_type": "code",
   "execution_count": 3,
   "id": "4eefebb7",
   "metadata": {},
   "outputs": [],
   "source": [
    "import nest_asyncio\n",
    "nest_asyncio.apply()"
   ]
  },
  {
   "cell_type": "code",
   "execution_count": 4,
   "id": "1fa9bced",
   "metadata": {},
   "outputs": [],
   "source": [
    "import os \n",
    "from dotenv import load_dotenv , find_dotenv # For Loading environment variables\n",
    "from agents.run import RunConfig\n",
    "\n",
    "# Load environment variables from .env file\n",
    "load_dotenv(find_dotenv())\n",
    "\n",
    "# set SECRET_KEY environment variable\n",
    "GEMINI_API_KEY = os.getenv(\"GEMINI_API_KEY\")\n",
    "SEARCH_API_KEY = os.getenv(\"SEARCH_API_KEY\")\n",
    "model=\"gemini-2.0-flash\"\n",
    "base_url=\"https://generativelanguage.googleapis.com/v1beta/openai/\""
   ]
  },
  {
   "cell_type": "code",
   "execution_count": 5,
   "id": "7a7c9342",
   "metadata": {},
   "outputs": [],
   "source": [
    "from agents.tool import function_tool\n",
    "from tavily import TavilyClient\n",
    "\n",
    "@function_tool(\"search_online\")\n",
    "def xyz(query: str):\n",
    "  \"\"\"Search online for the given query.\"\"\"\n",
    "  tavily_client = TavilyClient(api_key=SEARCH_API_KEY)\n",
    "  response = tavily_client.search(query)\n",
    "  return response"
   ]
  },
  {
   "cell_type": "code",
   "execution_count": 6,
   "id": "bffbbabf",
   "metadata": {},
   "outputs": [],
   "source": [
    "from agents import AsyncOpenAI , OpenAIChatCompletionsModel , set_tracing_disabled\n",
    "\n",
    "set_tracing_disabled(True)\n",
    "\n",
    "provider = AsyncOpenAI(\n",
    "    api_key=GEMINI_API_KEY,\n",
    "    base_url=base_url,\n",
    ")\n",
    "\n",
    "model = OpenAIChatCompletionsModel(\n",
    "    openai_client=provider,\n",
    "    model=model\n",
    ")\n",
    "\n",
    "config = RunConfig(\n",
    "    model=model,\n",
    "    tracing_disabled=True\n",
    ")\n"
   ]
  },
  {
   "cell_type": "code",
   "execution_count": 7,
   "id": "be979e54",
   "metadata": {},
   "outputs": [
    {
     "name": "stdout",
     "output_type": "stream",
     "text": [
      "Today, 1 US Dollar is approximately 281.90 Pakistani Rupees. 💰\n",
      "\n"
     ]
    }
   ],
   "source": [
    "import asyncio\n",
    "from pdb import run\n",
    "from agents import Agent, Runner, set_tracing_disabled\n",
    "\n",
    "set_tracing_disabled(True)\n",
    "\n",
    "agent = Agent(\n",
    "    name=\"SearchAssistant\",\n",
    "    instructions=\"You can search online or simply answer. Response with an Emoji\",\n",
    "    tools=[xyz], # add tools here\n",
    "    model=model\n",
    ")\n",
    "\n",
    "result = Runner.run_sync(agent, \"call search tool and tell what is the todays dollar to pkr price rate\" , run_config=config)\n",
    "print(result.final_output)"
   ]
  },
  {
   "cell_type": "code",
   "execution_count": 8,
   "id": "6fe9f686",
   "metadata": {},
   "outputs": [
    {
     "name": "stdout",
     "output_type": "stream",
     "text": [
      "[{'id': 1, 'title': 'Fjallraven - Foldsack No. 1 Backpack, Fits 15 Laptops', 'price': 109.95, 'description': 'Your perfect pack for everyday use and walks in the forest. Stash your laptop (up to 15 inches) in the padded sleeve, your everyday', 'category': \"men's clothing\", 'image': 'https://fakestoreapi.com/img/81fPKd-2AYL._AC_SL1500_.jpg', 'rating': {'rate': 3.9, 'count': 120}}, {'id': 2, 'title': 'Mens Casual Premium Slim Fit T-Shirts ', 'price': 22.3, 'description': 'Slim-fitting style, contrast raglan long sleeve, three-button henley placket, light weight & soft fabric for breathable and comfortable wearing. And Solid stitched shirts with round neck made for durability and a great fit for casual fashion wear and diehard baseball fans. The Henley style round neckline includes a three-button placket.', 'category': \"men's clothing\", 'image': 'https://fakestoreapi.com/img/71-3HjGNDUL._AC_SY879._SX._UX._SY._UY_.jpg', 'rating': {'rate': 4.1, 'count': 259}}, {'id': 3, 'title': 'Mens Cotton Jacket', 'price': 55.99, 'description': 'great outerwear jackets for Spring/Autumn/Winter, suitable for many occasions, such as working, hiking, camping, mountain/rock climbing, cycling, traveling or other outdoors. Good gift choice for you or your family member. A warm hearted love to Father, husband or son in this thanksgiving or Christmas Day.', 'category': \"men's clothing\", 'image': 'https://fakestoreapi.com/img/71li-ujtlUL._AC_UX679_.jpg', 'rating': {'rate': 4.7, 'count': 500}}, {'id': 4, 'title': 'Mens Casual Slim Fit', 'price': 15.99, 'description': 'The color could be slightly different between on the screen and in practice. / Please note that body builds vary by person, therefore, detailed size information should be reviewed below on the product description.', 'category': \"men's clothing\", 'image': 'https://fakestoreapi.com/img/71YXzeOuslL._AC_UY879_.jpg', 'rating': {'rate': 2.1, 'count': 430}}, {'id': 5, 'title': \"John Hardy Women's Legends Naga Gold & Silver Dragon Station Chain Bracelet\", 'price': 695, 'description': \"From our Legends Collection, the Naga was inspired by the mythical water dragon that protects the ocean's pearl. Wear facing inward to be bestowed with love and abundance, or outward for protection.\", 'category': 'jewelery', 'image': 'https://fakestoreapi.com/img/71pWzhdJNwL._AC_UL640_QL65_ML3_.jpg', 'rating': {'rate': 4.6, 'count': 400}}, {'id': 6, 'title': 'Solid Gold Petite Micropave ', 'price': 168, 'description': 'Satisfaction Guaranteed. Return or exchange any order within 30 days.Designed and sold by Hafeez Center in the United States. Satisfaction Guaranteed. Return or exchange any order within 30 days.', 'category': 'jewelery', 'image': 'https://fakestoreapi.com/img/61sbMiUnoGL._AC_UL640_QL65_ML3_.jpg', 'rating': {'rate': 3.9, 'count': 70}}, {'id': 7, 'title': 'White Gold Plated Princess', 'price': 9.99, 'description': \"Classic Created Wedding Engagement Solitaire Diamond Promise Ring for Her. Gifts to spoil your love more for Engagement, Wedding, Anniversary, Valentine's Day...\", 'category': 'jewelery', 'image': 'https://fakestoreapi.com/img/71YAIFU48IL._AC_UL640_QL65_ML3_.jpg', 'rating': {'rate': 3, 'count': 400}}, {'id': 8, 'title': 'Pierced Owl Rose Gold Plated Stainless Steel Double', 'price': 10.99, 'description': 'Rose Gold Plated Double Flared Tunnel Plug Earrings. Made of 316L Stainless Steel', 'category': 'jewelery', 'image': 'https://fakestoreapi.com/img/51UDEzMJVpL._AC_UL640_QL65_ML3_.jpg', 'rating': {'rate': 1.9, 'count': 100}}, {'id': 9, 'title': 'WD 2TB Elements Portable External Hard Drive - USB 3.0 ', 'price': 64, 'description': 'USB 3.0 and USB 2.0 Compatibility Fast data transfers Improve PC Performance High Capacity; Compatibility Formatted NTFS for Windows 10, Windows 8.1, Windows 7; Reformatting may be required for other operating systems; Compatibility may vary depending on user’s hardware configuration and operating system', 'category': 'electronics', 'image': 'https://fakestoreapi.com/img/61IBBVJvSDL._AC_SY879_.jpg', 'rating': {'rate': 3.3, 'count': 203}}, {'id': 10, 'title': 'SanDisk SSD PLUS 1TB Internal SSD - SATA III 6 Gb/s', 'price': 109, 'description': 'Easy upgrade for faster boot up, shutdown, application load and response (As compared to 5400 RPM SATA 2.5” hard drive; Based on published specifications and internal benchmarking tests using PCMark vantage scores) Boosts burst write performance, making it ideal for typical PC workloads The perfect balance of performance and reliability Read/write speeds of up to 535MB/s/450MB/s (Based on internal testing; Performance may vary depending upon drive capacity, host device, OS and application.)', 'category': 'electronics', 'image': 'https://fakestoreapi.com/img/61U7T1koQqL._AC_SX679_.jpg', 'rating': {'rate': 2.9, 'count': 470}}, {'id': 11, 'title': 'Silicon Power 256GB SSD 3D NAND A55 SLC Cache Performance Boost SATA III 2.5', 'price': 109, 'description': '3D NAND flash are applied to deliver high transfer speeds Remarkable transfer speeds that enable faster bootup and improved overall system performance. The advanced SLC Cache Technology allows performance boost and longer lifespan 7mm slim design suitable for Ultrabooks and Ultra-slim notebooks. Supports TRIM command, Garbage Collection technology, RAID, and ECC (Error Checking & Correction) to provide the optimized performance and enhanced reliability.', 'category': 'electronics', 'image': 'https://fakestoreapi.com/img/71kWymZ+c+L._AC_SX679_.jpg', 'rating': {'rate': 4.8, 'count': 319}}, {'id': 12, 'title': 'WD 4TB Gaming Drive Works with Playstation 4 Portable External Hard Drive', 'price': 114, 'description': \"Expand your PS4 gaming experience, Play anywhere Fast and easy, setup Sleek design with high capacity, 3-year manufacturer's limited warranty\", 'category': 'electronics', 'image': 'https://fakestoreapi.com/img/61mtL65D4cL._AC_SX679_.jpg', 'rating': {'rate': 4.8, 'count': 400}}, {'id': 13, 'title': 'Acer SB220Q bi 21.5 inches Full HD (1920 x 1080) IPS Ultra-Thin', 'price': 599, 'description': '21. 5 inches Full HD (1920 x 1080) widescreen IPS display And Radeon free Sync technology. No compatibility for VESA Mount Refresh Rate: 75Hz - Using HDMI port Zero-frame design | ultra-thin | 4ms response time | IPS panel Aspect ratio - 16: 9. Color Supported - 16. 7 million colors. Brightness - 250 nit Tilt angle -5 degree to 15 degree. Horizontal viewing angle-178 degree. Vertical viewing angle-178 degree 75 hertz', 'category': 'electronics', 'image': 'https://fakestoreapi.com/img/81QpkIctqPL._AC_SX679_.jpg', 'rating': {'rate': 2.9, 'count': 250}}, {'id': 14, 'title': 'Samsung 49-Inch CHG90 144Hz Curved Gaming Monitor (LC49HG90DMNXZA) – Super Ultrawide Screen QLED ', 'price': 999.99, 'description': '49 INCH SUPER ULTRAWIDE 32:9 CURVED GAMING MONITOR with dual 27 inch screen side by side QUANTUM DOT (QLED) TECHNOLOGY, HDR support and factory calibration provides stunningly realistic and accurate color and contrast 144HZ HIGH REFRESH RATE and 1ms ultra fast response time work to eliminate motion blur, ghosting, and reduce input lag', 'category': 'electronics', 'image': 'https://fakestoreapi.com/img/81Zt42ioCgL._AC_SX679_.jpg', 'rating': {'rate': 2.2, 'count': 140}}, {'id': 15, 'title': \"BIYLACLESEN Women's 3-in-1 Snowboard Jacket Winter Coats\", 'price': 56.99, 'description': 'Note:The Jackets is US standard size, Please choose size as your usual wear Material: 100% Polyester; Detachable Liner Fabric: Warm Fleece. Detachable Functional Liner: Skin Friendly, Lightweigt and Warm.Stand Collar Liner jacket, keep you warm in cold weather. Zippered Pockets: 2 Zippered Hand Pockets, 2 Zippered Pockets on Chest (enough to keep cards or keys)and 1 Hidden Pocket Inside.Zippered Hand Pockets and Hidden Pocket keep your things secure. Humanized Design: Adjustable and Detachable Hood and Adjustable cuff to prevent the wind and water,for a comfortable fit. 3 in 1 Detachable Design provide more convenience, you can separate the coat and inner as needed, or wear it together. It is suitable for different season and help you adapt to different climates', 'category': \"women's clothing\", 'image': 'https://fakestoreapi.com/img/51Y5NI-I5jL._AC_UX679_.jpg', 'rating': {'rate': 2.6, 'count': 235}}, {'id': 16, 'title': \"Lock and Love Women's Removable Hooded Faux Leather Moto Biker Jacket\", 'price': 29.95, 'description': '100% POLYURETHANE(shell) 100% POLYESTER(lining) 75% POLYESTER 25% COTTON (SWEATER), Faux leather material for style and comfort / 2 pockets of front, 2-For-One Hooded denim style faux leather jacket, Button detail on waist / Detail stitching at sides, HAND WASH ONLY / DO NOT BLEACH / LINE DRY / DO NOT IRON', 'category': \"women's clothing\", 'image': 'https://fakestoreapi.com/img/81XH0e8fefL._AC_UY879_.jpg', 'rating': {'rate': 2.9, 'count': 340}}, {'id': 17, 'title': 'Rain Jacket Women Windbreaker Striped Climbing Raincoats', 'price': 39.99, 'description': \"Lightweight perfet for trip or casual wear---Long sleeve with hooded, adjustable drawstring waist design. Button and zipper front closure raincoat, fully stripes Lined and The Raincoat has 2 side pockets are a good size to hold all kinds of things, it covers the hips, and the hood is generous but doesn't overdo it.Attached Cotton Lined Hood with Adjustable Drawstrings give it a real styled look.\", 'category': \"women's clothing\", 'image': 'https://fakestoreapi.com/img/71HblAHs5xL._AC_UY879_-2.jpg', 'rating': {'rate': 3.8, 'count': 679}}, {'id': 18, 'title': \"MBJ Women's Solid Short Sleeve Boat Neck V \", 'price': 9.85, 'description': '95% RAYON 5% SPANDEX, Made in USA or Imported, Do Not Bleach, Lightweight fabric with great stretch for comfort, Ribbed on sleeves and neckline / Double stitching on bottom hem', 'category': \"women's clothing\", 'image': 'https://fakestoreapi.com/img/71z3kpMAYsL._AC_UY879_.jpg', 'rating': {'rate': 4.7, 'count': 130}}, {'id': 19, 'title': \"Opna Women's Short Sleeve Moisture\", 'price': 7.95, 'description': '100% Polyester, Machine wash, 100% cationic polyester interlock, Machine Wash & Pre Shrunk for a Great Fit, Lightweight, roomy and highly breathable with moisture wicking fabric which helps to keep moisture away, Soft Lightweight Fabric with comfortable V-neck collar and a slimmer fit, delivers a sleek, more feminine silhouette and Added Comfort', 'category': \"women's clothing\", 'image': 'https://fakestoreapi.com/img/51eg55uWmdL._AC_UX679_.jpg', 'rating': {'rate': 4.5, 'count': 146}}, {'id': 20, 'title': 'DANVOUY Womens T Shirt Casual Cotton Short', 'price': 12.99, 'description': '95%Cotton,5%Spandex, Features: Casual, Short Sleeve, Letter Print,V-Neck,Fashion Tees, The fabric is soft and has some stretch., Occasion: Casual/Office/Beach/School/Home/Street. Season: Spring,Summer,Autumn,Winter.', 'category': \"women's clothing\", 'image': 'https://fakestoreapi.com/img/61pHAEJ4NML._AC_UX679_.jpg', 'rating': {'rate': 3.6, 'count': 145}}]\n"
     ]
    }
   ],
   "source": [
    "import requests\n",
    "response = requests.get('https://fakestoreapi.com/products')\n",
    "\n",
    "print(response.json())"
   ]
  },
  {
   "cell_type": "markdown",
   "id": "0dabbf0a",
   "metadata": {},
   "source": [
    "# Context For Customer"
   ]
  },
  {
   "cell_type": "code",
   "execution_count": 9,
   "id": "09691752",
   "metadata": {},
   "outputs": [],
   "source": [
    "from dataclasses import dataclass\n",
    "\n",
    "@dataclass\n",
    "class CustomerInfo:\n",
    "    name:str\n",
    "    shoping_cart : list[str]\n",
    "    ID:int"
   ]
  },
  {
   "cell_type": "markdown",
   "id": "d80b2e68",
   "metadata": {},
   "source": [
    "# Tools For Shoping_Agent"
   ]
  },
  {
   "cell_type": "code",
   "execution_count": null,
   "id": "1ba21e38",
   "metadata": {},
   "outputs": [],
   "source": [
    "from agents import RunContextWrapper, function_tool\n",
    "\n",
    "\n",
    "@function_tool\n",
    "async def get_customer_info(wrapper : RunContextWrapper[CustomerInfo]):\n",
    "    \"\"\"\n",
    "    Get customer info from Context Wrapper\n",
    "\n",
    "    Args:\n",
    "        wrapper (RunContextWrapper[CustomerInfo]): _description_\n",
    "    \"\"\"\n",
    "\n",
    "    print(\"Getting customer info\")\n",
    "    return wrapper.context.name\n",
    "\n",
    "@function_tool\n",
    "async def get_shopping_cart(wrapper : RunContextWrapper[CustomerInfo]) -> list[str]:\n",
    "    \"\"\"\n",
    "    Get customer info from Context Wrapper\n",
    "\n",
    "    Args:\n",
    "        wrapper (RunContextWrapper[CustomerInfo]): _description_\n",
    "    \"\"\"\n",
    "\n",
    "    print(\"Getting customer info\")\n",
    "    return wrapper.context.shoping_cart\n",
    "\n",
    "\n",
    "@function_tool\n",
    "async def get_all_products_in_store(wrapper : RunContextWrapper[CustomerInfo]):\n",
    "  \"\"\"\n",
    "  Get Products From Store\n",
    "\n",
    "  \"\"\"\n",
    "\n",
    "  print(\"Getting Products From Store\")\n",
    "  response = requests.get('https://fakestoreapi.com/products')\n",
    "  return response.json()\n",
    "\n",
    "@function_tool\n",
    "async def add_to_cart(wrapper : RunContextWrapper[CustomerInfo] , items : list[str])-> None:\n",
    "  \"\"\"\n",
    "  Add Product To Cart\n",
    "\n",
    "  \"\"\"\n",
    "\n",
    "  print(\"Adding Product To Cart\")\n",
    "  return wrapper.context.shoping_cart.extend(items)\n",
    "\n",
    "@function_tool\n",
    "async def remove_from_cart(wrapper : RunContextWrapper[CustomerInfo] , items : list[str])-> None:\n",
    "  \"\"\"\n",
    "  Remove Product From Cart\n",
    "\n",
    "  \"\"\"\n",
    "\n",
    "  print(\"Removing Product From Cart\")\n",
    "  return wrapper.context.shoping_cart.remove(items) # type: ignore"
   ]
  },
  {
   "cell_type": "markdown",
   "id": "8fe6d67a",
   "metadata": {},
   "source": [
    "# Tools For Manager Agent"
   ]
  },
  {
   "cell_type": "code",
   "execution_count": 32,
   "id": "f66d28cc",
   "metadata": {},
   "outputs": [],
   "source": [
    "# 1. Order Status Tool\n",
    "from typing import Any, Dict\n",
    "\n",
    "@function_tool\n",
    "def get_order_status(order_id: str) -> Dict[str, Any]:\n",
    "    \"\"\"\n",
    "    Fetches the current status of an order.\n",
    "    \n",
    "    Args:\n",
    "      order_id: The unique identifier of the order.\n",
    "    \n",
    "    Returns:\n",
    "      A dict with keys:\n",
    "        - status: e.g. \"Processing\", \"Shipped\", \"Delivered\"\n",
    "        - estimated_delivery: ISO timestamp of expected delivery\n",
    "        - last_updated: ISO timestamp of last status update\n",
    "    \"\"\"\n",
    "    # …your code to call your DB or 3rd‑party API…\n",
    "    return {\n",
    "        \"status\": \"In Transit\",\n",
    "        \"estimated_delivery\": \"2025-05-10T18:00:00Z\",\n",
    "        \"last_updated\": \"2025-05-07T09:30:00Z\"\n",
    "    }\n",
    "\n",
    "# 2. Refund Processing Tool\n",
    "@function_tool\n",
    "def order_refund(order_id: str, amount: float, reason: str) -> Dict[str, Any]:\n",
    "    \"\"\"\n",
    "    Initiates a refund for a given order.\n",
    "    \n",
    "    Args:\n",
    "      order_id: The order to refund.\n",
    "      amount: Amount (in USD) to refund.\n",
    "      reason: Customer‑facing reason for refund.\n",
    "    \n",
    "    Returns:\n",
    "      A dict with keys:\n",
    "        - refund_id: Unique refund transaction ID\n",
    "        - status: e.g. \"Pending\", \"Completed\"\n",
    "        - processed_at: ISO timestamp\n",
    "    \"\"\"\n",
    "    # …your code to call Stripe/PayPal/refund API…\n",
    "    return {\n",
    "        \"refund_id\": \"rf_789\",\n",
    "        \"status\": \"Completed\",\n",
    "        \"processed_at\": \"2025-05-07T10:15:00Z\"\n",
    "    }\n",
    "\n",
    "\n",
    "# 3. Customer Support Tool\n",
    "@function_tool\n",
    "def create_support_ticket(user_id: str, subject: str, message: str) -> Dict[str, Any]:\n",
    "    \"\"\"\n",
    "    Opens a customer‑support ticket.\n",
    "    \n",
    "    Args:\n",
    "      user_id: The customer’s user ID.\n",
    "      subject: Short summary of the issue.\n",
    "      message: Detailed description.\n",
    "    \n",
    "    Returns:\n",
    "      A dict with keys:\n",
    "        - ticket_id: Unique support ticket ID\n",
    "        - status: e.g. \"Open\", \"In Progress\"\n",
    "        - created_at: ISO timestamp\n",
    "    \"\"\"\n",
    "    # …your code to call Zendesk/Intercom API or your own ticketing DB…\n",
    "    return {\n",
    "        \"ticket_id\": \"TCKT-456\",\n",
    "        \"status\": \"Open\",\n",
    "        \"created_at\": \"2025-05-07T10:20:00Z\"\n",
    "    }"
   ]
  },
  {
   "cell_type": "markdown",
   "id": "9c049ddd",
   "metadata": {},
   "source": [
    "## Agents Prompts"
   ]
  },
  {
   "cell_type": "code",
   "execution_count": 12,
   "id": "966269b6",
   "metadata": {},
   "outputs": [],
   "source": [
    "shoping_agent_prompt = \"\"\"\n",
    "system: |\n",
    "  You are ShoppingAgent, an expert e‑commerce assistant. Your only job is to satisfy customer shopping requests by invoking the exact tool functions provided—never invent business logic yourself.\n",
    "\n",
    "  On each user message:\n",
    "    1. **Decide Intent**  \n",
    "       - If user wants to browse or filter products → call `get_all_products_in_store`.  \n",
    "       - If user wants to view their cart → call `get_shopping_cart`.  \n",
    "       - If user wants to add items → call `add_to_cart`.  \n",
    "       - If user wants to remove items → call `remove_from_cart`.  \n",
    "       - If you need user identity or personalization → call `get_customer_info`.  \n",
    "    2. **Call Tool First**  \n",
    "       - Always emit the appropriate `@function_tool` call with exactly the parsed parameters.  \n",
    "    3. **Interpret & Reply**  \n",
    "       - Transform the raw tool output into a friendly customer message:  \n",
    "         • List products with key details (title, price, id).  \n",
    "         • Confirm cart contents after add/remove.  \n",
    "         • Ask clarifying questions if input is ambiguous (e.g. no item IDs specified).  \n",
    "    4. **Error Handling**  \n",
    "       - If a tool returns an error or empty result, apologize and suggest next steps (“I couldn’t find that item—would you like to search by keyword?”).  \n",
    "    5. **Next Steps Prompt**  \n",
    "       - End every reply with a question about what to do next (“Anything else you’d like to add or remove?”).\n",
    "\n",
    "  Tools (function names & signatures):\n",
    "    • `get_customer_info(wrapper) → str`  \n",
    "    • `get_shopping_cart(wrapper) → list[str]`  \n",
    "    • `get_all_products_in_store(wrapper) → list[Product]`  \n",
    "    • `add_to_cart(wrapper, items: list[str]) → None`  \n",
    "    • `remove_from_cart(wrapper, items: list[str]) → None`  \n",
    "\n",
    "\n",
    "\"\"\""
   ]
  },
  {
   "cell_type": "code",
   "execution_count": 14,
   "id": "f07b4359",
   "metadata": {},
   "outputs": [],
   "source": [
    "manager_agent_prompt = \"\"\"\n",
    "system: |\n",
    "  You are ManagerAgent, the escalation and resolution specialist for order issues. Your sole focus is to handle any request related to order status, refunds, or support tickets by invoking the exact tool functions provided—never perform business logic yourself.\n",
    "\n",
    "  On each user message:\n",
    "    1. **Decide Intent**  \n",
    "       - If user asks “Where is my order?” → call `get_order_status(order_id)`.  \n",
    "       - If user requests a refund → call `order_refund(order_id, amount, reason)`.  \n",
    "       - If user needs human help or any issue remains unresolved → call `create_support_ticket(user_id, subject, message)`.  \n",
    "    2. **Tool‑First**  \n",
    "       - Always emit the appropriate `@function_tool` call with parsed parameters before any explanation.  \n",
    "    3. **Interpret & Reply**  \n",
    "       - Turn tool output into a concise customer message: status details, refund confirmation, or ticket number.  \n",
    "       - Provide next steps or expected timelines.  \n",
    "    4. **Error Handling**  \n",
    "       - If a tool returns an error or unexpected result, apologize, summarize the error, and offer to open a support ticket.  \n",
    "    5. **Next‑Step Prompt**  \n",
    "       - End every reply with a question: “Anything else I can resolve for you today?”\n",
    "\n",
    "  Tools (names & signatures):\n",
    "    • `get_order_status(order_id: str) → Dict[str, Any]`  \n",
    "    • `order_refund(order_id: str, amount: float, reason: str) → Dict[str, Any]`  \n",
    "    • `create_support_ticket(user_id: str, subject: str, message: str) → Dict[str, Any]`  \n",
    "\n",
    "\n",
    "\"\"\"\n"
   ]
  },
  {
   "cell_type": "code",
   "execution_count": 30,
   "id": "59ced3a1",
   "metadata": {},
   "outputs": [],
   "source": [
    "triage_agent_prompt = \"\"\"\n",
    "system: |\n",
    "  You are TriageAgent, the dispatcher that NEVER takes action yourself—you only classify and forward to the correct expert agent.  \n",
    "\n",
    "  On each incoming user message:\n",
    "    1. **Classify** into one of:\n",
    "       - product_flow  (browsing, cart, checkout)\n",
    "       - order_flow    (status, refund)\n",
    "       - support       (any “ticket”, “help”, “issue”, “problem”)\n",
    "       - system_health (errors, metrics, alerts)\n",
    "    2. **Priority**: assign P1–P4.  \n",
    "       - P1: site-down, lost funds, legal  \n",
    "       - P2: payment/refund failures, data loss  \n",
    "       - P3: order status questions, general support  \n",
    "       - P4: browsing, low‑impact feedback  \n",
    "    3. **Route**:\n",
    "       - product_flow → ShoppingAgent  \n",
    "       - order_flow   → ManagerAgent (for status/refunds)  \n",
    "       - support      → SupportAgent  \n",
    "       - system_health→ ManagerAgent  \n",
    "    4. **Log** the decision:  \n",
    "       `log_event(\"INFO\", \"Triage → {category}, {severity}, routed to {agent}\")`  \n",
    "    5. **Reply** to user immediately with:\n",
    "       “🔄 Classified as `<category>` (severity `<severity>`). Routed to `<AgentName>`. Anything else I can triage?”\n",
    "\n",
    "  If classification confidence is low, ask one clarifying question instead of routing.\n",
    "\n",
    "  Tools:\n",
    "    • classify_issue(text: str) → {category: str, severity: str, confidence: float}  \n",
    "    • log_event(level: str, message: str) → None  \n",
    "    • route_to_agent(agent_name: str, payload: Any) → RoutingResult  \n",
    "\n",
    "\"\"\""
   ]
  },
  {
   "cell_type": "markdown",
   "id": "1006394b",
   "metadata": {},
   "source": [
    "# Agents"
   ]
  },
  {
   "cell_type": "code",
   "execution_count": null,
   "id": "9ec7d0a7",
   "metadata": {},
   "outputs": [],
   "source": [
    "shoping_agent = Agent[CustomerInfo](\n",
    "    name=\"Shoping Agent\",\n",
    "    instructions=shoping_agent_prompt,\n",
    "    tools=[get_customer_info , get_all_products_in_store , get_shopping_cart , add_to_cart , remove_from_cart],\n",
    "    model=model\n",
    ")\n",
    "\n",
    "manager_agent = Agent[CustomerInfo](\n",
    "    name=\"Manager Agent\",\n",
    "    instructions=manager_agent_prompt,\n",
    "    tools=[get_order_status , order_refund , create_support_ticket],\n",
    "    model=model    \n",
    ")\n",
    "\n",
    "triage_agent = Agent(\n",
    "    name=\"Triage Agent\",\n",
    "    instructions=triage_agent_prompt,\n",
    "    handoffs=[shoping_agent , manager_agent],\n",
    "    model=model\n",
    ")"
   ]
  },
  {
   "cell_type": "code",
   "execution_count": 48,
   "id": "9d5ffc7b",
   "metadata": {},
   "outputs": [
    {
     "name": "stdout",
     "output_type": "stream",
     "text": [
      "Getting Products From Store\n",
      "OK, I found these products: Fjallraven - Foldsack No. 1 Backpack, Fits 15 Laptops (id: 1, price: 109.95), Mens Casual Premium Slim Fit T-Shirts (id: 2, price: 22.3), Mens Cotton Jacket (id: 3, price: 55.99), Mens Casual Slim Fit (id: 4, price: 15.99), John Hardy Women's Legends Naga Gold & Silver Dragon Station Chain Bracelet (id: 5, price: 695), Solid Gold Petite Micropave (id: 6, price: 168), White Gold Plated Princess (id: 7, price: 9.99), Pierced Owl Rose Gold Plated Stainless Steel Double (id: 8, price: 10.99), WD 2TB Elements Portable External Hard Drive - USB 3.0 (id: 9, price: 64), SanDisk SSD PLUS 1TB Internal SSD - SATA III 6 Gb/s (id: 10, price: 109), Silicon Power 256GB SSD 3D NAND A55 SLC Cache Performance Boost SATA III 2.5 (id: 11, price: 109), WD 4TB Gaming Drive Works with Playstation 4 Portable External Hard Drive (id: 12, price: 114), Acer SB220Q bi 21.5 inches Full HD (1920 x 1080) IPS Ultra-Thin (id: 13, price: 599), Samsung 49-Inch CHG90 144Hz Curved Gaming Monitor (LC49HG90DMNXZA) – Super Ultrawide Screen QLED (id: 14, price: 999.99), BIYLACLESEN Women's 3-in-1 Snowboard Jacket Winter Coats (id: 15, price: 56.99), Lock and Love Women's Removable Hooded Faux Leather Moto Biker Jacket (id: 16, price: 29.95), Rain Jacket Women Windbreaker Striped Climbing Raincoats (id: 17, price: 39.99), MBJ Women's Solid Short Sleeve Boat Neck V (id: 18, price: 9.85), Opna Women's Short Sleeve Moisture (id: 19, price: 7.95), DANVOUY Womens T Shirt Casual Cotton Short (id: 20, price: 12.99).\n",
      "\n",
      "Is there anything else I can help you with?\n",
      "\n"
     ]
    }
   ],
   "source": [
    "from agents import TResponseInputItem\n",
    "\n",
    "conva : list[TResponseInputItem] = []\n",
    "\n",
    "user_info = CustomerInfo(name=\"Ali\" , shoping_cart=[\"laptop\"] , ID=123)\n",
    "\n",
    "user_input = \"I want to see all available laptops.\"\n",
    "conva.append({\"content\" : user_input , \"role\" : \"user\"})\n",
    "result = await Runner.run(triage_agent , conva , run_config=config , context=user_info)\n",
    "print(result.final_output)"
   ]
  },
  {
   "cell_type": "code",
   "execution_count": 34,
   "id": "28f96412",
   "metadata": {},
   "outputs": [
    {
     "name": "stdout",
     "output_type": "stream",
     "text": [
      "Adding Product To Cart\n",
      "OK. I have added items 1 and 5 to your cart. Anything else you’d like to add or remove?\n",
      "\n"
     ]
    }
   ],
   "source": [
    "from agents import TResponseInputItem\n",
    "\n",
    "conva : list[TResponseInputItem] = []\n",
    "\n",
    "user_info = CustomerInfo(name=\"Ali\" , shoping_cart=[\"laptop\"] , ID=123)\n",
    "\n",
    "user_input = \"Add item 1 and 5 to my cart.\"\n",
    "conva.append({\"content\" : user_input , \"role\" : \"user\"})\n",
    "result = await Runner.run(triage_agent , conva , run_config=config , context=user_info)\n",
    "print(result.final_output)"
   ]
  },
  {
   "cell_type": "code",
   "execution_count": 52,
   "id": "0c1d4d40",
   "metadata": {},
   "outputs": [
    {
     "name": "stdout",
     "output_type": "stream",
     "text": [
      "Getting customer info\n",
      "Your cart contains a laptop. Anything else you'd like to add or remove?\n",
      "\n"
     ]
    }
   ],
   "source": [
    "result = await Runner.run(triage_agent , \"Share my cart\" , run_config=config , context=user_info)\n",
    "print(result.final_output)"
   ]
  },
  {
   "cell_type": "code",
   "execution_count": 42,
   "id": "0d7f0362",
   "metadata": {},
   "outputs": [
    {
     "name": "stdout",
     "output_type": "stream",
     "text": [
      "Transfered to Manager Agent\n",
      "Order ID 5 is currently in transit and is expected to be delivered by May 10, 2025. The last update was on May 7, 2025. Anything else I can resolve for you today?\n",
      "\n"
     ]
    }
   ],
   "source": [
    "result = await Runner.run(triage_agent , \"what is my order status ID 5?\" , run_config=config , context=user_info)\n",
    "print(f\"Transfered to {result.last_agent.name}\")\n",
    "print(result.final_output)"
   ]
  },
  {
   "cell_type": "code",
   "execution_count": 44,
   "id": "ad66b778",
   "metadata": {},
   "outputs": [
    {
     "name": "stdout",
     "output_type": "stream",
     "text": [
      "Transfered to Manager Agent\n",
      "I am designed to handle order-related requests such as order status, refunds, and support tickets. Could you please specify your request related to an order?\n",
      "\n"
     ]
    }
   ],
   "source": [
    "result = await Runner.run(triage_agent , \"My System Health is 20% Down\" , run_config=config , context=user_info)\n",
    "print(f\"Transfered to {result.last_agent.name}\")\n",
    "print(result.final_output)"
   ]
  },
  {
   "cell_type": "code",
   "execution_count": 45,
   "id": "4a5bb2c5",
   "metadata": {},
   "outputs": [
    {
     "name": "stdout",
     "output_type": "stream",
     "text": [
      "What is the amount you would like refunded and the reason for the refund?\n",
      "\n"
     ]
    }
   ],
   "source": [
    "result = await Runner.run(triage_agent , \"how I order #5 refund?\" , run_config=config , context=user_info)\n",
    "print(result.final_output)"
   ]
  },
  {
   "cell_type": "code",
   "execution_count": 38,
   "id": "04a572a3",
   "metadata": {},
   "outputs": [
    {
     "data": {
      "image/svg+xml": [
       "<?xml version=\"1.0\" encoding=\"UTF-8\" standalone=\"no\"?>\n",
       "<!DOCTYPE svg PUBLIC \"-//W3C//DTD SVG 1.1//EN\"\n",
       " \"http://www.w3.org/Graphics/SVG/1.1/DTD/svg11.dtd\">\n",
       "<!-- Generated by graphviz version 12.2.1 (20241206.2353)\n",
       " -->\n",
       "<!-- Title: G Pages: 1 -->\n",
       "<svg width=\"1654pt\" height=\"298pt\"\n",
       " viewBox=\"0.00 0.00 1653.86 298.38\" xmlns=\"http://www.w3.org/2000/svg\" xmlns:xlink=\"http://www.w3.org/1999/xlink\">\n",
       "<g id=\"graph0\" class=\"graph\" transform=\"scale(1 1) rotate(0) translate(4 294.38)\">\n",
       "<title>G</title>\n",
       "<polygon fill=\"white\" stroke=\"none\" points=\"-4,4 -4,-294.38 1649.86,-294.38 1649.86,4 -4,4\"/>\n",
       "<!-- __start__ -->\n",
       "<g id=\"node1\" class=\"node\">\n",
       "<title>__start__</title>\n",
       "<ellipse fill=\"lightblue\" stroke=\"black\" cx=\"869.33\" cy=\"-273.58\" rx=\"51.09\" ry=\"16.79\"/>\n",
       "<text text-anchor=\"middle\" x=\"869.33\" y=\"-268.16\" font-family=\"Arial\" font-size=\"14.00\">__start__</text>\n",
       "</g>\n",
       "<!-- Triage Agent -->\n",
       "<g id=\"node3\" class=\"node\">\n",
       "<title>Triage Agent</title>\n",
       "<polygon fill=\"lightyellow\" stroke=\"black\" points=\"923.33,-220.79 815.33,-220.79 815.33,-163.19 923.33,-163.19 923.33,-220.79\"/>\n",
       "<text text-anchor=\"middle\" x=\"869.33\" y=\"-186.56\" font-family=\"Arial\" font-size=\"14.00\">Triage Agent</text>\n",
       "</g>\n",
       "<!-- __start__&#45;&gt;Triage Agent -->\n",
       "<g id=\"edge1\" class=\"edge\">\n",
       "<title>__start__&#45;&gt;Triage Agent</title>\n",
       "<path fill=\"none\" stroke=\"black\" stroke-width=\"1.5\" d=\"M869.33,-256.47C869.33,-249.64 869.33,-241.34 869.33,-233.02\"/>\n",
       "<polygon fill=\"black\" stroke=\"black\" stroke-width=\"1.5\" points=\"872.83,-233.26 869.33,-223.26 865.83,-233.26 872.83,-233.26\"/>\n",
       "</g>\n",
       "<!-- __end__ -->\n",
       "<g id=\"node2\" class=\"node\">\n",
       "<title>__end__</title>\n",
       "<ellipse fill=\"lightblue\" stroke=\"black\" cx=\"1041.33\" cy=\"-16.79\" rx=\"48.44\" ry=\"16.79\"/>\n",
       "<text text-anchor=\"middle\" x=\"1041.33\" y=\"-11.37\" font-family=\"Arial\" font-size=\"14.00\">__end__</text>\n",
       "</g>\n",
       "<!-- Shoping Agent -->\n",
       "<g id=\"node4\" class=\"node\">\n",
       "<title>Shoping Agent</title>\n",
       "<polygon fill=\"lightyellow\" stroke=\"black\" points=\"686.33,-127.19 578.33,-127.19 578.33,-69.59 686.33,-69.59 686.33,-127.19\"/>\n",
       "<text text-anchor=\"middle\" x=\"632.33\" y=\"-92.96\" font-family=\"Arial\" font-size=\"14.00\">Shoping Agent</text>\n",
       "</g>\n",
       "<!-- Triage Agent&#45;&gt;Shoping Agent -->\n",
       "<g id=\"edge2\" class=\"edge\">\n",
       "<title>Triage Agent&#45;&gt;Shoping Agent</title>\n",
       "<path fill=\"none\" stroke=\"black\" stroke-width=\"1.5\" d=\"M814.96,-169.97C780.03,-156.47 734.47,-138.86 697.6,-124.61\"/>\n",
       "<polygon fill=\"black\" stroke=\"black\" stroke-width=\"1.5\" points=\"699.16,-121.46 688.57,-121.12 696.64,-127.99 699.16,-121.46\"/>\n",
       "</g>\n",
       "<!-- Manager Agent -->\n",
       "<g id=\"node10\" class=\"node\">\n",
       "<title>Manager Agent</title>\n",
       "<polygon fill=\"lightyellow\" stroke=\"black\" points=\"1327.46,-127.19 1219.21,-127.19 1219.21,-69.59 1327.46,-69.59 1327.46,-127.19\"/>\n",
       "<text text-anchor=\"middle\" x=\"1273.33\" y=\"-92.96\" font-family=\"Arial\" font-size=\"14.00\">Manager Agent</text>\n",
       "</g>\n",
       "<!-- Triage Agent&#45;&gt;Manager Agent -->\n",
       "<g id=\"edge14\" class=\"edge\">\n",
       "<title>Triage Agent&#45;&gt;Manager Agent</title>\n",
       "<path fill=\"none\" stroke=\"black\" stroke-width=\"1.5\" d=\"M923.82,-178.63C997.26,-161.98 1127.91,-132.36 1206.99,-114.43\"/>\n",
       "<polygon fill=\"black\" stroke=\"black\" stroke-width=\"1.5\" points=\"1207.55,-117.89 1216.53,-112.27 1206,-111.06 1207.55,-117.89\"/>\n",
       "</g>\n",
       "<!-- Shoping Agent&#45;&gt;__end__ -->\n",
       "<g id=\"edge13\" class=\"edge\">\n",
       "<title>Shoping Agent&#45;&gt;__end__</title>\n",
       "<path fill=\"none\" stroke=\"black\" stroke-width=\"1.5\" d=\"M686.61,-89.12C756.02,-78.19 879.74,-57.5 984.33,-33.59 987.31,-32.91 990.37,-32.17 993.44,-31.4\"/>\n",
       "<polygon fill=\"black\" stroke=\"black\" stroke-width=\"1.5\" points=\"994.28,-34.8 1003.08,-28.89 992.52,-28.03 994.28,-34.8\"/>\n",
       "</g>\n",
       "<!-- get_customer_info -->\n",
       "<g id=\"node5\" class=\"node\">\n",
       "<title>get_customer_info</title>\n",
       "<ellipse fill=\"lightgreen\" stroke=\"black\" cx=\"90.33\" cy=\"-16.79\" rx=\"90.33\" ry=\"16.79\"/>\n",
       "<text text-anchor=\"middle\" x=\"90.33\" y=\"-11.37\" font-family=\"Arial\" font-size=\"14.00\">get_customer_info</text>\n",
       "</g>\n",
       "<!-- Shoping Agent&#45;&gt;get_customer_info -->\n",
       "<g id=\"edge3\" class=\"edge\">\n",
       "<title>Shoping Agent&#45;&gt;get_customer_info</title>\n",
       "<path fill=\"none\" stroke=\"black\" stroke-width=\"1.5\" stroke-dasharray=\"1,5\" d=\"M577.93,-90.6C492.79,-79.19 323.42,-55.3 180.33,-33.59 175.16,-32.8 169.84,-31.98 164.48,-31.15\"/>\n",
       "<polygon fill=\"black\" stroke=\"black\" stroke-width=\"1.5\" points=\"165.43,-27.76 155.01,-29.66 164.35,-34.67 165.43,-27.76\"/>\n",
       "</g>\n",
       "<!-- get_all_products_in_store -->\n",
       "<g id=\"node6\" class=\"node\">\n",
       "<title>get_all_products_in_store</title>\n",
       "<ellipse fill=\"lightgreen\" stroke=\"black\" cx=\"319.33\" cy=\"-16.79\" rx=\"120.56\" ry=\"16.79\"/>\n",
       "<text text-anchor=\"middle\" x=\"319.33\" y=\"-11.37\" font-family=\"Arial\" font-size=\"14.00\">get_all_products_in_store</text>\n",
       "</g>\n",
       "<!-- Shoping Agent&#45;&gt;get_all_products_in_store -->\n",
       "<g id=\"edge5\" class=\"edge\">\n",
       "<title>Shoping Agent&#45;&gt;get_all_products_in_store</title>\n",
       "<path fill=\"none\" stroke=\"black\" stroke-width=\"1.5\" stroke-dasharray=\"1,5\" d=\"M578.01,-84.86C523.7,-71.56 440.36,-50.42 382.99,-35.44\"/>\n",
       "<polygon fill=\"black\" stroke=\"black\" stroke-width=\"1.5\" points=\"383.92,-32.06 373.36,-32.91 382.14,-38.83 383.92,-32.06\"/>\n",
       "</g>\n",
       "<!-- get_shopping_cart -->\n",
       "<g id=\"node7\" class=\"node\">\n",
       "<title>get_shopping_cart</title>\n",
       "<ellipse fill=\"lightgreen\" stroke=\"black\" cx=\"547.33\" cy=\"-16.79\" rx=\"89.8\" ry=\"16.79\"/>\n",
       "<text text-anchor=\"middle\" x=\"547.33\" y=\"-11.37\" font-family=\"Arial\" font-size=\"14.00\">get_shopping_cart</text>\n",
       "</g>\n",
       "<!-- Shoping Agent&#45;&gt;get_shopping_cart -->\n",
       "<g id=\"edge7\" class=\"edge\">\n",
       "<title>Shoping Agent&#45;&gt;get_shopping_cart</title>\n",
       "<path fill=\"none\" stroke=\"black\" stroke-width=\"1.5\" stroke-dasharray=\"1,5\" d=\"M595.63,-69.1C585.84,-60.31 575.64,-50.69 567.11,-42.19\"/>\n",
       "<polygon fill=\"black\" stroke=\"black\" stroke-width=\"1.5\" points=\"569.67,-39.81 560.18,-35.11 564.67,-44.7 569.67,-39.81\"/>\n",
       "</g>\n",
       "<!-- add_to_cart -->\n",
       "<g id=\"node8\" class=\"node\">\n",
       "<title>add_to_cart</title>\n",
       "<ellipse fill=\"lightgreen\" stroke=\"black\" cx=\"716.33\" cy=\"-16.79\" rx=\"61.7\" ry=\"16.79\"/>\n",
       "<text text-anchor=\"middle\" x=\"716.33\" y=\"-11.37\" font-family=\"Arial\" font-size=\"14.00\">add_to_cart</text>\n",
       "</g>\n",
       "<!-- Shoping Agent&#45;&gt;add_to_cart -->\n",
       "<g id=\"edge9\" class=\"edge\">\n",
       "<title>Shoping Agent&#45;&gt;add_to_cart</title>\n",
       "<path fill=\"none\" stroke=\"black\" stroke-width=\"1.5\" stroke-dasharray=\"1,5\" d=\"M655.69,-69.1C665.06,-59.82 675.92,-49.63 685.87,-40.79\"/>\n",
       "<polygon fill=\"black\" stroke=\"black\" stroke-width=\"1.5\" points=\"688.1,-43.5 693.35,-34.3 683.51,-38.21 688.1,-43.5\"/>\n",
       "</g>\n",
       "<!-- remove_from_cart -->\n",
       "<g id=\"node9\" class=\"node\">\n",
       "<title>remove_from_cart</title>\n",
       "<ellipse fill=\"lightgreen\" stroke=\"black\" cx=\"885.33\" cy=\"-16.79\" rx=\"89.8\" ry=\"16.79\"/>\n",
       "<text text-anchor=\"middle\" x=\"885.33\" y=\"-11.37\" font-family=\"Arial\" font-size=\"14.00\">remove_from_cart</text>\n",
       "</g>\n",
       "<!-- Shoping Agent&#45;&gt;remove_from_cart -->\n",
       "<g id=\"edge11\" class=\"edge\">\n",
       "<title>Shoping Agent&#45;&gt;remove_from_cart</title>\n",
       "<path fill=\"none\" stroke=\"black\" stroke-width=\"1.5\" stroke-dasharray=\"1,5\" d=\"M686.76,-78.42C727.58,-65.18 783.35,-47.66 825.43,-34.86\"/>\n",
       "<polygon fill=\"black\" stroke=\"black\" stroke-width=\"1.5\" points=\"826.18,-38.29 834.74,-32.04 824.16,-31.59 826.18,-38.29\"/>\n",
       "</g>\n",
       "<!-- get_customer_info&#45;&gt;Shoping Agent -->\n",
       "<g id=\"edge4\" class=\"edge\">\n",
       "<title>get_customer_info&#45;&gt;Shoping Agent</title>\n",
       "<path fill=\"none\" stroke=\"black\" stroke-width=\"1.5\" stroke-dasharray=\"1,5\" d=\"M160.38,-27.71C173.06,-29.69 186.12,-31.73 198.33,-33.59 328.67,-53.37 480.82,-74.95 566,-87.26\"/>\n",
       "<polygon fill=\"black\" stroke=\"black\" stroke-width=\"1.5\" points=\"565.43,-90.71 575.83,-88.68 566.43,-83.79 565.43,-90.71\"/>\n",
       "</g>\n",
       "<!-- get_all_products_in_store&#45;&gt;Shoping Agent -->\n",
       "<g id=\"edge6\" class=\"edge\">\n",
       "<title>get_all_products_in_store&#45;&gt;Shoping Agent</title>\n",
       "<path fill=\"none\" stroke=\"black\" stroke-width=\"1.5\" stroke-dasharray=\"1,5\" d=\"M379.55,-31.76C433.1,-44.93 511.17,-64.74 566.39,-79.15\"/>\n",
       "<polygon fill=\"black\" stroke=\"black\" stroke-width=\"1.5\" points=\"565.4,-82.51 575.96,-81.65 567.17,-75.74 565.4,-82.51\"/>\n",
       "</g>\n",
       "<!-- get_shopping_cart&#45;&gt;Shoping Agent -->\n",
       "<g id=\"edge8\" class=\"edge\">\n",
       "<title>get_shopping_cart&#45;&gt;Shoping Agent</title>\n",
       "<path fill=\"none\" stroke=\"black\" stroke-width=\"1.5\" stroke-dasharray=\"1,5\" d=\"M569.59,-33.49C578.91,-41.33 589.84,-51.18 599.97,-60.78\"/>\n",
       "<polygon fill=\"black\" stroke=\"black\" stroke-width=\"1.5\" points=\"597.35,-63.12 606.98,-67.53 602.2,-58.07 597.35,-63.12\"/>\n",
       "</g>\n",
       "<!-- add_to_cart&#45;&gt;Shoping Agent -->\n",
       "<g id=\"edge10\" class=\"edge\">\n",
       "<title>add_to_cart&#45;&gt;Shoping Agent</title>\n",
       "<path fill=\"none\" stroke=\"black\" stroke-width=\"1.5\" stroke-dasharray=\"1,5\" d=\"M705.27,-33.49C697.93,-41.33 687.94,-51.18 677.69,-60.78\"/>\n",
       "<polygon fill=\"black\" stroke=\"black\" stroke-width=\"1.5\" points=\"675.32,-58.21 670.35,-67.56 680.07,-63.35 675.32,-58.21\"/>\n",
       "</g>\n",
       "<!-- remove_from_cart&#45;&gt;Shoping Agent -->\n",
       "<g id=\"edge12\" class=\"edge\">\n",
       "<title>remove_from_cart&#45;&gt;Shoping Agent</title>\n",
       "<path fill=\"none\" stroke=\"black\" stroke-width=\"1.5\" stroke-dasharray=\"1,5\" d=\"M845.01,-32.16C805.45,-45.14 744.61,-64.33 698.07,-78.54\"/>\n",
       "<polygon fill=\"black\" stroke=\"black\" stroke-width=\"1.5\" points=\"697.29,-75.12 688.74,-81.38 699.33,-81.82 697.29,-75.12\"/>\n",
       "</g>\n",
       "<!-- Manager Agent&#45;&gt;__end__ -->\n",
       "<g id=\"edge21\" class=\"edge\">\n",
       "<title>Manager Agent&#45;&gt;__end__</title>\n",
       "<path fill=\"none\" stroke=\"black\" stroke-width=\"1.5\" d=\"M1218.94,-78.73C1178.52,-64.86 1124.05,-46.17 1086.13,-33.16\"/>\n",
       "<polygon fill=\"black\" stroke=\"black\" stroke-width=\"1.5\" points=\"1087.67,-29.99 1077.07,-30.06 1085.4,-36.61 1087.67,-29.99\"/>\n",
       "</g>\n",
       "<!-- get_order_status -->\n",
       "<g id=\"node11\" class=\"node\">\n",
       "<title>get_order_status</title>\n",
       "<ellipse fill=\"lightgreen\" stroke=\"black\" cx=\"1190.33\" cy=\"-16.79\" rx=\"82.91\" ry=\"16.79\"/>\n",
       "<text text-anchor=\"middle\" x=\"1190.33\" y=\"-11.37\" font-family=\"Arial\" font-size=\"14.00\">get_order_status</text>\n",
       "</g>\n",
       "<!-- Manager Agent&#45;&gt;get_order_status -->\n",
       "<g id=\"edge15\" class=\"edge\">\n",
       "<title>Manager Agent&#45;&gt;get_order_status</title>\n",
       "<path fill=\"none\" stroke=\"black\" stroke-width=\"1.5\" stroke-dasharray=\"1,5\" d=\"M1237.34,-69.1C1227.77,-60.31 1217.81,-50.69 1209.49,-42.19\"/>\n",
       "<polygon fill=\"black\" stroke=\"black\" stroke-width=\"1.5\" points=\"1212.2,-39.95 1202.76,-35.13 1207.13,-44.78 1212.2,-39.95\"/>\n",
       "</g>\n",
       "<!-- order_refund -->\n",
       "<g id=\"node12\" class=\"node\">\n",
       "<title>order_refund</title>\n",
       "<ellipse fill=\"lightgreen\" stroke=\"black\" cx=\"1357.33\" cy=\"-16.79\" rx=\"65.94\" ry=\"16.79\"/>\n",
       "<text text-anchor=\"middle\" x=\"1357.33\" y=\"-11.37\" font-family=\"Arial\" font-size=\"14.00\">order_refund</text>\n",
       "</g>\n",
       "<!-- Manager Agent&#45;&gt;order_refund -->\n",
       "<g id=\"edge17\" class=\"edge\">\n",
       "<title>Manager Agent&#45;&gt;order_refund</title>\n",
       "<path fill=\"none\" stroke=\"black\" stroke-width=\"1.5\" stroke-dasharray=\"1,5\" d=\"M1296.69,-69.1C1305.99,-59.89 1316.76,-49.78 1326.66,-40.99\"/>\n",
       "<polygon fill=\"black\" stroke=\"black\" stroke-width=\"1.5\" points=\"1328.84,-43.73 1334.09,-34.52 1324.25,-38.44 1328.84,-43.73\"/>\n",
       "</g>\n",
       "<!-- create_support_ticket -->\n",
       "<g id=\"node13\" class=\"node\">\n",
       "<title>create_support_ticket</title>\n",
       "<ellipse fill=\"lightgreen\" stroke=\"black\" cx=\"1543.33\" cy=\"-16.79\" rx=\"102.53\" ry=\"16.79\"/>\n",
       "<text text-anchor=\"middle\" x=\"1543.33\" y=\"-11.37\" font-family=\"Arial\" font-size=\"14.00\">create_support_ticket</text>\n",
       "</g>\n",
       "<!-- Manager Agent&#45;&gt;create_support_ticket -->\n",
       "<g id=\"edge19\" class=\"edge\">\n",
       "<title>Manager Agent&#45;&gt;create_support_ticket</title>\n",
       "<path fill=\"none\" stroke=\"black\" stroke-width=\"1.5\" stroke-dasharray=\"1,5\" d=\"M1327.86,-79.62C1371.66,-66.31 1433.17,-48.18 1479.3,-35\"/>\n",
       "<polygon fill=\"black\" stroke=\"black\" stroke-width=\"1.5\" points=\"1480.13,-38.4 1488.79,-32.3 1478.22,-31.67 1480.13,-38.4\"/>\n",
       "</g>\n",
       "<!-- get_order_status&#45;&gt;Manager Agent -->\n",
       "<g id=\"edge16\" class=\"edge\">\n",
       "<title>get_order_status&#45;&gt;Manager Agent</title>\n",
       "<path fill=\"none\" stroke=\"black\" stroke-width=\"1.5\" stroke-dasharray=\"1,5\" d=\"M1211.93,-33.26C1221.09,-41.12 1231.86,-51.05 1241.83,-60.72\"/>\n",
       "<polygon fill=\"black\" stroke=\"black\" stroke-width=\"1.5\" points=\"1239.13,-62.98 1248.71,-67.51 1244.05,-57.99 1239.13,-62.98\"/>\n",
       "</g>\n",
       "<!-- order_refund&#45;&gt;Manager Agent -->\n",
       "<g id=\"edge18\" class=\"edge\">\n",
       "<title>order_refund&#45;&gt;Manager Agent</title>\n",
       "<path fill=\"none\" stroke=\"black\" stroke-width=\"1.5\" stroke-dasharray=\"1,5\" d=\"M1346.27,-33.49C1338.93,-41.33 1328.94,-51.18 1318.69,-60.78\"/>\n",
       "<polygon fill=\"black\" stroke=\"black\" stroke-width=\"1.5\" points=\"1316.32,-58.21 1311.35,-67.56 1321.07,-63.35 1316.32,-58.21\"/>\n",
       "</g>\n",
       "<!-- create_support_ticket&#45;&gt;Manager Agent -->\n",
       "<g id=\"edge20\" class=\"edge\">\n",
       "<title>create_support_ticket&#45;&gt;Manager Agent</title>\n",
       "<path fill=\"none\" stroke=\"black\" stroke-width=\"1.5\" stroke-dasharray=\"1,5\" d=\"M1499.36,-32.33C1455.99,-45.63 1389.28,-65.33 1339.51,-79.57\"/>\n",
       "<polygon fill=\"black\" stroke=\"black\" stroke-width=\"1.5\" points=\"1338.73,-76.15 1330.08,-82.26 1340.65,-82.88 1338.73,-76.15\"/>\n",
       "</g>\n",
       "</g>\n",
       "</svg>\n"
      ],
      "text/plain": [
       "<graphviz.sources.Source at 0x22febdcd7f0>"
      ]
     },
     "execution_count": 38,
     "metadata": {},
     "output_type": "execute_result"
    }
   ],
   "source": [
    "from agents.extensions.visualization import draw_graph\n",
    "\n",
    "draw_graph(triage_agent)"
   ]
  },
  {
   "cell_type": "code",
   "execution_count": 47,
   "id": "09e082a2",
   "metadata": {},
   "outputs": [
    {
     "data": {
      "text/plain": [
       "'Source.gv.pdf'"
      ]
     },
     "execution_count": 47,
     "metadata": {},
     "output_type": "execute_result"
    }
   ],
   "source": [
    "from agents.extensions.visualization import draw_graph\n",
    "\n",
    "draw_graph(triage_agent).view()"
   ]
  }
 ],
 "metadata": {
  "kernelspec": {
   "display_name": "Python 3",
   "language": "python",
   "name": "python3"
  },
  "language_info": {
   "codemirror_mode": {
    "name": "ipython",
    "version": 3
   },
   "file_extension": ".py",
   "mimetype": "text/x-python",
   "name": "python",
   "nbconvert_exporter": "python",
   "pygments_lexer": "ipython3",
   "version": "3.13.3"
  }
 },
 "nbformat": 4,
 "nbformat_minor": 5
}
