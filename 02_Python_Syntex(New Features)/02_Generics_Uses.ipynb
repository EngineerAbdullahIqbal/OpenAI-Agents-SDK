{
  "nbformat": 4,
  "nbformat_minor": 0,
  "metadata": {
    "colab": {
      "provenance": []
    },
    "kernelspec": {
      "name": "python3",
      "display_name": "Python 3"
    },
    "language_info": {
      "name": "python"
    }
  },
  "cells": [
    {
      "cell_type": "markdown",
      "source": [
        "Generics in Python allow you to write code that works with any data type while still preserving type information. They’re a powerful tool in the typing module that help make your code more reusable and type-safe.\n",
        "\n",
        "### Below is an explanation with examples ranging from simple to more complex:\n",
        "\n",
        "## What Are Generics?\n",
        "# Concept:\n",
        "- Generics let you create functions, classes, or data structures that can operate on a variety of data types without losing the benefit of type hints.\n",
        "## Why Use Them:\n",
        "- Reusability: Write code once and use it for different types.\n",
        "- Type Safety: They help static type checkers (like mypy) catch errors before runtime.\n",
        "- Readability: Code with generics clearly indicates that it’s designed to work with multiple types.\n"
      ],
      "metadata": {
        "id": "G5YnBr6kS3W4"
      }
    },
    {
      "cell_type": "markdown",
      "source": [
        "## Let's consider an example without generics:"
      ],
      "metadata": {
        "id": "PEQD5iz1Lh1G"
      }
    },
    {
      "cell_type": "code",
      "source": [
        "def numbers(n: int) ->int:\n",
        "  return n * 2\n",
        "\n",
        "\n",
        "print(numbers(2))\n",
        "print(numbers(4.5)) #The Error Rise When Click on numbers:  Argument of type \"float\" cannot be assigned to parameter \"n\" of type \"int\" in function \"numbers\" , \"float\" is incompatible with \"int\""
      ],
      "metadata": {
        "colab": {
          "base_uri": "https://localhost:8080/"
        },
        "id": "d9khrkq4LkRq",
        "outputId": "e4ce9adb-4917-41e8-9381-e1bcc93519a0"
      },
      "execution_count": null,
      "outputs": [
        {
          "output_type": "stream",
          "name": "stdout",
          "text": [
            "4\n",
            "9.0\n"
          ]
        }
      ]
    },
    {
      "cell_type": "markdown",
      "source": [
        "# Simple Generics Example"
      ],
      "metadata": {
        "id": "Pq_quS2dLURi"
      }
    },
    {
      "cell_type": "markdown",
      "source": [
        "from typing import TypeVar\n",
        "\n",
        "T = TypeVar(\"T\")  # Generic Type\n",
        "\n",
        "def identity(value: T) -> T:\n",
        "    return value\n",
        "\n",
        "print(identity(5))         ✅ Works with int\n",
        "\n",
        "print(identity(\"Hello\"))   ✅ Works with str\n",
        "\n",
        "print(identity([1, 2, 3]))  ✅ Works with list"
      ],
      "metadata": {
        "id": "sXw5dCiMNIHT"
      }
    },
    {
      "cell_type": "code",
      "execution_count": null,
      "metadata": {
        "colab": {
          "base_uri": "https://localhost:8080/"
        },
        "id": "Bs7n75R_LM4v",
        "outputId": "ef08b2da-9ad7-423c-87e6-e94ffc3b5cf7"
      },
      "outputs": [
        {
          "output_type": "stream",
          "name": "stdout",
          "text": [
            "2\n",
            "4.5\n",
            "Hello\n"
          ]
        }
      ],
      "source": [
        "from typing import TypeVar\n",
        "\n",
        "T = TypeVar('T')\n",
        "\n",
        "def numbers(Value: T) -> T:\n",
        "  return Value\n",
        "\n",
        "\n",
        "print(numbers(2))\n",
        "print(numbers(4.5))\n",
        "print(\"Hello\")"
      ]
    },
    {
      "cell_type": "code",
      "source": [
        "from typing import TypeVar, List\n",
        "\n",
        "# Create a type variable that can be any type.\n",
        "T = TypeVar('T')\n",
        "\n",
        "def first_item(items: List[T]) -> T:\n",
        "    \"\"\"Return the first item of a list.\"\"\"\n",
        "    return items[0]\n",
        "\n",
        "# Usage:\n",
        "print(first_item([1, 2, 3]))        # Works with integers, returns 1\n",
        "print(first_item([\"apple\", \"banana\"]))  # Works with strings, returns \"apple\"\n"
      ],
      "metadata": {
        "colab": {
          "base_uri": "https://localhost:8080/"
        },
        "id": "Uf7v0oxxTU-Z",
        "outputId": "434f10ea-1954-4ce7-e8a0-a693ab1716c0"
      },
      "execution_count": 1,
      "outputs": [
        {
          "output_type": "stream",
          "name": "stdout",
          "text": [
            "1\n",
            "apple\n"
          ]
        }
      ]
    },
    {
      "cell_type": "markdown",
      "source": [
        "## Explanation:\n",
        "- TypeVar('T'): Declares a type variable that can be any type.\n",
        "- List[T]: Indicates that the function accepts a list of any type T.\n",
        "- Return Type: The function returns an item of the same generic type.\n"
      ],
      "metadata": {
        "id": "jKOu_FPwTgvK"
      }
    },
    {
      "cell_type": "markdown",
      "source": [
        "# Class WithOut Generic"
      ],
      "metadata": {
        "id": "FYLxSpHTOoj1"
      }
    },
    {
      "cell_type": "code",
      "source": [
        "class WithOutGeneric:\n",
        "    def __init__(self, value):\n",
        "        self.value = value\n",
        "\n",
        "    def get_value(self):\n",
        "        return self.value\n",
        "\n",
        "example1 = WithOutGeneric(5)\n",
        "example2 = WithOutGeneric(\"Hello\")\n",
        "example3 = WithOutGeneric([1, 2, 3])"
      ],
      "metadata": {
        "id": "wJwd2r30OYPD"
      },
      "execution_count": null,
      "outputs": []
    },
    {
      "cell_type": "code",
      "source": [
        "print(example1.get_value())\n",
        "print(example2.get_value())\n",
        "print(example3.get_value())"
      ],
      "metadata": {
        "colab": {
          "base_uri": "https://localhost:8080/"
        },
        "id": "wyLyzTWEOjNi",
        "outputId": "567e8d52-efff-4cd5-ad06-6a6d41a9fbcd"
      },
      "execution_count": null,
      "outputs": [
        {
          "output_type": "stream",
          "name": "stdout",
          "text": [
            "5\n",
            "Hello\n",
            "[1, 2, 3]\n"
          ]
        }
      ]
    },
    {
      "cell_type": "markdown",
      "source": [
        "# Generics In Classes"
      ],
      "metadata": {
        "id": "oG3Ull-rNpI2"
      }
    },
    {
      "cell_type": "code",
      "source": [
        "from typing import Generic\n",
        "\n",
        "T = TypeVar('T')\n",
        "\n",
        "class Stack(Generic[T]):\n",
        "    def __init__(self) -> None:\n",
        "        self._items: List[T] = []  # A list to store items of type T\n",
        "\n",
        "    def push(self, item: T) -> None:\n",
        "        self._items.append(item)\n",
        "\n",
        "    def pop(self) -> T:\n",
        "        return self._items.pop()\n",
        "\n",
        "    def is_empty(self) -> bool:\n",
        "        return not self._items\n",
        "\n",
        "# Usage:\n",
        "int_stack = Stack[int]()\n",
        "int_stack.push(10)\n",
        "int_stack.push(20)\n",
        "print(int_stack.pop())  # Returns 20\n",
        "\n",
        "str_stack = Stack[str]()\n",
        "str_stack.push(\"hello\")\n",
        "str_stack.push(\"world\")\n",
        "print(str_stack.pop())  # Returns \"world\"\n"
      ],
      "metadata": {
        "colab": {
          "base_uri": "https://localhost:8080/"
        },
        "id": "roEGzItPT4Cr",
        "outputId": "cc4d9dad-7553-49eb-bc51-38cff83681fd"
      },
      "execution_count": 2,
      "outputs": [
        {
          "output_type": "stream",
          "name": "stdout",
          "text": [
            "20\n",
            "world\n"
          ]
        }
      ]
    },
    {
      "cell_type": "markdown",
      "source": [
        "## Explanation:\n",
        "- Generic[T]: Indicates that Stack is a `generic class` parameterized by type `T`.\n",
        "- Type Annotation: The list `_items` holds elements of type `T`.\n",
        "- Type Safety: The stack will only accept and return items of the specified type.\n"
      ],
      "metadata": {
        "id": "XyEF4YFNUWOt"
      }
    },
    {
      "cell_type": "code",
      "source": [
        "from typing import TypeVar , Generic\n",
        "\n",
        "T = TypeVar('T')\n",
        "\n",
        "class GenericClass(Generic[T]):\n",
        "    def __init__(self, value: T):\n",
        "        self.value = value\n",
        "\n",
        "    def get_value(self) -> T:\n",
        "        return self.value\n",
        "\n",
        "\n",
        "example1 : GenericClass[int] = GenericClass(5)\n",
        "example2 : GenericClass[str] = GenericClass(\"Hello\")\n",
        "example3 : GenericClass[list[int]] = GenericClass([1, 2, 3])"
      ],
      "metadata": {
        "id": "NWvVa46aMwUK"
      },
      "execution_count": null,
      "outputs": []
    },
    {
      "cell_type": "code",
      "source": [
        "print(example1.get_value())\n",
        "print(example2.get_value())\n",
        "print(example3.get_value())"
      ],
      "metadata": {
        "colab": {
          "base_uri": "https://localhost:8080/"
        },
        "id": "1mbCEnbaORGd",
        "outputId": "a317d903-2b84-45f6-b622-9f9b2302562c"
      },
      "execution_count": null,
      "outputs": [
        {
          "output_type": "stream",
          "name": "stdout",
          "text": [
            "5\n",
            "Hello\n",
            "[1, 2, 3]\n"
          ]
        }
      ]
    },
    {
      "cell_type": "markdown",
      "source": [
        "# Example: Generic Key-Value Pair\n"
      ],
      "metadata": {
        "id": "D_FR0xSARK1J"
      }
    },
    {
      "cell_type": "code",
      "source": [
        "K = TypeVar('K')\n",
        "V = TypeVar('V')\n",
        "\n",
        "class KeyValuePair(Generic[K, V]):\n",
        "    def __init__(self, key: K, value: V):\n",
        "        self.key = key\n",
        "        self.value = value\n",
        "\n",
        "    def get_pair(self) -> tuple[K, V]:\n",
        "        return self.key, self.value\n",
        "\n",
        "\n",
        "pair1 = KeyValuePair[str, int](\"age\", 25)\n",
        "pair2 = KeyValuePair[str, str](\"name\", \"Alice\")"
      ],
      "metadata": {
        "id": "uuCSTfG_RMlG"
      },
      "execution_count": null,
      "outputs": []
    },
    {
      "cell_type": "code",
      "source": [
        "print(pair1.get_pair())\n",
        "print(pair2.get_pair())"
      ],
      "metadata": {
        "colab": {
          "base_uri": "https://localhost:8080/"
        },
        "id": "xy6m6nS1Rc1Q",
        "outputId": "5a603b42-02b0-498b-aeab-206d845945eb"
      },
      "execution_count": null,
      "outputs": [
        {
          "output_type": "stream",
          "name": "stdout",
          "text": [
            "('age', 25)\n",
            "('name', 'Alice')\n"
          ]
        }
      ]
    },
    {
      "cell_type": "code",
      "source": [
        "from dataclasses import dataclass\n",
        "\n",
        "K = TypeVar('K')\n",
        "V = TypeVar('V')\n",
        "\n",
        "@dataclass\n",
        "class KeyValuePair(Generic[K, V]):\n",
        "        key: K\n",
        "        value: V\n",
        "\n",
        "        def get_pair(self) -> tuple[K, V]:\n",
        "            return self.key, self.value\n",
        "\n",
        "\n",
        "pair1 = KeyValuePair[str, int](\"age\", 25)\n",
        "pair2 = KeyValuePair[str, str](\"name\", \"Alice\")"
      ],
      "metadata": {
        "id": "ilyuRrFDRkxt"
      },
      "execution_count": null,
      "outputs": []
    },
    {
      "cell_type": "code",
      "source": [
        "print(pair1)\n",
        "print(pair2)"
      ],
      "metadata": {
        "colab": {
          "base_uri": "https://localhost:8080/"
        },
        "id": "Eltgzj9WSu--",
        "outputId": "bb33d17c-96fb-44d0-de83-bf82773f6132"
      },
      "execution_count": null,
      "outputs": [
        {
          "output_type": "stream",
          "name": "stdout",
          "text": [
            "KeyValuePair(key='age', value=25)\n",
            "KeyValuePair(key='name', value='Alice')\n"
          ]
        }
      ]
    },
    {
      "cell_type": "code",
      "source": [
        "from typing import Tuple, TypeVar\n",
        "\n",
        "T = TypeVar('T')\n",
        "U = TypeVar('U')\n",
        "\n",
        "def swap(a: T, b: U) -> Tuple[U, T]:\n",
        "    \"\"\"Swap two values.\"\"\"\n",
        "    return b, a\n",
        "\n",
        "# Usage:\n",
        "result = swap(100, \"Python\")\n",
        "print(result)  # Output: ('Python', 100)\n"
      ],
      "metadata": {
        "colab": {
          "base_uri": "https://localhost:8080/"
        },
        "id": "ub2YqhUHU8SK",
        "outputId": "0ee14882-adc9-4e03-d006-113d68ab390a"
      },
      "execution_count": 3,
      "outputs": [
        {
          "output_type": "stream",
          "name": "stdout",
          "text": [
            "('Python', 100)\n"
          ]
        }
      ]
    },
    {
      "cell_type": "markdown",
      "source": [
        "# Generics with datclass"
      ],
      "metadata": {
        "id": "rzS_C59XVzdG"
      }
    },
    {
      "cell_type": "markdown",
      "source": [
        "### Benefits of Using Generics in Dataclasses\n",
        "- Type Safety:\n",
        "Using generics, static type checkers like mypy can ensure that the type of data stored in your dataclass is consistent across your codebase.\n",
        "\n",
        "- Reusability:\n",
        "You can create highly reusable and flexible data structures without having to write separate classes for different types.\n",
        "\n",
        "- Clarity:\n",
        "Generics make it clear to anyone reading the code that your dataclass is designed to work with multiple types, and they provide useful type hints in IDEs.\n",
        "\n",
        "- In summary, combining generics with dataclasses is a powerful feature in Python that allows you to write clean, reusable, and type-safe code. Feel free to experiment with more complex generic dataclasses as you build larger applications!"
      ],
      "metadata": {
        "id": "Ai17i2XEWCtu"
      }
    },
    {
      "cell_type": "code",
      "source": [
        "from dataclasses import dataclass\n",
        "from typing import Generic, TypeVar\n",
        "\n",
        "# Create a type variable\n",
        "T = TypeVar('T')\n",
        "\n",
        "@dataclass\n",
        "class Box(Generic[T]):\n",
        "    content: T\n",
        "\n",
        "# Using the generic dataclass with different types\n",
        "int_box = Box[int](content=123)\n",
        "str_box = Box[str](content=\"Hello, Generics!\")\n",
        "\n",
        "print(int_box)  # Output: Box(content=123)\n",
        "print(str_box)  # Output: Box(content='Hello, Generics!')\n"
      ],
      "metadata": {
        "colab": {
          "base_uri": "https://localhost:8080/"
        },
        "id": "2109VcTEVXwJ",
        "outputId": "5879c283-75e2-46d1-befc-6fbc4a83a845"
      },
      "execution_count": 4,
      "outputs": [
        {
          "output_type": "stream",
          "name": "stdout",
          "text": [
            "Box(content=123)\n",
            "Box(content='Hello, Generics!')\n"
          ]
        }
      ]
    },
    {
      "cell_type": "markdown",
      "source": [
        "## Use Cases and Benefits of Using Generics\n",
        "\n",
        "### Use Cases:\n",
        "- **Reusable Data Structures:** Creating generic collections (like stacks, queues, or linked lists) that work with any type.\n",
        "- **Utility Functions:** Functions that operate on sequences or mappings, regardless of the contained type.\n",
        "- **API Design:** Libraries or frameworks can expose generic interfaces so that users get type hints and checks for their specific types.\n",
        "\n",
        "### Benefits:\n",
        "- **Improved Code Reuse:** Write a single implementation that works with multiple data types.\n",
        "- **Enhanced Static Analysis:** Tools like mypy catch type-related errors early in development.\n",
        "- **Better Documentation:** Type hints provide clarity on how functions and classes should be used.\n",
        "- **Flexibility:** Maintain flexibility without sacrificing type safety.\n",
        "\n",
        "---\n",
        "\n",
        "### Summary\n",
        "\n",
        "Generics are a fundamental part of Python's type hinting system. They let you write functions and classes that are flexible yet type-safe. Whether you're implementing a simple utility function or building a complex, reusable data structure, generics help you write cleaner and more maintainable code."
      ],
      "metadata": {
        "id": "MZEAc2TsVBTV"
      }
    },
    {
      "cell_type": "code",
      "source": [],
      "metadata": {
        "id": "2jUsAQ5NVHDK"
      },
      "execution_count": null,
      "outputs": []
    }
  ]
}