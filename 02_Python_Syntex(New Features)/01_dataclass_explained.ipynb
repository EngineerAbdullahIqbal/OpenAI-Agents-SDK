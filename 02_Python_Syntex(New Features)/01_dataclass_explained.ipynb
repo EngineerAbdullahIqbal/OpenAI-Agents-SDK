{
  "cells": [
    {
      "cell_type": "markdown",
      "metadata": {
        "id": "4bctt4M3K1Ly"
      },
      "source": [
        "\n",
        "# dataclass\n",
        "---\n",
        "\n"
      ]
    },
    {
      "cell_type": "markdown",
      "metadata": {
        "id": "6dov15mMKZ5J"
      },
      "source": [
        "Python’s `dataclass` decorator (introduced in Python 3.7) provides an easy way to create classes that `primarily store data without having to write a lot of boilerplate code.` By simply adding the @dataclass decorator above a class definition, Python automatically generates methods like `__init__()`, `__repr__`(), and `__eq__()` based on the class attributes.\n",
        "\n",
        "`Below are some examples ranging from simple to more complex:`"
      ]
    },
    {
      "cell_type": "code",
      "execution_count": 1,
      "metadata": {
        "id": "KRwOmmGjSAu7"
      },
      "outputs": [],
      "source": [
        "from dataclasses import dataclass"
      ]
    },
    {
      "cell_type": "code",
      "execution_count": 2,
      "metadata": {
        "colab": {
          "base_uri": "https://localhost:8080/"
        },
        "id": "hRZCpJXULAL6",
        "outputId": "b8fdcbb6-90d2-4087-f73e-945f9090102b"
      },
      "outputs": [
        {
          "name": "stdout",
          "output_type": "stream",
          "text": [
            "Point(x=10, y=20)\n"
          ]
        }
      ],
      "source": [
        "@dataclass\n",
        "class Point:\n",
        "    x: int\n",
        "    y: int\n",
        "\n",
        "# Creating an instance of Point\n",
        "p = Point(10, 20)\n",
        "print(p)  # Output: Point(x=10, y=20)\n"
      ]
    },
    {
      "cell_type": "markdown",
      "metadata": {
        "id": "qgm2zUybLO-l"
      },
      "source": [
        "- In this example, Python automatically creates the `__init__` method for initializing x and y, and a readable `__repr__` method for printing."
      ]
    },
    {
      "cell_type": "code",
      "execution_count": 7,
      "metadata": {
        "colab": {
          "base_uri": "https://localhost:8080/"
        },
        "id": "shgQaImsF93Q",
        "outputId": "82134ec6-c03b-4da5-ca14-5a6742a9bbbc"
      },
      "outputs": [
        {
          "name": "stdout",
          "output_type": "stream",
          "text": [
            "Person(name='Alice', age=25)\n",
            "False\n"
          ]
        }
      ],
      "source": [
        "from dataclasses import dataclass\n",
        "\n",
        "@dataclass\n",
        "class Person:\n",
        "    name: str\n",
        "    age: int = 25  # Default value for age\n",
        "\n",
        "p1 = Person(\"Alice\")\n",
        "p2 = Person(\"Bob\", 30)\n",
        "\n",
        "print(p1)            # Calls __repr__()\n",
        "print(p1 == p2)      # Calls __eq__()"
      ]
    },
    {
      "cell_type": "markdown",
      "metadata": {
        "id": "wriPaBvqLhJd"
      },
      "source": [
        "## Another Useful Example\n",
        "A dataclass that includes default values and mutable default fields using `field:`"
      ]
    },
    {
      "cell_type": "code",
      "execution_count": null,
      "metadata": {
        "colab": {
          "base_uri": "https://localhost:8080/"
        },
        "id": "PcQqKLNaLm7c",
        "outputId": "e36d0f00-fa62-4cc9-a52d-267c4d4aa4e7"
      },
      "outputs": [
        {
          "name": "stdout",
          "output_type": "stream",
          "text": [
            "Person(name='Alice', age=30, hobbies=['Reading', 'Coding'])\n"
          ]
        }
      ],
      "source": [
        "from dataclasses import dataclass, field\n",
        "from typing import List\n",
        "\n",
        "@dataclass\n",
        "class Person:\n",
        "    name: str\n",
        "    age: int = 30  # default age is 30\n",
        "    hobbies: List[str] = field(default_factory=list)\n",
        "\n",
        "# Creating a Person instance without providing hobbies\n",
        "person = Person(\"Alice\")\n",
        "person.hobbies.append(\"Reading\")\n",
        "person.hobbies.append(\"Coding\")\n",
        "print(person)  # Output: Person(name='Alice', age=30, hobbies=['Reading' , 'Coding', ])\n"
      ]
    },
    {
      "cell_type": "markdown",
      "metadata": {
        "id": "EnGZZHngRCON"
      },
      "source": [
        "Let's break down the line:\n",
        "\n",
        "```python\n",
        "employees: List[Employee] = field(default_factory=list)\n",
        "```\n",
        "\n",
        "This line is part of a dataclass definition, and it does a few things:\n",
        "\n",
        "1. **What is `field`?**\n",
        "\n",
        "   - `field` is a helper function from Python’s `dataclasses` module.\n",
        "   - It allows you to customize the behavior of a dataclass attribute.\n",
        "   - With `field()`, you can specify additional metadata or instructions (like default values, default factories, or how the field should be handled during comparison).\n",
        "\n",
        "2. **What is `default_factory`?**\n",
        "\n",
        "   - `default_factory` is a parameter you pass to `field()`.\n",
        "   - It expects a function (or callable) that returns the default value for that attribute.\n",
        "   - In our example, we set `default_factory=list`, which means that every time a new instance of the dataclass is created, Python will call `list()` (i.e., create a new empty list) to use as the default value for `employees`.\n",
        "\n",
        "3. **Why don’t we just pass an empty list `[]` directly?**\n",
        "\n",
        "   - If you pass an empty list directly (like `employees: List[Employee] = []`), that same list would be shared by every instance of the class. This is because default values for function arguments or class attributes are evaluated only once at the time of function definition (or class definition), not each time the function is called (or the class is instantiated).\n",
        "   - By using `default_factory=list`, you ensure that each new instance of your dataclass gets its own separate empty list. This prevents bugs that might arise from accidentally modifying a shared list between instances.\n",
        "\n",
        "---\n",
        "\n",
        "### In Summary\n",
        "\n",
        "- **`field`**: A function used to define metadata and customize how a dataclass attribute behaves.\n",
        "- **`default_factory`**: A way to provide a callable that generates a fresh default value (like a new empty list) every time an instance is created.\n",
        "- **Avoiding `[]` directly**: Prevents the common pitfall of using mutable default arguments that get shared across all instances, leading to unexpected behavior.\n",
        "\n",
        "Does that make sense?"
      ]
    },
    {
      "cell_type": "markdown",
      "metadata": {
        "id": "ivdYjxPWGYY9"
      },
      "source": [
        "# without dataclass"
      ]
    },
    {
      "cell_type": "code",
      "execution_count": null,
      "metadata": {
        "colab": {
          "base_uri": "https://localhost:8080/"
        },
        "id": "b63BzlKsGD1-",
        "outputId": "85b304c1-e8f8-4f6f-d0d4-a13af6db422c"
      },
      "outputs": [
        {
          "name": "stdout",
          "output_type": "stream",
          "text": [
            "Person(name='Alice', age=25)\n",
            "False\n"
          ]
        }
      ],
      "source": [
        "class Person:\n",
        "    def __init__(self, name: str, age: int = 25):  # ✅ Default values applied here\n",
        "        self.name = name\n",
        "        self.age = age\n",
        "\n",
        "    def __repr__(self):  # ✅ For debugging and printing objects\n",
        "        return f\"Person(name={self.name!r}, age={self.age!r})\"\n",
        "\n",
        "    def __eq__(self, other):  # ✅ Checks if two objects are equal\n",
        "        if not isinstance(other, Person):\n",
        "            return NotImplemented\n",
        "        return (self.name, self.age) == (other.name, other.age)\n",
        "\n",
        "p1 = Person(\"Alice\")\n",
        "p2 = Person(\"Bob\", 30)\n",
        "\n",
        "print(p1)\n",
        "print(p1 == p2)"
      ]
    },
    {
      "cell_type": "markdown",
      "metadata": {
        "id": "NlrSKnEGHo92"
      },
      "source": [
        "# dataclass with Comparison Methods"
      ]
    },
    {
      "cell_type": "code",
      "execution_count": null,
      "metadata": {
        "colab": {
          "base_uri": "https://localhost:8080/"
        },
        "id": "mUZBhcwzGyBo",
        "outputId": "0a749e75-08ea-4777-d42d-259b14fdddb3"
      },
      "outputs": [
        {
          "name": "stdout",
          "output_type": "stream",
          "text": [
            "True\n",
            "False\n"
          ]
        }
      ],
      "source": [
        "@dataclass(order=True)\n",
        "class Employee:\n",
        "    id: int\n",
        "    name: str\n",
        "\n",
        "e1 = Employee(1, \"Alice\")\n",
        "e2 = Employee(2, \"Bob\")\n",
        "\n",
        "print(e1 < e2)  # ✅ Calls __lt__()\n",
        "print(e1 > e2)  # ✅ Calls __gt__()"
      ]
    },
    {
      "cell_type": "code",
      "execution_count": null,
      "metadata": {
        "colab": {
          "base_uri": "https://localhost:8080/"
        },
        "id": "IZ78_Z3VG2K4",
        "outputId": "a80a5024-0c20-467d-a8b9-105d44baaa84"
      },
      "outputs": [
        {
          "name": "stdout",
          "output_type": "stream",
          "text": [
            "True\n",
            "False\n"
          ]
        }
      ],
      "source": [
        "@dataclass(order=True)\n",
        "class StudentGroup:\n",
        "  name: str\n",
        "  age : int\n",
        "\n",
        "S1 = StudentGroup('Abdullah' , 19)\n",
        "S2 = StudentGroup('Asif' , 20)\n",
        "\n",
        "print(S1 < S2)\n",
        "print(S1 > S2)\n"
      ]
    },
    {
      "cell_type": "markdown",
      "metadata": {
        "id": "InYp4MzaMkcM"
      },
      "source": [
        "# Complex Example\n",
        "A more advanced use-case: managing a department with multiple employees. This example demonstrates nested dataclasses, default factories, and adding methods to work with the data.\n",
        "\n"
      ]
    },
    {
      "cell_type": "code",
      "execution_count": 8,
      "metadata": {
        "colab": {
          "base_uri": "https://localhost:8080/"
        },
        "id": "6_5X_DNiMssC",
        "outputId": "ea1cd106-87b3-4287-a8a0-4719091d38ae"
      },
      "outputs": [
        {
          "name": "stdout",
          "output_type": "stream",
          "text": [
            "Department(name='Engineering', employees=[Employee(name='Bob', salary=70000), Employee(name='Carol', salary=80000)])\n",
            "Total Salary: 150000\n"
          ]
        }
      ],
      "source": [
        "from dataclasses import dataclass, field\n",
        "from typing import List\n",
        "\n",
        "@dataclass\n",
        "class Employee:\n",
        "    name: str\n",
        "    salary: float\n",
        "\n",
        "@dataclass\n",
        "class Department:\n",
        "    name: str\n",
        "    employees: List[Employee] = field(default_factory=list)\n",
        "\n",
        "    def add_employee(self, employee: Employee):\n",
        "        self.employees.append(employee)\n",
        "\n",
        "    def total_salary(self) -> float:\n",
        "        return sum(emp.salary for emp in self.employees)\n",
        "\n",
        "# Creating department and employee instances\n",
        "dept = Department(\"Engineering\")\n",
        "dept.add_employee(Employee(\"Bob\", 70000))\n",
        "dept.add_employee(Employee(\"Carol\", 80000))\n",
        "\n",
        "print(dept)\n",
        "print(\"Total Salary:\", dept.total_salary())\n"
      ]
    },
    {
      "cell_type": "code",
      "execution_count": 11,
      "metadata": {
        "colab": {
          "base_uri": "https://localhost:8080/"
        },
        "id": "V08t7Mf4NO7m",
        "outputId": "23148251-c1f5-4a23-ca2c-d09186980ef6"
      },
      "outputs": [
        {
          "data": {
            "text/plain": [
              "[Employee(name='Bob', salary=70000), Employee(name='Carol', salary=80000)]"
            ]
          },
          "execution_count": 11,
          "metadata": {},
          "output_type": "execute_result"
        }
      ],
      "source": [
        "dept.employees"
      ]
    },
    {
      "cell_type": "markdown",
      "metadata": {
        "id": "C5v82gXvN5ly"
      },
      "source": [
        "### Benefits of Using Dataclasses\n",
        "\n",
        "- **Reduced Boilerplate:** Automatically generates common methods (like `__init__`, `__repr__`, and `__eq__`), making your code more concise and readable.\n",
        "- **Type Annotations:** Encourages the use of type hints, which improves code clarity and assists with static analysis.\n",
        "- **Immutability Option:** You can create immutable dataclasses by setting `frozen=True`, which makes instances hashable and their attributes read-only.\n",
        "- **Built-in Comparison:** With parameters like `order=True`, you can automatically generate comparison methods, making it easy to sort and compare instances.\n",
        "- **Customization:** You can still override auto-generated methods or add your own methods, allowing for flexibility while keeping the benefits of auto-generated code.\n",
        "\n",
        "Dataclasses offer a powerful and succinct way to handle data-centric classes, making your code cleaner and more maintainable."
      ]
    }
  ],
  "metadata": {
    "colab": {
      "provenance": []
    },
    "kernelspec": {
      "display_name": "Python 3",
      "name": "python3"
    },
    "language_info": {
      "name": "python"
    }
  },
  "nbformat": 4,
  "nbformat_minor": 0
}
