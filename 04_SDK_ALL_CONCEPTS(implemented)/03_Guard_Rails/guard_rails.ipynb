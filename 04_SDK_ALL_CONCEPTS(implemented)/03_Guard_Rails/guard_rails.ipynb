{
 "cells": [
  {
   "cell_type": "code",
   "execution_count": 2,
   "metadata": {},
   "outputs": [],
   "source": [
    "!pip install -qU openai-agents"
   ]
  },
  {
   "cell_type": "code",
   "execution_count": 3,
   "metadata": {},
   "outputs": [
    {
     "name": "stderr",
     "output_type": "stream",
     "text": [
      "OPENAI_API_KEY is not set, skipping trace export\n"
     ]
    }
   ],
   "source": [
    "from agents import Agent, Runner, input_guardrail, output_guardrail \n",
    "from pydantic import BaseModel"
   ]
  },
  {
   "cell_type": "code",
   "execution_count": 5,
   "metadata": {},
   "outputs": [],
   "source": [
    "import nest_asyncio\n",
    "nest_asyncio.apply()\n",
    "import asyncio"
   ]
  },
  {
   "cell_type": "code",
   "execution_count": 6,
   "metadata": {},
   "outputs": [],
   "source": [
    "math_helper = Agent(\n",
    "    name=\"Math Helper\",\n",
    "    instructions=\"You are a math helper. Give hints or explanations for math problems, but don’t solve them completely.\"\n",
    ")"
   ]
  },
  {
   "cell_type": "code",
   "execution_count": 8,
   "metadata": {},
   "outputs": [],
   "source": [
    "@input_guardrail\n",
    "async def check_if_math(ctx, agent, question):\n",
    "    # Check if \"math\" is in the question (simple example)\n",
    "    if \"math\" in question.lower():\n",
    "        return GuardrailFunctionOutput(tripwire_triggered=False)  # Good: It’s about math\n",
    "    else:\n",
    "        return GuardrailFunctionOutput(tripwire_triggered=True)   # Bad: Not about math"
   ]
  },
  {
   "cell_type": "code",
   "execution_count": 9,
   "metadata": {},
   "outputs": [],
   "source": [
    "@output_guardrail\n",
    "async def no_full_answers(ctx, agent, answer):\n",
    "    # If the answer has \"=\", it might be solving the problem\n",
    "    if \"=\" in answer:\n",
    "        return GuardrailFunctionOutput(tripwire_triggered=True)   # Bad: Looks like a full answer\n",
    "    else:\n",
    "        return GuardrailFunctionOutput(tripwire_triggered=False)  # Good: No full answer"
   ]
  },
  {
   "cell_type": "code",
   "execution_count": 10,
   "metadata": {},
   "outputs": [],
   "source": [
    "math_helper.input_guardrails = [check_if_math]\n",
    "math_helper.output_guardrails = [no_full_answers]\n",
    "\n",
    "# Step 5: Run the agent with a question\n",
    "async def run_agent():\n",
    "    question = \"How do I solve 5x = 10?\"  # Try asking something!\n",
    "    try:\n",
    "        result = await Runner.run(math_helper, question)\n",
    "        print(\"Answer:\", result.final_output)\n",
    "    except Exception as e:\n",
    "        print(\"Oops! Guardrail stopped it:\", str(e))"
   ]
  },
  {
   "cell_type": "code",
   "execution_count": 11,
   "metadata": {},
   "outputs": [
    {
     "name": "stdout",
     "output_type": "stream",
     "text": [
      "Oops! Guardrail stopped it: name 'GuardrailFunctionOutput' is not defined\n"
     ]
    }
   ],
   "source": [
    "asyncio.run(run_agent())"
   ]
  }
 ],
 "metadata": {
  "kernelspec": {
   "display_name": "Python 3",
   "language": "python",
   "name": "python3"
  },
  "language_info": {
   "codemirror_mode": {
    "name": "ipython",
    "version": 3
   },
   "file_extension": ".py",
   "mimetype": "text/x-python",
   "name": "python",
   "nbconvert_exporter": "python",
   "pygments_lexer": "ipython3",
   "version": "3.12.9"
  }
 },
 "nbformat": 4,
 "nbformat_minor": 2
}
