{
 "cells": [
  {
   "cell_type": "code",
   "execution_count": 1,
   "metadata": {},
   "outputs": [],
   "source": [
    "!pip install -Uq openai-agents pydantic"
   ]
  },
  {
   "cell_type": "code",
   "execution_count": null,
   "metadata": {},
   "outputs": [
    {
     "name": "stderr",
     "output_type": "stream",
     "text": [
      "OPENAI_API_KEY is not set, skipping trace export\n",
      "OPENAI_API_KEY is not set, skipping trace export\n",
      "OPENAI_API_KEY is not set, skipping trace export\n",
      "OPENAI_API_KEY is not set, skipping trace export\n",
      "OPENAI_API_KEY is not set, skipping trace export\n",
      "OPENAI_API_KEY is not set, skipping trace export\n"
     ]
    }
   ],
   "source": [
    "import os\n",
    "from dotenv import load_dotenv , find_dotenv"
   ]
  },
  {
   "cell_type": "code",
   "execution_count": null,
   "metadata": {},
   "outputs": [],
   "source": [
    "from pydantic import BaseModel\n",
    "from agents import (\n",
    "    Agent,\n",
    "    GuardrailFunctionOutput,\n",
    "    RunContextWrapper,\n",
    "    Runner,\n",
    "    TResponseInputItem,\n",
    "    input_guardrail,\n",
    "    output_guardrail,\n",
    "    AsyncOpenAI,\n",
    "    OpenAIChatCompletionsModel,\n",
    "    RunConfig\n",
    ")"
   ]
  },
  {
   "cell_type": "code",
   "execution_count": 6,
   "metadata": {},
   "outputs": [],
   "source": [
    "load_dotenv(find_dotenv())\n",
    "\n",
    "OPENROUTER_API_KEY=os.getenv('OPENROUTER_API_KEY')"
   ]
  },
  {
   "cell_type": "code",
   "execution_count": 7,
   "metadata": {},
   "outputs": [],
   "source": [
    "#Reference: https://ai.google.dev/gemini-api/docs/openai\n",
    "external_client = AsyncOpenAI(\n",
    "    api_key=OPENROUTER_API_KEY,\n",
    "    base_url=\"https://openrouter.ai/api/v1\",\n",
    ")\n",
    "\n",
    "model = OpenAIChatCompletionsModel(\n",
    "    model=\"google/gemini-2.5-pro-exp-03-25:free\",\n",
    "    openai_client=external_client\n",
    ")\n",
    "\n",
    "config = RunConfig(\n",
    "    model=model,\n",
    "    model_provider=external_client,\n",
    "    tracing_disabled=True\n",
    ")"
   ]
  },
  {
   "cell_type": "code",
   "execution_count": 8,
   "metadata": {},
   "outputs": [],
   "source": [
    "import nest_asyncio\n",
    "nest_asyncio.apply()\n",
    "import asyncio"
   ]
  },
  {
   "cell_type": "code",
   "execution_count": 9,
   "metadata": {},
   "outputs": [],
   "source": [
    "math_helper = Agent(\n",
    "    name=\"Math Helper\",\n",
    "    instructions=\"You are a math helper. Give hints or explanations for math problems, but don’t solve them completely.\",\n",
    "    model=model\n",
    ")"
   ]
  },
  {
   "cell_type": "code",
   "execution_count": 14,
   "metadata": {},
   "outputs": [],
   "source": [
    "@input_guardrail\n",
    "async def check_if_math(ctx, agent, question):\n",
    "    # Check if \"math\" is in the question (simple example)\n",
    "    if \"math\" in question.lower():\n",
    "        return GuardrailFunctionOutput(tripwire_triggered=False , output_info={\"question\": question})  # Good: It’s about math\n",
    "    else:\n",
    "        return GuardrailFunctionOutput(tripwire_triggered=True , output_info={\"question\": question})   # Bad: Not about math)   # Bad: Not about math"
   ]
  },
  {
   "cell_type": "code",
   "execution_count": 15,
   "metadata": {},
   "outputs": [],
   "source": [
    "@output_guardrail\n",
    "async def no_full_answers(ctx, agent, answer):\n",
    "    # If the answer has \"=\", it might be solving the problem\n",
    "    if \"=\" in answer:\n",
    "        return GuardrailFunctionOutput(tripwire_triggered=True , output_info={\"answer\": answer})   # Bad: Looks like a full answer\n",
    "    else:\n",
    "        return GuardrailFunctionOutput(tripwire_triggered=False , output_info={\"answer\": answer})  # Good: No full answer"
   ]
  },
  {
   "cell_type": "code",
   "execution_count": 20,
   "metadata": {},
   "outputs": [],
   "source": [
    "math_helper.input_guardrails = [check_if_math]\n",
    "math_helper.output_guardrails = [no_full_answers]\n",
    "\n",
    "# Step 5: Run the agent with a question\n",
    "async def run_agent():\n",
    "    question = \"How do I solve 5x = 10?\"  # Try asking something!\n",
    "    try:\n",
    "        result = await Runner.run(math_helper, question)\n",
    "        print(\"Answer:\", result.final_output)\n",
    "    except Exception as e:\n",
    "        print(\"Oops! Guardrail stopped it:\", str(e))"
   ]
  },
  {
   "cell_type": "code",
   "execution_count": 21,
   "metadata": {},
   "outputs": [
    {
     "name": "stdout",
     "output_type": "stream",
     "text": [
      "Oops! Guardrail stopped it: Guardrail InputGuardrail triggered tripwire\n"
     ]
    }
   ],
   "source": [
    "asyncio.run(run_agent())"
   ]
  }
 ],
 "metadata": {
  "kernelspec": {
   "display_name": "Python 3",
   "language": "python",
   "name": "python3"
  },
  "language_info": {
   "codemirror_mode": {
    "name": "ipython",
    "version": 3
   },
   "file_extension": ".py",
   "mimetype": "text/x-python",
   "name": "python",
   "nbconvert_exporter": "python",
   "pygments_lexer": "ipython3",
   "version": "3.12.9"
  }
 },
 "nbformat": 4,
 "nbformat_minor": 2
}
