{
  "cells": [
    {
      "cell_type": "markdown",
      "metadata": {
        "colab_type": "text",
        "id": "view-in-github"
      },
      "source": [
        "<a href=\"https://colab.research.google.com/github/EngineerAbdullahIqbal/OpenAI-Agents-SDK/blob/main/00_OpenAI_Agents_SDK.ipynb\" target=\"_parent\"><img src=\"https://colab.research.google.com/assets/colab-badge.svg\" alt=\"Open In Colab\"/></a>"
      ]
    },
    {
      "cell_type": "markdown",
      "metadata": {
        "id": "cCdK9dARPVnq"
      },
      "source": [
        "# Simple Agent Example"
      ]
    },
    {
      "cell_type": "code",
      "execution_count": 42,
      "metadata": {
        "id": "g69SjlsePOld"
      },
      "outputs": [],
      "source": [
        "!pip install -Uq openai-agents # install openai-agents-sdk"
      ]
    },
    {
      "cell_type": "code",
      "execution_count": 4,
      "metadata": {
        "id": "f7INb8TqQYK4"
      },
      "outputs": [],
      "source": [
        "import nest_asyncio\n",
        "nest_asyncio.apply()"
      ]
    },
    {
      "cell_type": "code",
      "execution_count": 3,
      "metadata": {
        "id": "LL-yQYNLP7Hy"
      },
      "outputs": [],
      "source": [
        "from google.colab import userdata\n",
        "\n",
        "google_api_key = userdata.get('GEMINI_API_KEY')"
      ]
    },
    {
      "cell_type": "code",
      "execution_count": 6,
      "metadata": {
        "id": "2VZaaOmwQJ9L"
      },
      "outputs": [],
      "source": [
        "from agents import AsyncOpenAI , OpenAIChatCompletionsModel\n",
        "from agents.run import RunConfig\n",
        "import asyncio\n",
        "\n",
        "external_client = AsyncOpenAI(\n",
        "    api_key=google_api_key,\n",
        "     base_url=\"https://generativelanguage.googleapis.com/v1beta/openai/\",\n",
        ")\n",
        "\n",
        "model = OpenAIChatCompletionsModel(\n",
        "    model='gemini-1.5-flash',\n",
        "    openai_client=external_client,\n",
        ")\n",
        "\n",
        "run_config = RunConfig(\n",
        "    model=model,\n",
        "    tracing_disabled=True,\n",
        ")"
      ]
    },
    {
      "cell_type": "code",
      "execution_count": 10,
      "metadata": {
        "colab": {
          "base_uri": "https://localhost:8080/"
        },
        "id": "6LyjORXPPtLT",
        "outputId": "5918c1ed-92db-4a01-9c67-7bb10f929811"
      },
      "outputs": [
        {
          "name": "stdout",
          "output_type": "stream",
          "text": [
            "Salam!  (Hello!)\n",
            "\n"
          ]
        }
      ],
      "source": [
        "from agents import Agent , Runner\n",
        "\n",
        "async def main():\n",
        "\n",
        "  agent = Agent(\n",
        "      name='Assistant',\n",
        "      instructions='Answer The User Questions in All Languages.',\n",
        "      model=model\n",
        "  )\n",
        "\n",
        "  result = await Runner.run(agent , 'mujhe salam kro' , run_config=run_config)\n",
        "\n",
        "  #print Final_output\n",
        "  print(result.final_output)\n",
        "\n",
        "\n",
        "if __name__ == '__main__':\n",
        "  asyncio.run(main())\n"
      ]
    },
    {
      "cell_type": "markdown",
      "metadata": {
        "id": "1e_CR6GUSiPl"
      },
      "source": [
        "# Multiple Agents with HandsOffs capability\n",
        "\n",
        "## HandsOffs\n",
        "-  Agents can Decide What Agent Do Particular Task\n"
      ]
    },
    {
      "cell_type": "code",
      "execution_count": 51,
      "metadata": {
        "id": "ETaIFDzCTLDg"
      },
      "outputs": [],
      "source": [
        "from agents import Agent\n",
        "\n",
        "Junior_python_developer = Agent(\n",
        "    name=\"junior Python Developer\",\n",
        "    handoff_description=\"Specialist agent for python programming\",\n",
        "    instructions=\"You provide simple solution of python code without type Hints. Base upon user Query.\",\n",
        "    model=model\n",
        ")\n",
        "\n",
        "senior_python_devloper = Agent(\n",
        "    name=\"Senior Python Developer\",\n",
        "    handoff_description=\"Specialist agent for complex Python Problems\",\n",
        "    instructions=\"You provide help with Python Type Hints. Add Type Hints To The code.\",\n",
        "    model=model\n",
        ")"
      ]
    },
    {
      "cell_type": "code",
      "execution_count": 54,
      "metadata": {
        "id": "bOu0bydTUVCx"
      },
      "outputs": [],
      "source": [
        "triage_agent = Agent(\n",
        "    name=\"Triage Agent\",\n",
        "    instructions=\"You determine which agent to use based on the user's homework question\",\n",
        "    handoffs=[Junior_python_developer , senior_python_devloper],\n",
        "    model=model\n",
        ")"
      ]
    },
    {
      "cell_type": "markdown",
      "metadata": {
        "id": "aSqbzeD7kyQT"
      },
      "source": [
        "Ways to Run an Agent\n",
        "The Runner class provides three primary methods to run an agent, each tailored to specific use cases:\n",
        "\n",
        "# 1. Runner.run()\n",
        "### Type: Asynchronous (async).\n",
        "Returns: A RunResult object once the agent completes its task.\n",
        "Use Case: Perfect for scenarios where you want the agent to work in the background without halting other operations — common in web applications or multi-tasking environments.\n",
        "How It Works: This method starts the agent asynchronously, allowing your code to continue running while the agent processes the input. You can use await to retrieve the result when it’s ready."
      ]
    },
    {
      "cell_type": "code",
      "execution_count": 64,
      "metadata": {
        "colab": {
          "base_uri": "https://localhost:8080/"
        },
        "id": "_r91yinNUXby",
        "outputId": "9ed620d8-2758-47d0-8acd-968a9f4ac0a2"
      },
      "outputs": [
        {
          "name": "stdout",
          "output_type": "stream",
          "text": [
            "```python\n",
            "def add_numbers(x: int, y: int) -> int:\n",
            "  \"\"\"Adds two numbers together.\n",
            "\n",
            "  Args:\n",
            "    x: The first number.\n",
            "    y: The second number.\n",
            "\n",
            "  Returns:\n",
            "    The sum of x and y.\n",
            "  \"\"\"\n",
            "  return x + y\n",
            "```\n"
          ]
        }
      ],
      "source": [
        "async def main():\n",
        "    result = await Runner.run(triage_agent, \"write a python function to add 2 numbers with type hints.\")\n",
        "    print(result.final_output)\n",
        "\n",
        "if __name__ == \"__main__\":\n",
        "    import asyncio\n",
        "    asyncio.run(main())"
      ]
    },
    {
      "cell_type": "markdown",
      "metadata": {
        "id": "OpxkrGU7jHD9"
      },
      "source": [
        "\n",
        "# 2. Runner.run_sync()\n",
        "### Type: Synchronous (sync).\n",
        "Returns: A RunResult object once the agent finishes.\n",
        "Use Case: Ideal for simple scripts or situations where you want to wait for the agent’s response before moving forward — no need to deal with async complexities.\n",
        "How It Works: It runs the agent and blocks further execution until the task is complete. Internally, it leverages Runner.run() but simplifies the process by handling the async logic for you.\n"
      ]
    },
    {
      "cell_type": "code",
      "execution_count": 65,
      "metadata": {
        "colab": {
          "base_uri": "https://localhost:8080/"
        },
        "id": "KTSZ6hq7jVFL",
        "outputId": "5a63c486-a24c-46c8-9656-9a1967a6f110"
      },
      "outputs": [
        {
          "name": "stderr",
          "output_type": "stream",
          "text": [
            "WARNING:openai.agents.tracing:OPENAI_API_KEY is not set, skipping trace export\n"
          ]
        },
        {
          "name": "stdout",
          "output_type": "stream",
          "text": [
            "```python\n",
            "def add_numbers(x: int, y: int) -> int:\n",
            "  \"\"\"Adds two numbers together.\n",
            "\n",
            "  Args:\n",
            "    x: The first number.\n",
            "    y: The second number.\n",
            "\n",
            "  Returns:\n",
            "    The sum of x and y.\n",
            "  \"\"\"\n",
            "  return x + y\n",
            "\n",
            "```\n"
          ]
        }
      ],
      "source": [
        "async def main():\n",
        "    result = Runner.run_sync(triage_agent, \"write a python function to add 2 numbers with type hints.\")\n",
        "    print(result.final_output)\n",
        "\n",
        "if __name__ == \"__main__\":\n",
        "    import asyncio\n",
        "    asyncio.run(main())"
      ]
    },
    {
      "cell_type": "markdown",
      "metadata": {
        "id": "J4wZZMitk2ZA"
      },
      "source": [
        "# 3. Runner.run_streamed()\n",
        "###Type: Asynchronous (async).\n",
        "Returns: A RunResultStreaming object, providing real-time updates as the agent works.\n",
        "Use Case: Great for applications where you want to show progress or partial results, like streaming text output to a user in a chat interface.\n",
        "How It Works: The agent runs in streaming mode, delivering events (e.g., text chunks or tool call updates) as they occur, rather than waiting for the full task to finish."
      ]
    },
    {
      "cell_type": "code",
      "execution_count": 63,
      "metadata": {
        "colab": {
          "base_uri": "https://localhost:8080/"
        },
        "id": "6iULQFOjjtTL",
        "outputId": "ffa3f526-049f-4d0c-ad11-7b53c4a1e7c6"
      },
      "outputs": [
        {
          "name": "stdout",
          "output_type": "stream",
          "text": [
            "```python\n",
            "def add_numbers(x: int, y: int) -> int:\n",
            "  \"\"\"Adds two numbers together.\n",
            "\n",
            "  Args:\n",
            "    "
          ]
        },
        {
          "name": "stderr",
          "output_type": "stream",
          "text": [
            "WARNING:openai.agents.tracing:OPENAI_API_KEY is not set, skipping trace export\n"
          ]
        },
        {
          "name": "stdout",
          "output_type": "stream",
          "text": [
            "x: The first number.\n",
            "    y: The second number.\n",
            "\n",
            "  Returns:\n",
            "    The sum of x and y.\n",
            "  \"\"\"\n",
            "  return x + y\n",
            "```\n"
          ]
        }
      ],
      "source": [
        "from openai.types.responses import ResponseTextDeltaEvent\n",
        "\n",
        "async def main():\n",
        "    result = Runner.run_streamed(triage_agent, \"write a python function to add 2 numbers with type hints.\")\n",
        "    async for event in result.stream_events():\n",
        "      if event.type == 'raw_response_event' and isinstance(event.data , ResponseTextDeltaEvent):\n",
        "        print(event.data.delta , end='' , flush=True)\n",
        "\n",
        "if __name__ == \"__main__\":\n",
        "    import asyncio\n",
        "    asyncio.run(main())"
      ]
    },
    {
      "cell_type": "markdown",
      "metadata": {
        "id": "6A2GFjftl2hC"
      },
      "source": [
        "## Output Handling:\n",
        "The LLM produces one of three types of outputs:\n",
        "Final Output: A complete response (e.g., text or a structured result) with no further actions needed — the loop ends here.\n",
        "Tool Calls: A request to use tools (e.g., fetching data or performing an action).\n",
        "Handoff: A decision to pass the task to another agent.\n",
        "### Loop Logic:\n",
        " - `If Final Output`: The loop stops, and the result is returned.\n",
        "\n",
        " - `If Tool Calls`:\n",
        "The runner executes the tools, gathers their results, and adds them to the input.\n",
        "The loop restarts with this updated input.\n",
        " - `If Handoff`:\n",
        "The current agent switches to the new agent specified in the handoff.\n",
        "\n",
        "The loop restarts with the new agent and adjusted input (if any).\n",
        "\n",
        "\n",
        "`Termination:`\n",
        "The loop keeps running until:\n",
        "A final output is produced.\n",
        "The maximum number of turns (max_turns) is exceeded, triggering a MaxTurnsExceeded exception to prevent infinite loops.\n"
      ]
    }
  ],
  "metadata": {
    "colab": {
      "authorship_tag": "ABX9TyPcAjbfhhriFHFJjn6jrqJh",
      "include_colab_link": true,
      "provenance": []
    },
    "kernelspec": {
      "display_name": "Python 3",
      "name": "python3"
    },
    "language_info": {
      "name": "python"
    }
  },
  "nbformat": 4,
  "nbformat_minor": 0
}
